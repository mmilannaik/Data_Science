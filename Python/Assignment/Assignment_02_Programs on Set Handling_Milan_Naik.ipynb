{
 "cells": [
  {
   "cell_type": "markdown",
   "metadata": {},
   "source": [
    "### WAP to find number of vowels present in a string using sets"
   ]
  },
  {
   "cell_type": "code",
   "execution_count": 3,
   "metadata": {},
   "outputs": [
    {
     "name": "stdout",
     "output_type": "stream",
     "text": [
      "Enter the string: i am the best\n",
      "4\n"
     ]
    }
   ],
   "source": [
    "a=str(input('Enter the string: '))\n",
    "b=set('aeiou')\n",
    "count=0\n",
    "for i in a:\n",
    "    if i in b:\n",
    "        count=count+1\n",
    "print(count)"
   ]
  },
  {
   "cell_type": "markdown",
   "metadata": {},
   "source": [
    "### WAP to check common letters in two input strings"
   ]
  },
  {
   "cell_type": "code",
   "execution_count": 9,
   "metadata": {},
   "outputs": [
    {
     "name": "stdout",
     "output_type": "stream",
     "text": [
      "Enter the 1st string: i am the\n",
      "Enter the 2nd string: am good\n",
      "['a', ' ', 'm']\n",
      "a\n",
      " \n",
      "m\n"
     ]
    }
   ],
   "source": [
    "a=str(input('Enter the 1st string: '))\n",
    "b=str(input('Enter the 2nd string: '))\n",
    "c=list(set(a)&set(b))\n",
    "print(c)\n",
    "for i in c:\n",
    "    print(i)"
   ]
  },
  {
   "cell_type": "markdown",
   "metadata": {},
   "source": [
    "### WAP  that Displays which Letters are in the First String but not in the Second"
   ]
  },
  {
   "cell_type": "code",
   "execution_count": 10,
   "metadata": {},
   "outputs": [
    {
     "name": "stdout",
     "output_type": "stream",
     "text": [
      "Enter the 1st string: milan am\n",
      "Enter the 2nd string: nano a\n",
      "['l', 'i', 'm']\n",
      "l\n",
      "i\n",
      "m\n"
     ]
    }
   ],
   "source": [
    "a=str(input('Enter the 1st string: '))\n",
    "b=str(input('Enter the 2nd string: '))\n",
    "c=list(set(a)-set(b))\n",
    "print(c)\n",
    "for i in c:\n",
    "    print(i)"
   ]
  },
  {
   "cell_type": "markdown",
   "metadata": {},
   "source": [
    "### WAP  that Displays which Letters are Present in Both the Strings"
   ]
  },
  {
   "cell_type": "code",
   "execution_count": 11,
   "metadata": {},
   "outputs": [
    {
     "name": "stdout",
     "output_type": "stream",
     "text": [
      "Enter the 1st string: clean body\n",
      "Enter the 2nd string: sumen dey\n",
      "['d', 'e', 'y', 'n', ' ']\n",
      "d\n",
      "e\n",
      "y\n",
      "n\n",
      " \n"
     ]
    }
   ],
   "source": [
    "a=str(input('Enter the 1st string: '))\n",
    "b=str(input('Enter the 2nd string: '))\n",
    "c=list(set(a)&set(b))\n",
    "print(c)\n",
    "for i in c:\n",
    "    print(i)"
   ]
  },
  {
   "cell_type": "markdown",
   "metadata": {},
   "source": [
    "### WAP that Displays which Letters are in the Two Strings but not in Both"
   ]
  },
  {
   "cell_type": "code",
   "execution_count": 12,
   "metadata": {},
   "outputs": [
    {
     "name": "stdout",
     "output_type": "stream",
     "text": [
      "Enter the 1st string: i am milan\n",
      "Enter the 2nd string: good looking\n",
      "['k', 'd', 'm', 'a', 'g', 'o']\n",
      "k\n",
      "d\n",
      "m\n",
      "a\n",
      "g\n",
      "o\n"
     ]
    }
   ],
   "source": [
    "a=str(input('Enter the 1st string: '))\n",
    "b=str(input('Enter the 2nd string: '))\n",
    "c=list(set(a)^set(b))\n",
    "print(c)\n",
    "for i in c:\n",
    "    print(i)"
   ]
  },
  {
   "cell_type": "markdown",
   "metadata": {},
   "source": [
    "# FILE HANDLING"
   ]
  },
  {
   "cell_type": "markdown",
   "metadata": {},
   "source": [
    "### WAP to read a content from a file"
   ]
  },
  {
   "cell_type": "code",
   "execution_count": null,
   "metadata": {},
   "outputs": [],
   "source": []
  }
 ],
 "metadata": {
  "kernelspec": {
   "display_name": "Python 3",
   "language": "python",
   "name": "python3"
  },
  "language_info": {
   "codemirror_mode": {
    "name": "ipython",
    "version": 3
   },
   "file_extension": ".py",
   "mimetype": "text/x-python",
   "name": "python",
   "nbconvert_exporter": "python",
   "pygments_lexer": "ipython3",
   "version": "3.8.5"
  }
 },
 "nbformat": 4,
 "nbformat_minor": 4
}
