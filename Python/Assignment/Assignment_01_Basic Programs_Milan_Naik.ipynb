{
 "cells": [
  {
   "cell_type": "markdown",
   "metadata": {},
   "source": [
    "###  01. WAP to Print Hello world!"
   ]
  },
  {
   "cell_type": "code",
   "execution_count": 2,
   "metadata": {},
   "outputs": [
    {
     "name": "stdout",
     "output_type": "stream",
     "text": [
      "Hello world!\n"
     ]
    }
   ],
   "source": [
    "print('Hello world!')"
   ]
  },
  {
   "cell_type": "markdown",
   "metadata": {},
   "source": [
    "### 02. WAP to declare the following variables:-\n",
    "    Int, Float,Boolean,String &Print its value"
   ]
  },
  {
   "cell_type": "code",
   "execution_count": 5,
   "metadata": {},
   "outputs": [
    {
     "name": "stdout",
     "output_type": "stream",
     "text": [
      "2\n",
      "3.0\n",
      "True\n",
      "abc\n"
     ]
    }
   ],
   "source": [
    "var_int = 2\n",
    "var_float = 3.0\n",
    "var_boolean = True\n",
    "var_string ='abc'\n",
    "\n",
    "print(var_int)\n",
    "print(var_float)\n",
    "print(var_boolean)\n",
    "print(var_string)"
   ]
  },
  {
   "cell_type": "markdown",
   "metadata": {},
   "source": [
    "### 03.WAP to calculate the Area Of Triangle"
   ]
  },
  {
   "cell_type": "code",
   "execution_count": 99,
   "metadata": {},
   "outputs": [
    {
     "name": "stdout",
     "output_type": "stream",
     "text": [
      "Enter the value of 1st side8\n",
      "Enter the value of 2nd side10\n",
      "Enter the value of 3rd side12\n",
      "39.68626966596886\n"
     ]
    }
   ],
   "source": [
    "a=int(input('Enter the value of 1st side'))\n",
    "b=int(input('Enter the value of 2nd side'))\n",
    "c=int(input('Enter the value of 3rd side'))\n",
    "\n",
    "s= (a+b+c)/2\n",
    "\n",
    "area = s*(s-a)*(s-b)*(s-c)\n",
    "triangle_area = (area) ** 0.5\n",
    "print(triangle_area)"
   ]
  },
  {
   "cell_type": "markdown",
   "metadata": {},
   "source": [
    "### 04.WAP to swap two variables"
   ]
  },
  {
   "cell_type": "code",
   "execution_count": 27,
   "metadata": {},
   "outputs": [
    {
     "name": "stdout",
     "output_type": "stream",
     "text": [
      "Enter the value of 1st variable 10\n",
      "Enter the value of 2nd variable 12\n",
      "The value of 1st variable after swapping is : 12\n",
      "the value of 2nd variable after swapping is : 10\n"
     ]
    }
   ],
   "source": [
    "a=int(input('Enter the value of 1st variable '))\n",
    "b=int(input('Enter the value of 2nd variable '))\n",
    "\n",
    "temp=a\n",
    "a=b\n",
    "b=temp\n",
    "\n",
    "print('The value of 1st variable after swapping is : {}'.format(a))\n",
    "print('the value of 2nd variable after swapping is : {}'.format(b))"
   ]
  },
  {
   "cell_type": "markdown",
   "metadata": {},
   "source": [
    "### 05. WAP to check if a number is positive, negative or 0 (Using If…elif…else)."
   ]
  },
  {
   "cell_type": "code",
   "execution_count": 31,
   "metadata": {},
   "outputs": [
    {
     "name": "stdout",
     "output_type": "stream",
     "text": [
      "Enter a number -2\n",
      "the number -2.0 is negative \n"
     ]
    }
   ],
   "source": [
    "a=float(input('Enter a number '))\n",
    "\n",
    "if(a>0):\n",
    "    print('the number {} is positive '.format(a))\n",
    "elif(a<0):\n",
    "    print('the number {} is negative '.format(a))\n",
    "else:\n",
    "    print('the number {} is zero '.format(a))"
   ]
  },
  {
   "cell_type": "markdown",
   "metadata": {},
   "source": [
    "### 06. WAP to check if a number is Even or Odd"
   ]
  },
  {
   "cell_type": "code",
   "execution_count": 6,
   "metadata": {},
   "outputs": [
    {
     "name": "stdout",
     "output_type": "stream",
     "text": [
      "Enter the number 0\n",
      "the number 0 which is entered is invalid\n"
     ]
    }
   ],
   "source": [
    "a=int(input('Enter the number '))\n",
    "if(a%2==0 and a!=0):\n",
    "    print('the number {} is even'.format(a))\n",
    "elif(a%2==1):\n",
    "    print('the number {} is odd'.format(a))\n",
    "else:\n",
    "    print('the number {} which is entered is invalid'.format(a))"
   ]
  },
  {
   "cell_type": "markdown",
   "metadata": {},
   "source": [
    "### 07. WAP to print Odd number within a given range"
   ]
  },
  {
   "cell_type": "code",
   "execution_count": 7,
   "metadata": {},
   "outputs": [
    {
     "name": "stdout",
     "output_type": "stream",
     "text": [
      "Enter the starting point of range 0\n",
      "Enter the ending point of  range 34\n",
      "1\n",
      "3\n",
      "5\n",
      "7\n",
      "9\n",
      "11\n",
      "13\n",
      "15\n",
      "17\n",
      "19\n",
      "21\n",
      "23\n",
      "25\n",
      "27\n",
      "29\n",
      "31\n",
      "33\n"
     ]
    }
   ],
   "source": [
    "a=int(input('Enter the starting point of range '))\n",
    "b=int(input('Enter the ending point of  range '))\n",
    "\n",
    "for i in range(a,b):\n",
    "    if(i%2!=0):\n",
    "        print(i)\n",
    "\n"
   ]
  },
  {
   "cell_type": "markdown",
   "metadata": {},
   "source": [
    "### 08. WAP to find the factorial of a number"
   ]
  },
  {
   "cell_type": "code",
   "execution_count": 11,
   "metadata": {},
   "outputs": [
    {
     "name": "stdout",
     "output_type": "stream",
     "text": [
      "Enter the number for which factorial to be calculated: 6\n",
      "the factorial of 6 is 720\n"
     ]
    }
   ],
   "source": [
    "a=int(input('Enter the number for which factorial to be calculated: '))\n",
    "factorial=1\n",
    "for i in range(1,a+1):\n",
    "    factorial=factorial * i\n",
    "print('the factorial of',a,'is',factorial)\n",
    "\n"
   ]
  },
  {
   "cell_type": "markdown",
   "metadata": {},
   "source": [
    "### 09. WAP to reverse a given number"
   ]
  },
  {
   "cell_type": "code",
   "execution_count": 3,
   "metadata": {},
   "outputs": [
    {
     "name": "stdout",
     "output_type": "stream",
     "text": [
      "Enter the number which is to be reversed 99\n",
      "the reverse of the number is 99\n"
     ]
    }
   ],
   "source": [
    "a=int(input('Enter the number which is to be reversed '))\n",
    "reverse=0\n",
    "while(a>0):\n",
    "    reminder = a%10\n",
    "    reverse = (reverse)*10+reminder\n",
    "    a = a//10\n",
    "print('the reverse of the number is',reverse)\n"
   ]
  },
  {
   "cell_type": "markdown",
   "metadata": {},
   "source": [
    "### 10. WAP to sum of two natural numbers"
   ]
  },
  {
   "cell_type": "code",
   "execution_count": 4,
   "metadata": {},
   "outputs": [
    {
     "name": "stdout",
     "output_type": "stream",
     "text": [
      "Enter 1st number 12\n",
      "Enter 2nd number 13\n",
      "the sum of number is 25\n"
     ]
    }
   ],
   "source": [
    "a=int(input('Enter 1st number '))\n",
    "b=int(input('Enter 2nd number '))\n",
    "\n",
    "c=a+b\n",
    "print('the sum of number is',c)"
   ]
  },
  {
   "cell_type": "markdown",
   "metadata": {},
   "source": [
    "## Strings"
   ]
  },
  {
   "cell_type": "markdown",
   "metadata": {},
   "source": [
    "### 01.WAP to reverse a string without using recursion"
   ]
  },
  {
   "cell_type": "code",
   "execution_count": 5,
   "metadata": {},
   "outputs": [
    {
     "name": "stdout",
     "output_type": "stream",
     "text": [
      "Enter the string i am milan\n",
      "nalim ma i\n"
     ]
    }
   ],
   "source": [
    "a=str(input('Enter the string '))\n",
    "print(a[::-1])"
   ]
  },
  {
   "cell_type": "markdown",
   "metadata": {},
   "source": [
    "### 02. WAP to check if string is palindrome or not"
   ]
  },
  {
   "cell_type": "code",
   "execution_count": 68,
   "metadata": {},
   "outputs": [
    {
     "name": "stdout",
     "output_type": "stream",
     "text": [
      "Enter the string naman\n",
      "the string is a palindrome\n"
     ]
    }
   ],
   "source": [
    "a=str(input('Enter the string '))\n",
    "rev_str = reversed(a)\n",
    "if(list(a)==list(rev_str)):\n",
    "    print('the string is a palindrome')\n",
    "else:\n",
    "    print('the string is not palindrome')"
   ]
  },
  {
   "cell_type": "markdown",
   "metadata": {},
   "source": [
    "### WAP to Replace all Occurrences of ‘a’ with $ in a string"
   ]
  },
  {
   "cell_type": "code",
   "execution_count": 71,
   "metadata": {},
   "outputs": [
    {
     "name": "stdout",
     "output_type": "stream",
     "text": [
      "Enter the string i am milan\n"
     ]
    },
    {
     "data": {
      "text/plain": [
       "'i $m mil$n'"
      ]
     },
     "execution_count": 71,
     "metadata": {},
     "output_type": "execute_result"
    }
   ],
   "source": [
    "a=str(input('Enter the string '))\n",
    "str.replace(a,'a','$')\n"
   ]
  },
  {
   "cell_type": "markdown",
   "metadata": {},
   "source": [
    "### WAP to Count the Number of Vowels in a string\n",
    " "
   ]
  },
  {
   "cell_type": "code",
   "execution_count": 87,
   "metadata": {},
   "outputs": [
    {
     "name": "stdout",
     "output_type": "stream",
     "text": [
      "Enter the string milano\n",
      "The no of vowels 3\n"
     ]
    }
   ],
   "source": [
    "a=str(input('Enter the string '))\n",
    "counter=0\n",
    "for i in a :\n",
    "    if(i=='a' or i=='e' or i=='o' or i=='i' or i=='u'):\n",
    "        counter=counter+1\n",
    "print('The no of vowels',counter)"
   ]
  },
  {
   "cell_type": "markdown",
   "metadata": {},
   "source": [
    "### WAP to input two strings and display the larger string without using built-infunctions"
   ]
  },
  {
   "cell_type": "code",
   "execution_count": 95,
   "metadata": {},
   "outputs": [
    {
     "name": "stdout",
     "output_type": "stream",
     "text": [
      "Enter the 1st string mil\n",
      "Enter the 2nd string i am true\n",
      "i am true\n"
     ]
    }
   ],
   "source": [
    "a=str(input('Enter the 1st string '))\n",
    "b=str(input('Enter the 2nd string '))\n",
    "\n",
    "if(a>b==True):\n",
    "    print(a)\n",
    "else:\n",
    "    print(b)"
   ]
  },
  {
   "cell_type": "markdown",
   "metadata": {},
   "source": [
    "### WAP to count the number of digits & letter in a string\n"
   ]
  },
  {
   "cell_type": "code",
   "execution_count": 119,
   "metadata": {},
   "outputs": [
    {
     "name": "stdout",
     "output_type": "stream",
     "text": [
      "Enter the string subra123\n",
      "the number of digits 3\n",
      "the number of letters 5\n"
     ]
    }
   ],
   "source": [
    "a=str(input('Enter the string '))\n",
    "d=0\n",
    "l=0\n",
    "for i in a:\n",
    "    if(i.isdigit()):\n",
    "        d=d+1\n",
    "    elif(i.isalpha()):\n",
    "        l=l+1\n",
    "    else:\n",
    "        pass\n",
    "print('the number of digits',d)\n",
    "print('the number of letters',l)"
   ]
  },
  {
   "cell_type": "markdown",
   "metadata": {},
   "source": [
    "### WAP to count the number of lowercase characters in a string"
   ]
  },
  {
   "cell_type": "code",
   "execution_count": 104,
   "metadata": {},
   "outputs": [
    {
     "name": "stdout",
     "output_type": "stream",
     "text": [
      "Enter the string Milan\n",
      "the number of digits 4\n"
     ]
    }
   ],
   "source": [
    "a=str(input('Enter the string '))\n",
    "l=0\n",
    "for i in a:\n",
    "    if(i.islower()):\n",
    "        l=l+1\n",
    "print('the number of digits',l)"
   ]
  },
  {
   "cell_type": "markdown",
   "metadata": {},
   "source": [
    "### WAP  to check if a Substring is Present in a string "
   ]
  },
  {
   "cell_type": "code",
   "execution_count": 127,
   "metadata": {},
   "outputs": [
    {
     "name": "stdout",
     "output_type": "stream",
     "text": [
      "Enter the string milan and\n",
      "Enter the substring and\n",
      "the substring and is  present in milan and\n",
      "the ocurrence of is 1\n"
     ]
    }
   ],
   "source": [
    "a=str(input('Enter the string '))\n",
    "b=str(input('Enter the substring '))\n",
    "\n",
    "if(b in a):\n",
    "    print('the substring {} is  present in {}'.format(b,a))\n",
    "else:\n",
    "    print('there substring {} is not present in {}'.format(b,a))\n"
   ]
  },
  {
   "cell_type": "markdown",
   "metadata": {},
   "source": [
    "## Lists and Tuples"
   ]
  },
  {
   "cell_type": "markdown",
   "metadata": {},
   "source": [
    "### WAP  to find largest number in a list"
   ]
  },
  {
   "cell_type": "code",
   "execution_count": 129,
   "metadata": {},
   "outputs": [
    {
     "name": "stdout",
     "output_type": "stream",
     "text": [
      "Enter the number of elements in a list5\n",
      "Enter the element56\n",
      "Enter the element66\n",
      "Enter the element12\n",
      "Enter the element90\n",
      "Enter the element14\n",
      "the largest number in the list 90\n"
     ]
    }
   ],
   "source": [
    "list1=[]\n",
    "num= int(input('Enter the number of elements in a list'))\n",
    "\n",
    "for i in range(1,num+1):\n",
    "    ele =int(input('Enter the element '))\n",
    "    list1.append(ele)\n",
    "print('the largest number in the list ',max(list1))"
   ]
  },
  {
   "cell_type": "markdown",
   "metadata": {},
   "source": [
    "### WAP to put Even and Odd elements in a List into Two Different Lists"
   ]
  },
  {
   "cell_type": "code",
   "execution_count": 136,
   "metadata": {},
   "outputs": [
    {
     "name": "stdout",
     "output_type": "stream",
     "text": [
      "Enter the number of elements in a list3\n",
      "Enter the element4\n",
      "Enter the element5\n",
      "Enter the element6\n",
      "[4, 6]\n",
      "[5]\n"
     ]
    }
   ],
   "source": [
    "list1=[]\n",
    "list_even=[]\n",
    "list_odd=[]\n",
    "num= int(input('Enter the number of elements in a list'))\n",
    "for i in range(1,num+1):\n",
    "    ele =int(input('Enter the element'))\n",
    "    list1.append(ele)\n",
    "for j in list1:\n",
    "    if(j%2==0):\n",
    "        list_even.append(j)\n",
    "    else:\n",
    "        list_odd.append(j)\n",
    "print(list_even)\n",
    "print(list_odd)"
   ]
  },
  {
   "cell_type": "markdown",
   "metadata": {},
   "source": [
    "### WAP to Read a List of Words and Return the Length of the Longest One"
   ]
  },
  {
   "cell_type": "code",
   "execution_count": 142,
   "metadata": {},
   "outputs": [
    {
     "name": "stdout",
     "output_type": "stream",
     "text": [
      "Enter the number of words you want to insert in a list5\n",
      "Enter the words long\n",
      "Enter the words longer\n",
      "Enter the words longest\n",
      "Enter the words lonnnn\n",
      "Enter the words lopngrty\n",
      "lopngrty\n"
     ]
    }
   ],
   "source": [
    "list1=[]\n",
    "num= int(input('Enter the number of words you want to insert in a list'))\n",
    "\n",
    "for i in range(1,num+1):\n",
    "    ele =str(input('Enter the words '))\n",
    "    list1.append(ele)\n",
    "max1=len(list1[0])\n",
    "temp=list1[0]\n",
    "\n",
    "for i in list1:\n",
    "    if(len(i)>max1):\n",
    "        max1=len(i)\n",
    "        temp=i\n",
    "print(temp)\n"
   ]
  },
  {
   "cell_type": "markdown",
   "metadata": {},
   "source": [
    "### WAP to  List of Tuples with the First Element as the Number and Second Element as the Square of the Number:"
   ]
  },
  {
   "cell_type": "code",
   "execution_count": 155,
   "metadata": {},
   "outputs": [
    {
     "name": "stdout",
     "output_type": "stream",
     "text": [
      "Enter the number of words you want to insert in a list3\n",
      "Enter the words 2\n",
      "Enter the words 4\n",
      "Enter the words 5\n",
      "[2, 4, 5]\n",
      "[4, 16, 25]\n",
      "((2, 4, 5), (4, 16, 25))\n"
     ]
    }
   ],
   "source": [
    "list1=[]\n",
    "list2=[]\n",
    "num= int(input('Enter the number of words you want to insert in a list'))\n",
    "\n",
    "for i in range(1,num+1):\n",
    "    ele =int(input('Enter the words '))\n",
    "    list1.append(ele)\n",
    "for each in list1:\n",
    "    list2.append(each**2)\n",
    "print(list1)\n",
    "print(list2)\n",
    "\n",
    "l1=tuple(list1)\n",
    "l2=tuple(list2)\n",
    "l=((l1,)+(l2,)) #,is used for concatenation\n",
    "print(l)\n"
   ]
  },
  {
   "cell_type": "markdown",
   "metadata": {},
   "source": [
    "### WAP to Remove the Duplicate Items from a list "
   ]
  },
  {
   "cell_type": "code",
   "execution_count": 162,
   "metadata": {},
   "outputs": [
    {
     "name": "stdout",
     "output_type": "stream",
     "text": [
      "Enter the number of words you want to insert in a list4\n",
      "Enter the words 12\n",
      "Enter the words 13\n",
      "Enter the words 14\n",
      "Enter the words 12\n",
      "[12, 13, 14, 12]\n",
      "[12, 13, 14]\n"
     ]
    }
   ],
   "source": [
    "list1=[]\n",
    "num= int(input('Enter the number of words you want to insert in a list'))\n",
    "for i in range(1,num+1):\n",
    "    ele =int(input('Enter the words '))\n",
    "    list1.append(ele)\n",
    "print(list1)\n",
    "temp=[]\n",
    "for i in list1:\n",
    "    if i not in temp:\n",
    "         temp.append(i)\n",
    "print(temp)\n"
   ]
  },
  {
   "cell_type": "markdown",
   "metadata": {},
   "source": [
    "# Dictionary"
   ]
  },
  {
   "cell_type": "markdown",
   "metadata": {},
   "source": [
    "### WAP to check if  a given key exists in a Dictionary or not"
   ]
  },
  {
   "cell_type": "code",
   "execution_count": 8,
   "metadata": {},
   "outputs": [
    {
     "name": "stdout",
     "output_type": "stream",
     "text": [
      "the key am exists\n",
      "the key  mj does not exist\n"
     ]
    }
   ],
   "source": [
    "a={'am' :10,'ak' : 20, 'al' :30}\n",
    "\n",
    "def dict_key(a,key):\n",
    "    if key in a:\n",
    "        print('the key {} exists'.format(key))\n",
    "    else:\n",
    "        print('the key  {} does not exist'.format(key))\n",
    "key = 'am'\n",
    "dict_key(a,key)\n",
    "key = 'mj'\n",
    "dict_key(a,key)"
   ]
  },
  {
   "cell_type": "markdown",
   "metadata": {},
   "source": [
    "### WAP to Sum All the Items in a Dictionary"
   ]
  },
  {
   "cell_type": "code",
   "execution_count": 11,
   "metadata": {},
   "outputs": [
    {
     "name": "stdout",
     "output_type": "stream",
     "text": [
      "60\n"
     ]
    }
   ],
   "source": [
    "a={'am' :10,'ak' : 20, 'al' :30}\n",
    "sum=0\n",
    "for i in a:\n",
    "    sum= sum +a[i]\n",
    "print(sum)"
   ]
  },
  {
   "cell_type": "markdown",
   "metadata": {},
   "source": [
    "### WAP to Remove the Given Key from a Dictionary"
   ]
  },
  {
   "cell_type": "code",
   "execution_count": 15,
   "metadata": {},
   "outputs": [
    {
     "name": "stdout",
     "output_type": "stream",
     "text": [
      "{'ak': 20, 'al': 30}\n"
     ]
    }
   ],
   "source": [
    "a={'am' :10,'ak' : 20, 'al' :30}\n",
    "del a['am']\n",
    "print(a)"
   ]
  },
  {
   "cell_type": "markdown",
   "metadata": {},
   "source": [
    "### WAP to iterate over dictionaries using for loops:"
   ]
  },
  {
   "cell_type": "code",
   "execution_count": 16,
   "metadata": {},
   "outputs": [
    {
     "name": "stdout",
     "output_type": "stream",
     "text": [
      "('am', 10)\n",
      "('ak', 20)\n",
      "('al', 30)\n"
     ]
    }
   ],
   "source": [
    "a={'am' :10,'ak' : 20, 'al' :30}\n",
    "for i in a.items():\n",
    "    print(i)"
   ]
  },
  {
   "cell_type": "markdown",
   "metadata": {},
   "source": [
    "### Write a Python program to sort a dictionary by key:"
   ]
  },
  {
   "cell_type": "code",
   "execution_count": 26,
   "metadata": {},
   "outputs": [
    {
     "name": "stdout",
     "output_type": "stream",
     "text": [
      "ak 20\n",
      "al 30\n",
      "am 10\n"
     ]
    }
   ],
   "source": [
    "a={'am' :10,'ak' : 20, 'al' :30}\n",
    "for i in sorted(a):\n",
    "    print(i,a[i])"
   ]
  },
  {
   "cell_type": "code",
   "execution_count": null,
   "metadata": {},
   "outputs": [],
   "source": []
  }
 ],
 "metadata": {
  "kernelspec": {
   "display_name": "Python 3",
   "language": "python",
   "name": "python3"
  },
  "language_info": {
   "codemirror_mode": {
    "name": "ipython",
    "version": 3
   },
   "file_extension": ".py",
   "mimetype": "text/x-python",
   "name": "python",
   "nbconvert_exporter": "python",
   "pygments_lexer": "ipython3",
   "version": "3.8.5"
  }
 },
 "nbformat": 4,
 "nbformat_minor": 4
}
