{
 "cells": [
  {
   "cell_type": "markdown",
   "metadata": {},
   "source": [
    "###  WAP to Print Hello world!"
   ]
  },
  {
   "cell_type": "code",
   "execution_count": 2,
   "metadata": {},
   "outputs": [
    {
     "name": "stdout",
     "output_type": "stream",
     "text": [
      "Hello world!\n"
     ]
    }
   ],
   "source": [
    "print('Hello world!')"
   ]
  },
  {
   "cell_type": "markdown",
   "metadata": {},
   "source": [
    "### WAP to declare the following variables:-\n",
    "    Int, Float,Boolean,String &Print its value"
   ]
  },
  {
   "cell_type": "code",
   "execution_count": 5,
   "metadata": {},
   "outputs": [
    {
     "name": "stdout",
     "output_type": "stream",
     "text": [
      "2\n",
      "3.0\n",
      "True\n",
      "abc\n"
     ]
    }
   ],
   "source": [
    "var_int = 2\n",
    "var_float = 3.0\n",
    "var_boolean = True\n",
    "var_string ='abc'\n",
    "\n",
    "print(var_int)\n",
    "print(var_float)\n",
    "print(var_boolean)\n",
    "print(var_string)"
   ]
  },
  {
   "cell_type": "markdown",
   "metadata": {},
   "source": [
    "### WAP to calculate the Area Of Triangle"
   ]
  },
  {
   "cell_type": "code",
   "execution_count": 19,
   "metadata": {},
   "outputs": [
    {
     "name": "stdout",
     "output_type": "stream",
     "text": [
      "Enter the value of 1st side11\n",
      "Enter the value of 2nd side12\n",
      "Enter the value of 3rd side13\n",
      "61.48170459575759\n"
     ]
    }
   ],
   "source": [
    "a=int(input('Enter the value of 1st side'))\n",
    "b=int(input('Enter the value of 2nd side'))\n",
    "c=int(input('Enter the value of 3rd side'))\n",
    "\n",
    "s= (a+b+c)/2\n",
    "\n",
    "area = s*(s-a)*(s-b)*(s-c)\n",
    "triangle_area = (area) ** 0.5\n",
    "print(triangle_area)"
   ]
  },
  {
   "cell_type": "markdown",
   "metadata": {},
   "source": [
    "### WAP to swap two variables"
   ]
  },
  {
   "cell_type": "code",
   "execution_count": 27,
   "metadata": {},
   "outputs": [
    {
     "name": "stdout",
     "output_type": "stream",
     "text": [
      "Enter the value of 1st variable 10\n",
      "Enter the value of 2nd variable 12\n",
      "The value of 1st variable after swapping is : 12\n",
      "the value of 2nd variable after swapping is : 10\n"
     ]
    }
   ],
   "source": [
    "a=int(input('Enter the value of 1st variable '))\n",
    "b=int(input('Enter the value of 2nd variable '))\n",
    "\n",
    "temp=a\n",
    "a=b\n",
    "b=temp\n",
    "\n",
    "print('The value of 1st variable after swapping is : {}'.format(a))\n",
    "print('the value of 2nd variable after swapping is : {}'.format(b))"
   ]
  },
  {
   "cell_type": "markdown",
   "metadata": {},
   "source": [
    "### WAP to check if a number is positive, negative or 0 (Using If…elif…else)."
   ]
  },
  {
   "cell_type": "code",
   "execution_count": 31,
   "metadata": {},
   "outputs": [
    {
     "name": "stdout",
     "output_type": "stream",
     "text": [
      "Enter a number -2\n",
      "the number -2.0 is negative \n"
     ]
    }
   ],
   "source": [
    "a=float(input('Enter a number '))\n",
    "\n",
    "if(a>0):\n",
    "    print('the number {} is positive '.format(a))\n",
    "elif(a<0):\n",
    "    print('the number {} is negative '.format(a))\n",
    "else:\n",
    "    print('the number {} is zero '.format(a))"
   ]
  },
  {
   "cell_type": "markdown",
   "metadata": {},
   "source": [
    "### WAP to check if a number is Even or Odd"
   ]
  },
  {
   "cell_type": "code",
   "execution_count": 6,
   "metadata": {},
   "outputs": [
    {
     "name": "stdout",
     "output_type": "stream",
     "text": [
      "Enter the number 0\n",
      "the number 0 which is entered is invalid\n"
     ]
    }
   ],
   "source": [
    "a=int(input('Enter the number '))\n",
    "if(a%2==0 and a!=0):\n",
    "    print('the number {} is even'.format(a))\n",
    "elif(a%2==1):\n",
    "    print('the number {} is odd'.format(a))\n",
    "else:\n",
    "    print('the number {} which is entered is invalid'.format(a))"
   ]
  },
  {
   "cell_type": "markdown",
   "metadata": {},
   "source": [
    "### WAP to print Odd number within a given range"
   ]
  },
  {
   "cell_type": "code",
   "execution_count": 7,
   "metadata": {},
   "outputs": [
    {
     "name": "stdout",
     "output_type": "stream",
     "text": [
      "Enter the starting point of range 0\n",
      "Enter the ending point of  range 34\n",
      "1\n",
      "3\n",
      "5\n",
      "7\n",
      "9\n",
      "11\n",
      "13\n",
      "15\n",
      "17\n",
      "19\n",
      "21\n",
      "23\n",
      "25\n",
      "27\n",
      "29\n",
      "31\n",
      "33\n"
     ]
    }
   ],
   "source": [
    "a=int(input('Enter the starting point of range '))\n",
    "b=int(input('Enter the ending point of  range '))\n",
    "\n",
    "for i in range(a,b):\n",
    "    if(i%2!=0):\n",
    "        print(i)\n",
    "\n"
   ]
  },
  {
   "cell_type": "markdown",
   "metadata": {},
   "source": [
    "### WAP to find the factorial of a number"
   ]
  },
  {
   "cell_type": "code",
   "execution_count": 11,
   "metadata": {},
   "outputs": [
    {
     "name": "stdout",
     "output_type": "stream",
     "text": [
      "Enter the number for which factorial to be calculated: 6\n",
      "the factorial of 6 is 720\n"
     ]
    }
   ],
   "source": [
    "a=int(input('Enter the number for which factorial to be calculated: '))\n",
    "factorial=1\n",
    "for i in range(1,a+1):\n",
    "    factorial=factorial * i\n",
    "print('the factorial of',a,'is',factorial)\n",
    "\n"
   ]
  },
  {
   "cell_type": "markdown",
   "metadata": {},
   "source": [
    "### WAP to reverse a given number"
   ]
  },
  {
   "cell_type": "code",
   "execution_count": null,
   "metadata": {},
   "outputs": [],
   "source": [
    "a=int(input('Enter the number which is to be reversed'))"
   ]
  }
 ],
 "metadata": {
  "kernelspec": {
   "display_name": "Python 3",
   "language": "python",
   "name": "python3"
  },
  "language_info": {
   "codemirror_mode": {
    "name": "ipython",
    "version": 3
   },
   "file_extension": ".py",
   "mimetype": "text/x-python",
   "name": "python",
   "nbconvert_exporter": "python",
   "pygments_lexer": "ipython3",
   "version": "3.8.5"
  }
 },
 "nbformat": 4,
 "nbformat_minor": 4
}
