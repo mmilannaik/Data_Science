{
 "cells": [
  {
   "cell_type": "markdown",
   "metadata": {},
   "source": [
    "# Python is case sensitive language. \n",
    "    For example: Class &  class are considered two different identities in python\n",
    "    \n",
    "## Difference between identifier and keyword\n",
    "\n",
    "- Identifiers\n",
    "    - An identifier is a name given to entities like class, functions, variables, etc. \n",
    "    - It helps to differentiate one entity from another.\n",
    "            Identifiers can be a combination of letters in lowercase (a to z) or uppercase (A to Z) or digits (0 to 9) or an underscore _ .\n",
    "            An identifier cannot start with a digit. \n",
    "            Keywords cannot be used as identifiers. \n",
    "            We cannot use special symbols like !, @, #, $, % etc.\n",
    "            An identifier can be of any length.\n",
    "\n",
    "- Keywords\n",
    "    - Keywords are the reserved words in Python.\n",
    "            We cannot use a keyword as a variable name, function name or any other identifier.\n",
    "            They are used to define the syntax and structure of the Python language.    \n",
    "    -In Python, keywords are case sensitive.  \n",
    "  -Refer this link for comprehensive use of different keywords:-\n",
    "  https://www.programiz.com/python-programming/keyword-list"
   ]
  },
  {
   "cell_type": "code",
   "execution_count": 1,
   "metadata": {
    "scrolled": true
   },
   "outputs": [
    {
     "name": "stdout",
     "output_type": "stream",
     "text": [
      "['False', 'None', 'True', 'and', 'as', 'assert', 'async', 'await', 'break', 'class', 'continue', 'def', 'del', 'elif', 'else', 'except', 'finally', 'for', 'from', 'global', 'if', 'import', 'in', 'is', 'lambda', 'nonlocal', 'not', 'or', 'pass', 'raise', 'return', 'try', 'while', 'with', 'yield']\n"
     ]
    }
   ],
   "source": [
    " import keyword\n",
    " print(keyword.kwlist)"
   ]
  },
  {
   "cell_type": "code",
   "execution_count": 1,
   "metadata": {},
   "outputs": [],
   "source": [
    "# keywords\n",
    "# for, while, in, list(), tuple(), str, int, float, etc\n",
    "\n",
    "sum_ =  2+2 # an example of a identifier"
   ]
  },
  {
   "cell_type": "code",
   "execution_count": 2,
   "metadata": {},
   "outputs": [],
   "source": [
    "var_int = 2\n",
    "var_float = 2.0\n",
    "var_string = 'Hello world!'"
   ]
  },
  {
   "cell_type": "code",
   "execution_count": 3,
   "metadata": {},
   "outputs": [
    {
     "name": "stdout",
     "output_type": "stream",
     "text": [
      "<class 'int'>\n",
      "<class 'float'>\n",
      "<class 'str'>\n"
     ]
    }
   ],
   "source": [
    "print(type(var_int))\n",
    "print(type(var_float))\n",
    "print(type(var_string))"
   ]
  },
  {
   "cell_type": "code",
   "execution_count": 4,
   "metadata": {},
   "outputs": [
    {
     "name": "stdout",
     "output_type": "stream",
     "text": [
      "<class 'float'>\n",
      "<class 'float'>\n",
      "<class 'str'>\n"
     ]
    }
   ],
   "source": [
    "var_int = 2.0\n",
    "var_float = 2.0\n",
    "var_string = 'Hello world!'\n",
    "\n",
    "print(type(var_int))\n",
    "print(type(var_float))\n",
    "print(type(var_string))"
   ]
  },
  {
   "cell_type": "code",
   "execution_count": 5,
   "metadata": {},
   "outputs": [
    {
     "name": "stdout",
     "output_type": "stream",
     "text": [
      "<class 'str'>\n",
      "<class 'float'>\n",
      "<class 'str'>\n",
      "<class 'complex'>\n"
     ]
    }
   ],
   "source": [
    "var_int = 'string'\n",
    "var_float = 2.0\n",
    "var_string = 'Hello world!'\n",
    "var_cmplx = 4+5j\n",
    "\n",
    "print(type(var_int))\n",
    "print(type(var_float))\n",
    "print(type(var_string))\n",
    "print(type(var_cmplx))"
   ]
  },
  {
   "cell_type": "code",
   "execution_count": 6,
   "metadata": {},
   "outputs": [
    {
     "name": "stdout",
     "output_type": "stream",
     "text": [
      "<class 'str'>\n",
      "<class 'str'>\n",
      "<class 'str'>\n",
      "<class 'str'>\n"
     ]
    }
   ],
   "source": [
    "### \n",
    "str1 = ''\n",
    "str2 = \"\"\n",
    "str3 = ''''''\n",
    "str4 = \"\"\"\"\"\"\n",
    "print(type(str1))\n",
    "print(type(str2))\n",
    "print(type(str3))\n",
    "print(type(str4))"
   ]
  },
  {
   "cell_type": "code",
   "execution_count": 7,
   "metadata": {},
   "outputs": [
    {
     "name": "stdout",
     "output_type": "stream",
     "text": [
      "she is going to school\n"
     ]
    }
   ],
   "source": [
    "print('she is going to school')"
   ]
  },
  {
   "cell_type": "code",
   "execution_count": 8,
   "metadata": {},
   "outputs": [
    {
     "name": "stdout",
     "output_type": "stream",
     "text": [
      "she's going to school\n"
     ]
    }
   ],
   "source": [
    "print(\"she's going to school\")"
   ]
  },
  {
   "cell_type": "markdown",
   "metadata": {},
   "source": [
    "She is going to the school.\n",
    "She is the topper of her class."
   ]
  },
  {
   "cell_type": "code",
   "execution_count": 9,
   "metadata": {},
   "outputs": [
    {
     "name": "stdout",
     "output_type": "stream",
     "text": [
      "She is going to the school.\n",
      "She is the topper of her class.\n"
     ]
    }
   ],
   "source": [
    "print('''She is going to the school.\n",
    "She is the topper of her class.''')"
   ]
  },
  {
   "cell_type": "code",
   "execution_count": 10,
   "metadata": {},
   "outputs": [
    {
     "name": "stdout",
     "output_type": "stream",
     "text": [
      "She is going to the school.\n",
      "She is the topper of her class.\n"
     ]
    }
   ],
   "source": [
    "print(\"\"\"She is going to the school.\n",
    "She is the topper of her class.\"\"\")"
   ]
  },
  {
   "cell_type": "code",
   "execution_count": 11,
   "metadata": {},
   "outputs": [],
   "source": [
    "str1 = '''She is going to the school.\n",
    "She is the topper of her class.'''"
   ]
  },
  {
   "cell_type": "code",
   "execution_count": 12,
   "metadata": {},
   "outputs": [
    {
     "name": "stdout",
     "output_type": "stream",
     "text": [
      "She is going to the school.\n",
      "She is the topper of her class.\n"
     ]
    }
   ],
   "source": [
    "print(str1)"
   ]
  },
  {
   "cell_type": "markdown",
   "metadata": {},
   "source": [
    "properties of the string\n",
    "    - strings are series of characters\n",
    "    - strings are immutable "
   ]
  },
  {
   "cell_type": "code",
   "execution_count": 13,
   "metadata": {},
   "outputs": [
    {
     "data": {
      "text/plain": [
       "'She is going to the school.\\nShe is the topper of her class.'"
      ]
     },
     "execution_count": 13,
     "metadata": {},
     "output_type": "execute_result"
    }
   ],
   "source": [
    "str1"
   ]
  },
  {
   "cell_type": "code",
   "execution_count": 14,
   "metadata": {},
   "outputs": [
    {
     "data": {
      "text/plain": [
       "'S'"
      ]
     },
     "execution_count": 14,
     "metadata": {},
     "output_type": "execute_result"
    }
   ],
   "source": [
    "str1[0]"
   ]
  },
  {
   "cell_type": "code",
   "execution_count": 15,
   "metadata": {},
   "outputs": [
    {
     "data": {
      "text/plain": [
       "'She'"
      ]
     },
     "execution_count": 15,
     "metadata": {},
     "output_type": "execute_result"
    }
   ],
   "source": [
    "str1[0:3] # object[start:end] where end is exluded"
   ]
  },
  {
   "cell_type": "code",
   "execution_count": 16,
   "metadata": {},
   "outputs": [],
   "source": [
    "# replace 'She' with 'C'"
   ]
  },
  {
   "cell_type": "code",
   "execution_count": 17,
   "metadata": {},
   "outputs": [
    {
     "data": {
      "text/plain": [
       "'She is going to the school.\\nShe is the topper of her class.'"
      ]
     },
     "execution_count": 17,
     "metadata": {},
     "output_type": "execute_result"
    }
   ],
   "source": [
    "# str1[0:3] = 'C' # immutable \n",
    "str1"
   ]
  },
  {
   "cell_type": "code",
   "execution_count": 18,
   "metadata": {},
   "outputs": [
    {
     "name": "stdout",
     "output_type": "stream",
     "text": [
      "False\n"
     ]
    },
    {
     "data": {
      "text/plain": [
       "['She',\n",
       " 'is',\n",
       " 'going',\n",
       " 'to',\n",
       " 'the',\n",
       " 'school.',\n",
       " 'She',\n",
       " 'is',\n",
       " 'the',\n",
       " 'topper',\n",
       " 'of',\n",
       " 'her',\n",
       " 'class.']"
      ]
     },
     "execution_count": 18,
     "metadata": {},
     "output_type": "execute_result"
    }
   ],
   "source": [
    "print(str1.islower())\n",
    "str1.split()\n",
    "# str.                     # object. + press 'Tab'"
   ]
  },
  {
   "cell_type": "code",
   "execution_count": 19,
   "metadata": {},
   "outputs": [
    {
     "data": {
      "text/plain": [
       "'She is going to the school.\\nShe is the topper of her class.'"
      ]
     },
     "execution_count": 19,
     "metadata": {},
     "output_type": "execute_result"
    }
   ],
   "source": [
    "str1"
   ]
  },
  {
   "cell_type": "code",
   "execution_count": 20,
   "metadata": {},
   "outputs": [
    {
     "name": "stdout",
     "output_type": "stream",
     "text": [
      "He is going to the school.\n",
      "He is the topper of her class.\n",
      "He is going to the school.\n",
      "She is the topper of her class.\n"
     ]
    }
   ],
   "source": [
    "print(str1.replace('She',  'He'))\n",
    "print(str1.replace('She',  'He', 1))"
   ]
  },
  {
   "cell_type": "code",
   "execution_count": 21,
   "metadata": {},
   "outputs": [
    {
     "name": "stdout",
     "output_type": "stream",
     "text": [
      "<class 'bool'>\n",
      "<class 'bool'>\n"
     ]
    }
   ],
   "source": [
    "## boolean type\n",
    "print(type(True))\n",
    "print(type(False))"
   ]
  },
  {
   "cell_type": "code",
   "execution_count": 22,
   "metadata": {},
   "outputs": [],
   "source": [
    "## basic operators in python"
   ]
  },
  {
   "cell_type": "markdown",
   "metadata": {},
   "source": [
    "Arithmetic operators: +,-,/,//,**,*,%"
   ]
  },
  {
   "cell_type": "code",
   "execution_count": 23,
   "metadata": {},
   "outputs": [
    {
     "name": "stdout",
     "output_type": "stream",
     "text": [
      "8\n",
      "2\n",
      "15\n",
      "125\n",
      "1.6666666666666667\n",
      "1\n",
      "2\n",
      "str1str2\n",
      "str1str1str1str1\n"
     ]
    }
   ],
   "source": [
    "num1 = 5\n",
    "num2 = 3\n",
    "# difference between '/' and '//', '*', '**', '%'\n",
    "print(num1+num2) # 8\n",
    "print(num1 - num2) # 2\n",
    "print(num1 * num2) # 15\n",
    "print(num1 ** num2) # exponental \n",
    "print(num1/num2) # 1.6667\n",
    "print(num1//num2) # 1 (integer division)\n",
    "print(num1%num2) # 2\n",
    "\n",
    "var1 = 'str1'\n",
    "var2 = 'str2'\n",
    "var3 = 4\n",
    "# print(var1+var3) # Error\n",
    "print(var1+var2) # str1str2 # concatenation\n",
    "print(var1*var3) # 4 times duplicate of var1\n",
    "# print(var1*var2) # Error\n",
    "# print(var1/var2) # Error"
   ]
  },
  {
   "cell_type": "code",
   "execution_count": 24,
   "metadata": {},
   "outputs": [],
   "source": [
    "# '2' + str(2)\n",
    "# a = '2'\n",
    "# b = '2'\n",
    "# a+b\n",
    "# round(1.667, 1)"
   ]
  },
  {
   "cell_type": "markdown",
   "metadata": {},
   "source": [
    "comparison operators: ==,!=,>,>=,<,<= \n",
    "    - comparison operators work on 2 operands\n",
    "    - returns boolean (True/False)"
   ]
  },
  {
   "cell_type": "code",
   "execution_count": 25,
   "metadata": {},
   "outputs": [
    {
     "name": "stdout",
     "output_type": "stream",
     "text": [
      "False\n",
      "False\n",
      "False\n",
      "True\n",
      "True\n",
      "True\n",
      "True\n",
      "False\n",
      "False\n"
     ]
    }
   ],
   "source": [
    "print(3>4) # False\n",
    "print(3>=4) # False\n",
    "print(4!=4) # False\n",
    "print(4==4) # True\n",
    "print('abc'!='xyz') # True\n",
    "print(7==7) # True\n",
    "print(8<= 8) # True\n",
    "print(9 > 9) # False\n",
    "print('A' == 'a')\n"
   ]
  },
  {
   "cell_type": "markdown",
   "metadata": {},
   "source": [
    "Logical operators: and, or, not\n",
    "    -and,or takes two operands\n",
    "    - not takes single operand\n",
    "    - return boolean\n",
    "\n",
    "    and \n",
    "     op1 op2\n",
    "     1 1   -> 1\n",
    "     1 0  -> 0\n",
    "      0 1 -> 0\n",
    "     0 0 -> 0\n",
    "\n",
    "    or\n",
    "    op1 op2 \n",
    "    1 1 -> 1\n",
    "    1 0 -> 1\n",
    "    0 1 -> 1\n",
    "    0 0 -> 0\n",
    "\n",
    "    not \n",
    "    op\n",
    "    1 -> 0\n",
    "    0 -> 1"
   ]
  },
  {
   "cell_type": "code",
   "execution_count": 26,
   "metadata": {},
   "outputs": [
    {
     "name": "stdout",
     "output_type": "stream",
     "text": [
      "False\n",
      "False\n",
      "False\n",
      "False\n",
      "False\n"
     ]
    }
   ],
   "source": [
    "print((3>5) and (7< 6)) # False\n",
    "print(True and False ) # False\n",
    "print((True and False )  or (True and False )) # False\n",
    "print((not True) and (not False)) # False and not False => False and True => False \n",
    "print(True and False and not False) # False"
   ]
  },
  {
   "cell_type": "code",
   "execution_count": 27,
   "metadata": {},
   "outputs": [],
   "source": [
    "# Bitwise operators: &, |, !\n",
    "#     False and True\n",
    "#     False & True\n",
    "#     001100 and 1000"
   ]
  },
  {
   "cell_type": "markdown",
   "metadata": {},
   "source": [
    "Assignment Operators -> =,+=,*=,-=,/=,%=,//="
   ]
  },
  {
   "cell_type": "code",
   "execution_count": 28,
   "metadata": {},
   "outputs": [
    {
     "name": "stdout",
     "output_type": "stream",
     "text": [
      "5\n",
      "5\n",
      "15\n",
      "11\n",
      "44\n",
      "8.8\n",
      "77.44000000000001\n",
      "15.0\n"
     ]
    }
   ],
   "source": [
    "n = 5\n",
    "print(n)\n",
    "n = n + 10 # adding 10 to the existing number and updating n with recent sum\n",
    "n = n - 10 # subtracting 10 to the existing number and updating n with recent difference\n",
    "\n",
    "## equivalent codes\n",
    "n = 5\n",
    "print(n) # 5\n",
    "n += 10\n",
    "print(n) # 15\n",
    "n -= 4\n",
    "print(n) # 11\n",
    "n *= 4\n",
    "print(n) # 44\n",
    "n /= 5\n",
    "print(n) # 8.22\n",
    "n **= 2\n",
    "print(n)\n",
    "n //=5\n",
    "print(n)"
   ]
  },
  {
   "cell_type": "code",
   "execution_count": 29,
   "metadata": {},
   "outputs": [
    {
     "name": "stdout",
     "output_type": "stream",
     "text": [
      "0\n",
      "0.0\n"
     ]
    }
   ],
   "source": [
    "print(5//6)\n",
    "print(5.0//6)"
   ]
  },
  {
   "cell_type": "markdown",
   "metadata": {},
   "source": [
    "Identity operator -> is, is not"
   ]
  },
  {
   "cell_type": "code",
   "execution_count": 30,
   "metadata": {},
   "outputs": [
    {
     "name": "stdout",
     "output_type": "stream",
     "text": [
      "True\n",
      "False\n"
     ]
    }
   ],
   "source": [
    "print(4 is 4) # 4==4\n",
    "print(4 is not 4) # 4!=4"
   ]
  },
  {
   "cell_type": "markdown",
   "metadata": {},
   "source": [
    "Membership operators -> in, not in\n",
    "    - return boolean True/False"
   ]
  },
  {
   "cell_type": "code",
   "execution_count": 31,
   "metadata": {},
   "outputs": [
    {
     "name": "stdout",
     "output_type": "stream",
     "text": [
      "True\n",
      "True\n",
      "False\n",
      "False\n",
      "True\n",
      "True\n",
      "False\n",
      "False\n"
     ]
    }
   ],
   "source": [
    "print(4 in [1,2,3,4,5,6])\n",
    "print(4 in [4,1,2,3,5,6])\n",
    "print(4 in [1,2,3,5,6])\n",
    "print(4 not in [1,2,3,4,5,6])\n",
    "print(4 not in [1,2,3,5,6])\n",
    "print('bangalore' in ['bangalore', 'chennai','pune'])\n",
    "print('bangalore' in ['Bangalore', 'chennai','pune'])\n",
    "print('bangalore' in [ 'chennai','pune'])"
   ]
  },
  {
   "cell_type": "code",
   "execution_count": 32,
   "metadata": {},
   "outputs": [],
   "source": [
    "# &,|,!\n",
    "# and, or,not\n",
    "# 5 & 4\n",
    "# 0100 and 1000 => False \n",
    "# 0100 & 1000 => False"
   ]
  },
  {
   "cell_type": "code",
   "execution_count": null,
   "metadata": {},
   "outputs": [],
   "source": []
  }
 ],
 "metadata": {
  "kernelspec": {
   "display_name": "Python 3",
   "language": "python",
   "name": "python3"
  },
  "language_info": {
   "codemirror_mode": {
    "name": "ipython",
    "version": 3
   },
   "file_extension": ".py",
   "mimetype": "text/x-python",
   "name": "python",
   "nbconvert_exporter": "python",
   "pygments_lexer": "ipython3",
   "version": "3.8.5"
  }
 },
 "nbformat": 4,
 "nbformat_minor": 4
}
