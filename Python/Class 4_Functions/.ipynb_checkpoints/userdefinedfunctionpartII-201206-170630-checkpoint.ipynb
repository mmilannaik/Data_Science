{
 "cells": [
  {
   "cell_type": "code",
   "execution_count": 1,
   "metadata": {},
   "outputs": [],
   "source": [
    "## In python there are two types of functions -> named function and lambda function"
   ]
  },
  {
   "cell_type": "code",
   "execution_count": 2,
   "metadata": {},
   "outputs": [],
   "source": [
    "# what a function ? A block of code for specific task"
   ]
  },
  {
   "cell_type": "markdown",
   "metadata": {},
   "source": [
    "##### Named Function (UDF)"
   ]
  },
  {
   "cell_type": "code",
   "execution_count": 3,
   "metadata": {},
   "outputs": [],
   "source": [
    "# # syntax of names function\n",
    "# def <function_name>((<params>)):\n",
    "#     <body of the function>\n",
    "#     (return <values>)     \n",
    "# # note: return and params are options"
   ]
  },
  {
   "cell_type": "code",
   "execution_count": 4,
   "metadata": {},
   "outputs": [
    {
     "name": "stdout",
     "output_type": "stream",
     "text": [
      "!!! Hello World !!!\n",
      "!!! Hello World !!!\n",
      "!!! Hello World !!!\n",
      "!!! Hello World !!!\n",
      "!!! Hello World !!!\n",
      "!!! Hello World !!!\n",
      "!!! Hello World !!!\n",
      "!!! Hello World !!!\n",
      "!!! Hello World !!!\n",
      "!!! Hello World !!!\n"
     ]
    }
   ],
   "source": [
    "for i in range(1,11):\n",
    "    print('!!! Hello World !!!')\n",
    "    ## "
   ]
  },
  {
   "cell_type": "code",
   "execution_count": 5,
   "metadata": {},
   "outputs": [
    {
     "name": "stdout",
     "output_type": "stream",
     "text": [
      "!!! Hello World !!!\n",
      "!!! Hello World !!!\n",
      "!!! Hello World !!!\n",
      "!!! Hello World !!!\n",
      "!!! Hello World !!!\n",
      "!!! Hello World !!!\n",
      "!!! Hello World !!!\n",
      "!!! Hello World !!!\n",
      "!!! Hello World !!!\n",
      "!!! Hello World !!!\n"
     ]
    }
   ],
   "source": [
    "for i in range(1,11):\n",
    "    print('!!! Hello World !!!')\n",
    "    ## "
   ]
  },
  {
   "cell_type": "code",
   "execution_count": 6,
   "metadata": {},
   "outputs": [
    {
     "name": "stdout",
     "output_type": "stream",
     "text": [
      "!!! Hello World !!!\n",
      "!!! Hello World !!!\n",
      "!!! Hello World !!!\n",
      "!!! Hello World !!!\n",
      "!!! Hello World !!!\n",
      "!!! Hello World !!!\n",
      "!!! Hello World !!!\n",
      "!!! Hello World !!!\n",
      "!!! Hello World !!!\n",
      "!!! Hello World !!!\n"
     ]
    }
   ],
   "source": [
    "for i in range(1,11):\n",
    "    print('!!! Hello World !!!')\n",
    "    ## "
   ]
  },
  {
   "cell_type": "code",
   "execution_count": 7,
   "metadata": {},
   "outputs": [
    {
     "name": "stdout",
     "output_type": "stream",
     "text": [
      "!!! Hello World !!!\n",
      "!!! Hello World !!!\n",
      "!!! Hello World !!!\n",
      "!!! Hello World !!!\n",
      "!!! Hello World !!!\n",
      "!!! Hello World !!!\n",
      "!!! Hello World !!!\n",
      "!!! Hello World !!!\n",
      "!!! Hello World !!!\n",
      "!!! Hello World !!!\n"
     ]
    }
   ],
   "source": [
    "for i in range(1,11):\n",
    "    print('!!! Hello World !!!')\n",
    "    ## "
   ]
  },
  {
   "cell_type": "markdown",
   "metadata": {},
   "source": [
    "##### a function with no argument"
   ]
  },
  {
   "cell_type": "code",
   "execution_count": 8,
   "metadata": {},
   "outputs": [],
   "source": [
    "## function defination\n",
    "def greet():\n",
    "    for i in range(1,11):\n",
    "        print('Hello World')"
   ]
  },
  {
   "cell_type": "code",
   "execution_count": 9,
   "metadata": {},
   "outputs": [
    {
     "name": "stdout",
     "output_type": "stream",
     "text": [
      "Hello World\n",
      "Hello World\n",
      "Hello World\n",
      "Hello World\n",
      "Hello World\n",
      "Hello World\n",
      "Hello World\n",
      "Hello World\n",
      "Hello World\n",
      "Hello World\n"
     ]
    }
   ],
   "source": [
    "greet()  # function call"
   ]
  },
  {
   "cell_type": "code",
   "execution_count": 10,
   "metadata": {},
   "outputs": [
    {
     "name": "stdout",
     "output_type": "stream",
     "text": [
      "Hello World\n",
      "Hello World\n",
      "Hello World\n",
      "Hello World\n",
      "Hello World\n",
      "Hello World\n",
      "Hello World\n",
      "Hello World\n",
      "Hello World\n",
      "Hello World\n"
     ]
    }
   ],
   "source": [
    "greet()"
   ]
  },
  {
   "cell_type": "code",
   "execution_count": 11,
   "metadata": {},
   "outputs": [
    {
     "name": "stdout",
     "output_type": "stream",
     "text": [
      "Hello World\n",
      "Hello World\n",
      "Hello World\n",
      "Hello World\n",
      "Hello World\n",
      "Hello World\n",
      "Hello World\n",
      "Hello World\n",
      "Hello World\n",
      "Hello World\n"
     ]
    }
   ],
   "source": [
    "greet()"
   ]
  },
  {
   "cell_type": "code",
   "execution_count": 12,
   "metadata": {},
   "outputs": [],
   "source": [
    "# # .......\n",
    "# list1 = list(range(1,100))\n",
    "# # ......."
   ]
  },
  {
   "cell_type": "markdown",
   "metadata": {},
   "source": [
    "##### a function with a argument"
   ]
  },
  {
   "cell_type": "code",
   "execution_count": 13,
   "metadata": {},
   "outputs": [],
   "source": [
    "###\n",
    "# WAF which takes 'name' and print customised greeting\n",
    "def greet(name): # example of parametric function\n",
    "    print('Hello '+name)"
   ]
  },
  {
   "cell_type": "code",
   "execution_count": 14,
   "metadata": {},
   "outputs": [
    {
     "name": "stdout",
     "output_type": "stream",
     "text": [
      "Hello Jill\n"
     ]
    }
   ],
   "source": [
    "greet('Jill')"
   ]
  },
  {
   "cell_type": "code",
   "execution_count": 15,
   "metadata": {},
   "outputs": [],
   "source": [
    "def greet(firstname, lastname): # example of parametric function\n",
    "    '''This function greets user.'''\n",
    "    print('Hello '+ lastname + ' '+firstname)"
   ]
  },
  {
   "cell_type": "code",
   "execution_count": 16,
   "metadata": {},
   "outputs": [
    {
     "name": "stdout",
     "output_type": "stream",
     "text": [
      "Hello L. Jill\n"
     ]
    }
   ],
   "source": [
    "greet(\"Jill\", \"L.\")"
   ]
  },
  {
   "cell_type": "code",
   "execution_count": 17,
   "metadata": {},
   "outputs": [
    {
     "name": "stdout",
     "output_type": "stream",
     "text": [
      "Hello Jill L.\n"
     ]
    }
   ],
   "source": [
    "greet(\"L.\", \"Jill\")"
   ]
  },
  {
   "cell_type": "code",
   "execution_count": 18,
   "metadata": {},
   "outputs": [
    {
     "name": "stdout",
     "output_type": "stream",
     "text": [
      "Hello L. Jill\n"
     ]
    }
   ],
   "source": [
    "greet(firstname='Jill', lastname='L.')"
   ]
  },
  {
   "cell_type": "code",
   "execution_count": 19,
   "metadata": {},
   "outputs": [
    {
     "name": "stdout",
     "output_type": "stream",
     "text": [
      "Hello L. Jill\n"
     ]
    }
   ],
   "source": [
    "greet( lastname='L.', firstname='Jill')"
   ]
  },
  {
   "cell_type": "code",
   "execution_count": 20,
   "metadata": {},
   "outputs": [
    {
     "name": "stdout",
     "output_type": "stream",
     "text": [
      "Hello L. Jill\n"
     ]
    }
   ],
   "source": [
    "greet('Jill', lastname='L.')"
   ]
  },
  {
   "cell_type": "code",
   "execution_count": 21,
   "metadata": {},
   "outputs": [],
   "source": [
    "# greet(firstname='Rageeni','sah') # error # invalid"
   ]
  },
  {
   "cell_type": "code",
   "execution_count": 22,
   "metadata": {},
   "outputs": [
    {
     "name": "stdout",
     "output_type": "stream",
     "text": [
      "Hello L. Jill\n"
     ]
    }
   ],
   "source": [
    "greet('Jill','L.')\n",
    "# greet('rageeni')"
   ]
  },
  {
   "cell_type": "markdown",
   "metadata": {},
   "source": [
    "##### default arguments"
   ]
  },
  {
   "cell_type": "code",
   "execution_count": 23,
   "metadata": {},
   "outputs": [],
   "source": [
    "## function with default agruments\n",
    "def greet(firstname, lastname = ''): # example of parametric function\n",
    "    '''This function greets user.'''\n",
    "    print('Hello '+ lastname + ' '+firstname)"
   ]
  },
  {
   "cell_type": "code",
   "execution_count": 24,
   "metadata": {},
   "outputs": [
    {
     "name": "stdout",
     "output_type": "stream",
     "text": [
      "Hello  Jill.\n",
      "Hello A. Jill\n"
     ]
    }
   ],
   "source": [
    "greet('Jill.')\n",
    "greet('Jill', 'A.')\n",
    "# greet()"
   ]
  },
  {
   "cell_type": "code",
   "execution_count": 25,
   "metadata": {},
   "outputs": [],
   "source": [
    "def addition(n1 = 0, n2 = 0):\n",
    "    print(n1+n2)"
   ]
  },
  {
   "cell_type": "code",
   "execution_count": 26,
   "metadata": {},
   "outputs": [
    {
     "name": "stdout",
     "output_type": "stream",
     "text": [
      "0\n",
      "2\n",
      "9\n",
      "11\n",
      "11\n",
      "11\n"
     ]
    }
   ],
   "source": [
    "addition()\n",
    "addition(2)\n",
    "addition(4,5)\n",
    "addition(4,7)\n",
    "addition(4, n2 = 7)\n",
    "addition(n1 = 4, n2 = 7)\n",
    "# addition(n1= 4, 7) # invalid"
   ]
  },
  {
   "cell_type": "code",
   "execution_count": 27,
   "metadata": {},
   "outputs": [
    {
     "name": "stdout",
     "output_type": "stream",
     "text": [
      "mtringm\n",
      "mtringm\n",
      "mtrings\n"
     ]
    }
   ],
   "source": [
    "print('strings'.replace('s','m'))\n",
    "print('strings'.replace('s','m', -1))\n",
    "print('strings'.replace('s','m', 1))"
   ]
  },
  {
   "cell_type": "code",
   "execution_count": 28,
   "metadata": {},
   "outputs": [],
   "source": [
    "# 'string'.replace"
   ]
  },
  {
   "cell_type": "markdown",
   "metadata": {},
   "source": [
    "##### none - keyworded arguments"
   ]
  },
  {
   "cell_type": "code",
   "execution_count": 29,
   "metadata": {},
   "outputs": [],
   "source": [
    "def add(n1, n2):\n",
    "    print(n1+n2)"
   ]
  },
  {
   "cell_type": "code",
   "execution_count": 30,
   "metadata": {},
   "outputs": [
    {
     "name": "stdout",
     "output_type": "stream",
     "text": [
      "7\n"
     ]
    }
   ],
   "source": [
    "add(3,4)"
   ]
  },
  {
   "cell_type": "code",
   "execution_count": 31,
   "metadata": {},
   "outputs": [],
   "source": [
    "def add(*n): # function with none keyworded agruments\n",
    "    print(sum(n)) #where # n is tuple object"
   ]
  },
  {
   "cell_type": "code",
   "execution_count": 32,
   "metadata": {},
   "outputs": [
    {
     "name": "stdout",
     "output_type": "stream",
     "text": [
      "0\n",
      "1\n",
      "3\n",
      "12\n",
      "16\n",
      "33\n"
     ]
    }
   ],
   "source": [
    "add()\n",
    "add(1)\n",
    "add(1,2)\n",
    "add(3,4,5)\n",
    "add(5,5,6)\n",
    "add(3,4,5,6,7,8)\n",
    "# add('a',3,4,5)"
   ]
  },
  {
   "cell_type": "code",
   "execution_count": null,
   "metadata": {},
   "outputs": [],
   "source": []
  },
  {
   "cell_type": "code",
   "execution_count": null,
   "metadata": {},
   "outputs": [],
   "source": []
  },
  {
   "cell_type": "code",
   "execution_count": null,
   "metadata": {},
   "outputs": [],
   "source": []
  },
  {
   "cell_type": "markdown",
   "metadata": {},
   "source": [
    "##### keyworded arguments"
   ]
  },
  {
   "cell_type": "code",
   "execution_count": 33,
   "metadata": {},
   "outputs": [],
   "source": [
    "def add(**arg): # arg is dictionary object\n",
    "    print(arg)"
   ]
  },
  {
   "cell_type": "code",
   "execution_count": 34,
   "metadata": {},
   "outputs": [
    {
     "name": "stdout",
     "output_type": "stream",
     "text": [
      "{'a': 2, 'b': 4, 'c': 6, 'd': 7}\n"
     ]
    }
   ],
   "source": [
    "add(a= 2, b = 4, c = 6, d = 7)"
   ]
  },
  {
   "cell_type": "code",
   "execution_count": 35,
   "metadata": {},
   "outputs": [],
   "source": [
    "def add(**arg):\n",
    "    values = []\n",
    "    keys = []\n",
    "    for v in arg.values():\n",
    "        values.append(v)\n",
    "    for k in arg.keys():\n",
    "        keys.append(k)  \n",
    "#     print(keys, values)    \n",
    "    print('Adding {}  and {}'.format(keys[1],keys[2]))    \n",
    "    return sum(values[1:3])    "
   ]
  },
  {
   "cell_type": "code",
   "execution_count": 36,
   "metadata": {},
   "outputs": [
    {
     "name": "stdout",
     "output_type": "stream",
     "text": [
      "Adding b  and c\n"
     ]
    },
    {
     "data": {
      "text/plain": [
       "13"
      ]
     },
     "execution_count": 36,
     "metadata": {},
     "output_type": "execute_result"
    }
   ],
   "source": [
    "add(a= 5, b = 6, c =7, d = 6 )"
   ]
  },
  {
   "cell_type": "markdown",
   "metadata": {},
   "source": [
    "##### a function returning parameters"
   ]
  },
  {
   "cell_type": "code",
   "execution_count": 37,
   "metadata": {},
   "outputs": [],
   "source": [
    "def add(n1,n2 = 0):\n",
    "    return n1+n2"
   ]
  },
  {
   "cell_type": "code",
   "execution_count": 38,
   "metadata": {},
   "outputs": [
    {
     "data": {
      "text/plain": [
       "4"
      ]
     },
     "execution_count": 38,
     "metadata": {},
     "output_type": "execute_result"
    }
   ],
   "source": [
    "result = add(4)\n",
    "result"
   ]
  },
  {
   "cell_type": "code",
   "execution_count": 39,
   "metadata": {},
   "outputs": [],
   "source": [
    "def add(n1,n2 = 0):\n",
    "    return (n1, n2, n1+n2)"
   ]
  },
  {
   "cell_type": "code",
   "execution_count": 40,
   "metadata": {},
   "outputs": [
    {
     "data": {
      "text/plain": [
       "(4, 0, 4)"
      ]
     },
     "execution_count": 40,
     "metadata": {},
     "output_type": "execute_result"
    }
   ],
   "source": [
    "result = add(4)\n",
    "result"
   ]
  },
  {
   "cell_type": "code",
   "execution_count": 41,
   "metadata": {},
   "outputs": [
    {
     "name": "stdout",
     "output_type": "stream",
     "text": [
      "4\n",
      "0\n",
      "4\n"
     ]
    }
   ],
   "source": [
    "a,b,s = add(4)\n",
    "print(a)\n",
    "print(b)\n",
    "print(s)\n"
   ]
  },
  {
   "cell_type": "markdown",
   "metadata": {},
   "source": [
    "1. WAF to simulate basic calculator operations.\n",
    "2. WAF to find factor of a positive number.\n",
    "3. WAF to reverse a string.\n",
    "4.  WAF to swap two numbers."
   ]
  },
  {
   "cell_type": "code",
   "execution_count": 42,
   "metadata": {},
   "outputs": [
    {
     "name": "stdout",
     "output_type": "stream",
     "text": [
      "Invalid Input\n"
     ]
    }
   ],
   "source": [
    "# WAF to simulate basic calculator operations.\n",
    "## function declaration\n",
    "def calculator(n1,n2,op='+'):\n",
    "    if op == '+':\n",
    "        return n1+n2\n",
    "    elif op == '-':\n",
    "        return n1 - n2\n",
    "    elif op == '*':\n",
    "        return n1*n2\n",
    "    elif op == '/':\n",
    "        if n2!= 0:\n",
    "            return n1/n2\n",
    "        else :\n",
    "            return -1\n",
    "    else:\n",
    "        return -1\n",
    "\n",
    "# function call\n",
    "# calculator(2,3)\n",
    "# calculator(2,3,'%')\n",
    "num1 = 2\n",
    "num2 = 3\n",
    "operator = '%'\n",
    "res = calculator(num1, num2, operator)\n",
    "if res == -1:\n",
    "    print('Invalid Input')\n",
    "else:\n",
    "    print(res)"
   ]
  },
  {
   "cell_type": "code",
   "execution_count": 43,
   "metadata": {},
   "outputs": [],
   "source": [
    "# WAF to find factor of a positive number.\n",
    "# 4 = 1*2*3*4 = 24\n",
    "\n",
    "def factorial(n):\n",
    "    if n < 0:\n",
    "        return -1\n",
    "    else:\n",
    "        fac = 1\n",
    "        i = 1\n",
    "        if (n == 0 ) | (n == 1):\n",
    "            return 1\n",
    "        else:\n",
    "            while  i <= n:\n",
    "                fac = i* fac\n",
    "                i = i + 1\n",
    "            return fac"
   ]
  },
  {
   "cell_type": "code",
   "execution_count": 44,
   "metadata": {},
   "outputs": [
    {
     "name": "stdout",
     "output_type": "stream",
     "text": [
      "1\n",
      "24\n",
      "120\n",
      "-1\n"
     ]
    }
   ],
   "source": [
    "print(factorial(0))\n",
    "print(factorial(4))\n",
    "print(factorial(5))\n",
    "print(factorial(-2))"
   ]
  },
  {
   "cell_type": "code",
   "execution_count": 45,
   "metadata": {},
   "outputs": [
    {
     "name": "stdout",
     "output_type": "stream",
     "text": [
      "<class 'int'>\n"
     ]
    }
   ],
   "source": [
    "ret = factorial(2)\n",
    "print(type(ret))"
   ]
  },
  {
   "cell_type": "code",
   "execution_count": 46,
   "metadata": {},
   "outputs": [],
   "source": [
    "# WAF to reverse a string.\n",
    "def reverse_string(in_str):\n",
    "    '''Reverse a given string.\n",
    "    in_str -> should be string'''\n",
    "    blank_list = []\n",
    "    blank_list.extend(in_str)\n",
    "    return \"\".join(blank_list[::-1])"
   ]
  },
  {
   "cell_type": "code",
   "execution_count": 47,
   "metadata": {},
   "outputs": [],
   "source": [
    "# \"\".join(['1','2','4','5'])"
   ]
  },
  {
   "cell_type": "code",
   "execution_count": 48,
   "metadata": {},
   "outputs": [],
   "source": [
    "# a = [1,2,3,4]\n",
    "# a.reverse()\n",
    "# a"
   ]
  },
  {
   "cell_type": "code",
   "execution_count": 49,
   "metadata": {},
   "outputs": [
    {
     "name": "stdout",
     "output_type": "stream",
     "text": [
      "erolagnab\n",
      "enup\n"
     ]
    },
    {
     "data": {
      "text/plain": [
       "'dlrow wolleh'"
      ]
     },
     "execution_count": 49,
     "metadata": {},
     "output_type": "execute_result"
    }
   ],
   "source": [
    "print(reverse_string('bangalore'))\n",
    "print(reverse_string('pune'))\n",
    "reverse_string('hellow world')"
   ]
  },
  {
   "cell_type": "code",
   "execution_count": 50,
   "metadata": {},
   "outputs": [],
   "source": [
    "# WAF to swap two numbers.\n",
    "def swap_numbers(n1,n2):\n",
    "    tmp_v = n1\n",
    "    n1 = n2\n",
    "    n2 = tmp_v\n",
    "    return (n1,n2)"
   ]
  },
  {
   "cell_type": "code",
   "execution_count": 51,
   "metadata": {},
   "outputs": [
    {
     "name": "stdout",
     "output_type": "stream",
     "text": [
      "30 20\n"
     ]
    }
   ],
   "source": [
    "a,b = swap_numbers(20,30)\n",
    "print(a,b)"
   ]
  },
  {
   "cell_type": "code",
   "execution_count": 52,
   "metadata": {},
   "outputs": [],
   "source": [
    "# # WAF to swap two numbers.\n",
    "# def swap_numbers():\n",
    "#     n1 = int(input('Enter 1st number to swap: '))\n",
    "#     n2 = int(input('Enter 2nd number to swap: '))\n",
    "#     tmp_v = n1\n",
    "#     n1 = n2\n",
    "#     n2 = tmp_v\n",
    "#     return (n1,n2)"
   ]
  },
  {
   "cell_type": "code",
   "execution_count": 53,
   "metadata": {},
   "outputs": [],
   "source": [
    "# swap_numbers()"
   ]
  },
  {
   "cell_type": "code",
   "execution_count": 54,
   "metadata": {},
   "outputs": [
    {
     "name": "stdout",
     "output_type": "stream",
     "text": [
      "40 20\n"
     ]
    }
   ],
   "source": [
    "#\n",
    "n1 = 20\n",
    "n2 = 40\n",
    "n2, n1 = n1, n2\n",
    "print(n1,n2)"
   ]
  },
  {
   "cell_type": "code",
   "execution_count": 55,
   "metadata": {},
   "outputs": [],
   "source": [
    "# WAF to reverse a number.\n",
    "# For example: input-> 123456 output -> 654321"
   ]
  },
  {
   "cell_type": "code",
   "execution_count": 56,
   "metadata": {},
   "outputs": [],
   "source": [
    "def reverse_number(n):\n",
    "    o_n = 0\n",
    "    while n > 0:\n",
    "        digit = n%10\n",
    "        o_n = o_n* 10 + digit\n",
    "        n = n//10\n",
    "#         print(digit, n, o_n )\n",
    "    return o_n"
   ]
  },
  {
   "cell_type": "code",
   "execution_count": 57,
   "metadata": {},
   "outputs": [
    {
     "data": {
      "text/plain": [
       "654321"
      ]
     },
     "execution_count": 57,
     "metadata": {},
     "output_type": "execute_result"
    }
   ],
   "source": [
    "reverse_number(1234560)"
   ]
  },
  {
   "cell_type": "code",
   "execution_count": 58,
   "metadata": {},
   "outputs": [
    {
     "data": {
      "text/plain": [
       "654321"
      ]
     },
     "execution_count": 58,
     "metadata": {},
     "output_type": "execute_result"
    }
   ],
   "source": [
    "## Method 2\n",
    "a = []\n",
    "a.extend('1234560')\n",
    "a\n",
    "int(''.join(a[::-1]))"
   ]
  },
  {
   "cell_type": "code",
   "execution_count": null,
   "metadata": {},
   "outputs": [],
   "source": []
  },
  {
   "cell_type": "code",
   "execution_count": null,
   "metadata": {},
   "outputs": [],
   "source": []
  },
  {
   "cell_type": "code",
   "execution_count": null,
   "metadata": {},
   "outputs": [],
   "source": []
  },
  {
   "cell_type": "code",
   "execution_count": null,
   "metadata": {},
   "outputs": [],
   "source": []
  },
  {
   "cell_type": "code",
   "execution_count": null,
   "metadata": {},
   "outputs": [],
   "source": []
  },
  {
   "cell_type": "code",
   "execution_count": null,
   "metadata": {},
   "outputs": [],
   "source": []
  },
  {
   "cell_type": "code",
   "execution_count": null,
   "metadata": {},
   "outputs": [],
   "source": []
  },
  {
   "cell_type": "code",
   "execution_count": null,
   "metadata": {},
   "outputs": [],
   "source": []
  },
  {
   "cell_type": "markdown",
   "metadata": {},
   "source": [
    "#### UDF - Type 2\n",
    "##### lambda function \n",
    "    - also called anonymous function\n",
    "    - lambda function does not take return keyword to return any value\n",
    "    - can take any number of arguments\n",
    "    - useful to use a lambda function when a function is passed as an object to another function/method\n",
    "    - syntax:\n",
    "        lambda argument(s):<output_expression>\n",
    "        where lambda is a keyword, multiple aruments are passed seperated by comma & output_expression returns single value"
   ]
  },
  {
   "cell_type": "code",
   "execution_count": 59,
   "metadata": {},
   "outputs": [],
   "source": [
    "# syntax:\n",
    "# lambda argument(s):<output_expression>"
   ]
  },
  {
   "cell_type": "code",
   "execution_count": 60,
   "metadata": {},
   "outputs": [
    {
     "data": {
      "text/plain": [
       "70"
      ]
     },
     "execution_count": 60,
     "metadata": {},
     "output_type": "execute_result"
    }
   ],
   "source": [
    "## example of a named function (UDF) to add two numbers\n",
    "# function defination\n",
    "def add(n1,n2):\n",
    "    return n1+n2\n",
    "\n",
    "# function call\n",
    "add(20,50)"
   ]
  },
  {
   "cell_type": "code",
   "execution_count": 61,
   "metadata": {},
   "outputs": [
    {
     "data": {
      "text/plain": [
       "70"
      ]
     },
     "execution_count": 61,
     "metadata": {},
     "output_type": "execute_result"
    }
   ],
   "source": [
    "s = lambda n1,n2:n1+n2\n",
    "s(20,50)"
   ]
  },
  {
   "cell_type": "code",
   "execution_count": 62,
   "metadata": {},
   "outputs": [
    {
     "data": {
      "text/plain": [
       "60"
      ]
     },
     "execution_count": 62,
     "metadata": {},
     "output_type": "execute_result"
    }
   ],
   "source": [
    "s = lambda a,b: a+b\n",
    "s(40,20)"
   ]
  },
  {
   "cell_type": "code",
   "execution_count": 63,
   "metadata": {},
   "outputs": [],
   "source": [
    "def comp(a,b,c):\n",
    "    return a*b-c"
   ]
  },
  {
   "cell_type": "code",
   "execution_count": 64,
   "metadata": {},
   "outputs": [
    {
     "data": {
      "text/plain": [
       "596"
      ]
     },
     "execution_count": 64,
     "metadata": {},
     "output_type": "execute_result"
    }
   ],
   "source": [
    "s = lambda n1,n2,n3:n1*n2-n3\n",
    "s(20,30,4)"
   ]
  },
  {
   "cell_type": "markdown",
   "metadata": {},
   "source": [
    "#### filter(), map(), reduce()"
   ]
  },
  {
   "cell_type": "markdown",
   "metadata": {},
   "source": [
    "#### map()"
   ]
  },
  {
   "cell_type": "code",
   "execution_count": 65,
   "metadata": {},
   "outputs": [
    {
     "data": {
      "text/plain": [
       "[1, 2, 3, 4, 5, 6, 7, 8, 9, 10]"
      ]
     },
     "execution_count": 65,
     "metadata": {},
     "output_type": "execute_result"
    }
   ],
   "source": [
    "list1 = list(range(1,11))\n",
    "list1"
   ]
  },
  {
   "cell_type": "code",
   "execution_count": 66,
   "metadata": {},
   "outputs": [
    {
     "data": {
      "text/plain": [
       "[3, 4, 5, 6, 7, 8, 9, 10, 11, 12]"
      ]
     },
     "execution_count": 66,
     "metadata": {},
     "output_type": "execute_result"
    }
   ],
   "source": [
    "# add a value of 2 to each element of the list1\n",
    "[each+2 for each in list1]"
   ]
  },
  {
   "cell_type": "code",
   "execution_count": 67,
   "metadata": {},
   "outputs": [
    {
     "data": {
      "text/plain": [
       "[3, 4, 5, 6, 7, 8, 9, 10, 11, 12]"
      ]
     },
     "execution_count": 67,
     "metadata": {},
     "output_type": "execute_result"
    }
   ],
   "source": [
    "list(map(lambda x:x+2, list1))"
   ]
  },
  {
   "cell_type": "code",
   "execution_count": 68,
   "metadata": {},
   "outputs": [
    {
     "data": {
      "text/plain": [
       "[1.0,\n",
       " 1.4142135623730951,\n",
       " 1.7320508075688772,\n",
       " 2.0,\n",
       " 2.23606797749979,\n",
       " 2.449489742783178,\n",
       " 2.6457513110645907,\n",
       " 2.8284271247461903,\n",
       " 3.0,\n",
       " 3.1622776601683795]"
      ]
     },
     "execution_count": 68,
     "metadata": {},
     "output_type": "execute_result"
    }
   ],
   "source": [
    "list(map(lambda x:x**0.5, list1 ))"
   ]
  },
  {
   "cell_type": "code",
   "execution_count": 69,
   "metadata": {},
   "outputs": [
    {
     "data": {
      "text/plain": [
       "[3, 4, 5, 6, 7, 8, 9, 10, 11, 12]"
      ]
     },
     "execution_count": 69,
     "metadata": {},
     "output_type": "execute_result"
    }
   ],
   "source": [
    "def transform(x):\n",
    "    return x+2\n",
    "list(map(transform, list1 ))"
   ]
  },
  {
   "cell_type": "code",
   "execution_count": 70,
   "metadata": {},
   "outputs": [],
   "source": [
    "# def udf_func(x):\n",
    "#     return x+2\n",
    "# def custom_func(udf_func,iterable):\n",
    "#     output_list = []\n",
    "#     for each in iterable:\n",
    "#         output_list.append(udf_func(each))\n",
    "\n",
    "#     return output_list\n",
    "\n",
    "# custom_func(udf_func, [1,2,3,4,5])"
   ]
  },
  {
   "cell_type": "markdown",
   "metadata": {},
   "source": [
    "#### filter()"
   ]
  },
  {
   "cell_type": "code",
   "execution_count": 71,
   "metadata": {},
   "outputs": [
    {
     "data": {
      "text/plain": [
       "[1, 2, 3, 4, 5, 6, 7, 8, 9, 10]"
      ]
     },
     "execution_count": 71,
     "metadata": {},
     "output_type": "execute_result"
    }
   ],
   "source": [
    "list1"
   ]
  },
  {
   "cell_type": "code",
   "execution_count": 72,
   "metadata": {},
   "outputs": [
    {
     "data": {
      "text/plain": [
       "[2, 4, 6, 8, 10]"
      ]
     },
     "execution_count": 72,
     "metadata": {},
     "output_type": "execute_result"
    }
   ],
   "source": [
    "list(filter(lambda x: x%2 == 0, list1))"
   ]
  },
  {
   "cell_type": "markdown",
   "metadata": {},
   "source": [
    "#### reduce()"
   ]
  },
  {
   "cell_type": "code",
   "execution_count": 73,
   "metadata": {},
   "outputs": [],
   "source": [
    "from functools import reduce"
   ]
  },
  {
   "cell_type": "code",
   "execution_count": 74,
   "metadata": {},
   "outputs": [
    {
     "data": {
      "text/plain": [
       "[1, 2, 3, 4, 5, 6, 7, 8, 9, 10]"
      ]
     },
     "execution_count": 74,
     "metadata": {},
     "output_type": "execute_result"
    }
   ],
   "source": [
    "list1\n",
    "# sum, count, max, min, avg"
   ]
  },
  {
   "cell_type": "code",
   "execution_count": 75,
   "metadata": {},
   "outputs": [
    {
     "data": {
      "text/plain": [
       "55"
      ]
     },
     "execution_count": 75,
     "metadata": {},
     "output_type": "execute_result"
    }
   ],
   "source": [
    "## adding each element on the list1\n",
    "reduce(lambda x,y : x+y, list1) # function must have two agruments"
   ]
  },
  {
   "cell_type": "code",
   "execution_count": 76,
   "metadata": {},
   "outputs": [
    {
     "data": {
      "text/plain": [
       "55"
      ]
     },
     "execution_count": 76,
     "metadata": {},
     "output_type": "execute_result"
    }
   ],
   "source": [
    "reduce(add, list1) "
   ]
  },
  {
   "cell_type": "code",
   "execution_count": 77,
   "metadata": {},
   "outputs": [],
   "source": [
    "# [1, 2, 3, 4, 5, 6, 7, 8, 9, 10]\n",
    "# x = 1, y = 2; x+y = 3\n",
    "# x = 3, y = 3; 6\n",
    "# x = 6, y = 4 ; 10\n",
    "# x = 10, y = 5; 15\n",
    "# x = 15, y = 6; 21\n",
    "# x = 21, y = 7; 28\n",
    "# x = 28, y = 8; 36\n",
    "# x = 36, y = 9; 45\n",
    "# x = 45, y = 10; 55"
   ]
  },
  {
   "cell_type": "code",
   "execution_count": 78,
   "metadata": {},
   "outputs": [
    {
     "data": {
      "text/plain": [
       "10"
      ]
     },
     "execution_count": 78,
     "metadata": {},
     "output_type": "execute_result"
    }
   ],
   "source": [
    "# max\n",
    "reduce(lambda x, y: x if x> y else y, list1)"
   ]
  },
  {
   "cell_type": "code",
   "execution_count": 79,
   "metadata": {},
   "outputs": [
    {
     "data": {
      "text/plain": [
       "1"
      ]
     },
     "execution_count": 79,
     "metadata": {},
     "output_type": "execute_result"
    }
   ],
   "source": [
    "# min\n",
    "reduce(lambda x, y: x if x< y else y, list1)"
   ]
  },
  {
   "cell_type": "code",
   "execution_count": 80,
   "metadata": {},
   "outputs": [
    {
     "data": {
      "text/plain": [
       "-53"
      ]
     },
     "execution_count": 80,
     "metadata": {},
     "output_type": "execute_result"
    }
   ],
   "source": [
    "# diff\n",
    "reduce(lambda x, y: x-y, list1)"
   ]
  },
  {
   "cell_type": "markdown",
   "metadata": {},
   "source": [
    "1. execute the below logic with map() function"
   ]
  },
  {
   "cell_type": "markdown",
   "metadata": {},
   "source": [
    "[-10,10]\n",
    "if positive => 'p'\n",
    "if negative => 'n'\n",
    "else 'z'"
   ]
  },
  {
   "cell_type": "code",
   "execution_count": 81,
   "metadata": {},
   "outputs": [
    {
     "data": {
      "text/plain": [
       "['n',\n",
       " 'n',\n",
       " 'n',\n",
       " 'n',\n",
       " 'n',\n",
       " 'n',\n",
       " 'n',\n",
       " 'n',\n",
       " 'n',\n",
       " 'n',\n",
       " 'z',\n",
       " 'p',\n",
       " 'p',\n",
       " 'p',\n",
       " 'p',\n",
       " 'p',\n",
       " 'p',\n",
       " 'p',\n",
       " 'p',\n",
       " 'p']"
      ]
     },
     "execution_count": 81,
     "metadata": {},
     "output_type": "execute_result"
    }
   ],
   "source": [
    "['p' if x>0 else 'n' if x <0 else 'z' for x in range(-10,10)]"
   ]
  },
  {
   "cell_type": "code",
   "execution_count": 82,
   "metadata": {},
   "outputs": [
    {
     "data": {
      "text/plain": [
       "['n',\n",
       " 'n',\n",
       " 'n',\n",
       " 'n',\n",
       " 'n',\n",
       " 'n',\n",
       " 'n',\n",
       " 'n',\n",
       " 'n',\n",
       " 'n',\n",
       " 'z',\n",
       " 'p',\n",
       " 'p',\n",
       " 'p',\n",
       " 'p',\n",
       " 'p',\n",
       " 'p',\n",
       " 'p',\n",
       " 'p',\n",
       " 'p']"
      ]
     },
     "execution_count": 82,
     "metadata": {},
     "output_type": "execute_result"
    }
   ],
   "source": [
    "list(map(lambda x: 'p' if x > 0 else 'n' if x < 0 else 'z', range(-10,10)))"
   ]
  },
  {
   "cell_type": "code",
   "execution_count": 83,
   "metadata": {},
   "outputs": [],
   "source": [
    "gender = ['female','male','female','male','male','female','female','male']\n",
    "# transformation => 'male'-> 0 & 'female' -> 1"
   ]
  },
  {
   "cell_type": "code",
   "execution_count": 84,
   "metadata": {},
   "outputs": [
    {
     "data": {
      "text/plain": [
       "[1, 0, 1, 0, 0, 1, 1, 0]"
      ]
     },
     "execution_count": 84,
     "metadata": {},
     "output_type": "execute_result"
    }
   ],
   "source": [
    "list(map(lambda x: 1 if x == 'female' else 0, gender))"
   ]
  },
  {
   "cell_type": "code",
   "execution_count": 85,
   "metadata": {},
   "outputs": [],
   "source": [
    "# This block is just for reference. Will discuss in detail during  pandas package\n",
    "# # import pandas as pd\n",
    "# # pd.Series(gender).map({'female':1, 'male':0})"
   ]
  },
  {
   "cell_type": "code",
   "execution_count": null,
   "metadata": {},
   "outputs": [],
   "source": []
  }
 ],
 "metadata": {
  "kernelspec": {
   "display_name": "Python 3",
   "language": "python",
   "name": "python3"
  },
  "language_info": {
   "codemirror_mode": {
    "name": "ipython",
    "version": 3
   },
   "file_extension": ".py",
   "mimetype": "text/x-python",
   "name": "python",
   "nbconvert_exporter": "python",
   "pygments_lexer": "ipython3",
   "version": "3.8.5"
  }
 },
 "nbformat": 4,
 "nbformat_minor": 4
}
