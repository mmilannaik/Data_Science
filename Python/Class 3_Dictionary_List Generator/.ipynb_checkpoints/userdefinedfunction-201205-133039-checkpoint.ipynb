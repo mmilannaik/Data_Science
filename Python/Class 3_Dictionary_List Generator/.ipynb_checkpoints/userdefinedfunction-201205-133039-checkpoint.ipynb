{
 "cells": [
  {
   "cell_type": "code",
   "execution_count": 1,
   "metadata": {},
   "outputs": [],
   "source": [
    "## In python there are two types of functions -> named function and lambda function"
   ]
  },
  {
   "cell_type": "code",
   "execution_count": 2,
   "metadata": {},
   "outputs": [],
   "source": [
    "# what a function ? A block of code for specific task"
   ]
  },
  {
   "cell_type": "code",
   "execution_count": 3,
   "metadata": {},
   "outputs": [],
   "source": [
    "# # syntax of names function\n",
    "# def <function_name>((<params>)):\n",
    "#     <body of the function>\n",
    "#     (return <values>)     \n",
    "# # note: return and params are options"
   ]
  },
  {
   "cell_type": "code",
   "execution_count": 4,
   "metadata": {},
   "outputs": [
    {
     "name": "stdout",
     "output_type": "stream",
     "text": [
      "!!! Hello World !!!\n",
      "!!! Hello World !!!\n",
      "!!! Hello World !!!\n",
      "!!! Hello World !!!\n",
      "!!! Hello World !!!\n",
      "!!! Hello World !!!\n",
      "!!! Hello World !!!\n",
      "!!! Hello World !!!\n",
      "!!! Hello World !!!\n",
      "!!! Hello World !!!\n"
     ]
    }
   ],
   "source": [
    "for i in range(1,11):\n",
    "    print('!!! Hello World !!!')\n",
    "    ## "
   ]
  },
  {
   "cell_type": "code",
   "execution_count": 5,
   "metadata": {},
   "outputs": [
    {
     "name": "stdout",
     "output_type": "stream",
     "text": [
      "!!! Hello World !!!\n",
      "!!! Hello World !!!\n",
      "!!! Hello World !!!\n",
      "!!! Hello World !!!\n",
      "!!! Hello World !!!\n",
      "!!! Hello World !!!\n",
      "!!! Hello World !!!\n",
      "!!! Hello World !!!\n",
      "!!! Hello World !!!\n",
      "!!! Hello World !!!\n"
     ]
    }
   ],
   "source": [
    "for i in range(1,11):\n",
    "    print('!!! Hello World !!!')\n",
    "    ## "
   ]
  },
  {
   "cell_type": "code",
   "execution_count": 6,
   "metadata": {},
   "outputs": [
    {
     "name": "stdout",
     "output_type": "stream",
     "text": [
      "!!! Hello World !!!\n",
      "!!! Hello World !!!\n",
      "!!! Hello World !!!\n",
      "!!! Hello World !!!\n",
      "!!! Hello World !!!\n",
      "!!! Hello World !!!\n",
      "!!! Hello World !!!\n",
      "!!! Hello World !!!\n",
      "!!! Hello World !!!\n",
      "!!! Hello World !!!\n"
     ]
    }
   ],
   "source": [
    "for i in range(1,11):\n",
    "    print('!!! Hello World !!!')\n",
    "    ## "
   ]
  },
  {
   "cell_type": "code",
   "execution_count": 7,
   "metadata": {},
   "outputs": [
    {
     "name": "stdout",
     "output_type": "stream",
     "text": [
      "!!! Hello World !!!\n",
      "!!! Hello World !!!\n",
      "!!! Hello World !!!\n",
      "!!! Hello World !!!\n",
      "!!! Hello World !!!\n",
      "!!! Hello World !!!\n",
      "!!! Hello World !!!\n",
      "!!! Hello World !!!\n",
      "!!! Hello World !!!\n",
      "!!! Hello World !!!\n"
     ]
    }
   ],
   "source": [
    "for i in range(1,11):\n",
    "    print('!!! Hello World !!!')\n",
    "    ## "
   ]
  },
  {
   "cell_type": "code",
   "execution_count": 8,
   "metadata": {},
   "outputs": [],
   "source": [
    "## function defination\n",
    "def greet():\n",
    "    for i in range(1,11):\n",
    "        print('Hello World')"
   ]
  },
  {
   "cell_type": "code",
   "execution_count": 9,
   "metadata": {},
   "outputs": [
    {
     "name": "stdout",
     "output_type": "stream",
     "text": [
      "Hello World\n",
      "Hello World\n",
      "Hello World\n",
      "Hello World\n",
      "Hello World\n",
      "Hello World\n",
      "Hello World\n",
      "Hello World\n",
      "Hello World\n",
      "Hello World\n"
     ]
    }
   ],
   "source": [
    "greet()  # function call"
   ]
  },
  {
   "cell_type": "code",
   "execution_count": 10,
   "metadata": {},
   "outputs": [
    {
     "name": "stdout",
     "output_type": "stream",
     "text": [
      "Hello World\n",
      "Hello World\n",
      "Hello World\n",
      "Hello World\n",
      "Hello World\n",
      "Hello World\n",
      "Hello World\n",
      "Hello World\n",
      "Hello World\n",
      "Hello World\n"
     ]
    }
   ],
   "source": [
    "greet()"
   ]
  },
  {
   "cell_type": "code",
   "execution_count": 11,
   "metadata": {},
   "outputs": [
    {
     "name": "stdout",
     "output_type": "stream",
     "text": [
      "Hello World\n",
      "Hello World\n",
      "Hello World\n",
      "Hello World\n",
      "Hello World\n",
      "Hello World\n",
      "Hello World\n",
      "Hello World\n",
      "Hello World\n",
      "Hello World\n"
     ]
    }
   ],
   "source": [
    "greet()"
   ]
  },
  {
   "cell_type": "code",
   "execution_count": 12,
   "metadata": {},
   "outputs": [],
   "source": [
    "# # .......\n",
    "# list1 = list(range(1,100))\n",
    "# # ......."
   ]
  },
  {
   "cell_type": "code",
   "execution_count": 13,
   "metadata": {},
   "outputs": [],
   "source": [
    "###\n",
    "# WAF which takes 'name' and print customised greeting\n",
    "def greet(name): # example of parametric function\n",
    "    print('Hello '+name)"
   ]
  },
  {
   "cell_type": "code",
   "execution_count": 14,
   "metadata": {},
   "outputs": [
    {
     "name": "stdout",
     "output_type": "stream",
     "text": [
      "Hello Jill\n"
     ]
    }
   ],
   "source": [
    "greet('Jill')"
   ]
  },
  {
   "cell_type": "code",
   "execution_count": 15,
   "metadata": {},
   "outputs": [],
   "source": [
    "def greet(firstname, lastname): # example of parametric function\n",
    "    '''This function greets user.'''\n",
    "    print('Hello '+ lastname + ' '+firstname)"
   ]
  },
  {
   "cell_type": "code",
   "execution_count": 16,
   "metadata": {},
   "outputs": [
    {
     "name": "stdout",
     "output_type": "stream",
     "text": [
      "Hello L. Jill\n"
     ]
    }
   ],
   "source": [
    "greet(\"Jill\", \"L.\")"
   ]
  },
  {
   "cell_type": "code",
   "execution_count": 17,
   "metadata": {},
   "outputs": [
    {
     "name": "stdout",
     "output_type": "stream",
     "text": [
      "Hello Jill L.\n"
     ]
    }
   ],
   "source": [
    "greet(\"L.\", \"Jill\")"
   ]
  },
  {
   "cell_type": "code",
   "execution_count": 18,
   "metadata": {},
   "outputs": [
    {
     "name": "stdout",
     "output_type": "stream",
     "text": [
      "Hello L. Jill\n"
     ]
    }
   ],
   "source": [
    "greet(firstname='Jill', lastname='L.')"
   ]
  },
  {
   "cell_type": "code",
   "execution_count": 19,
   "metadata": {},
   "outputs": [
    {
     "name": "stdout",
     "output_type": "stream",
     "text": [
      "Hello L. Jill\n"
     ]
    }
   ],
   "source": [
    "greet( lastname='L.', firstname='Jill')"
   ]
  },
  {
   "cell_type": "code",
   "execution_count": 20,
   "metadata": {},
   "outputs": [
    {
     "name": "stdout",
     "output_type": "stream",
     "text": [
      "Hello L. Jill\n"
     ]
    }
   ],
   "source": [
    "greet('Jill', lastname='L.')"
   ]
  },
  {
   "cell_type": "code",
   "execution_count": 21,
   "metadata": {},
   "outputs": [],
   "source": [
    "# greet(firstname='Rageeni','sah') # error # invalid"
   ]
  },
  {
   "cell_type": "code",
   "execution_count": 22,
   "metadata": {},
   "outputs": [
    {
     "name": "stdout",
     "output_type": "stream",
     "text": [
      "Hello L. Jill\n"
     ]
    }
   ],
   "source": [
    "greet('Jill','L.')\n",
    "# greet('rageeni')"
   ]
  },
  {
   "cell_type": "code",
   "execution_count": 23,
   "metadata": {},
   "outputs": [],
   "source": [
    "## function with default agruments\n",
    "def greet(firstname, lastname = ''): # example of parametric function\n",
    "    '''This function greets user.'''\n",
    "    print('Hello '+ lastname + ' '+firstname)"
   ]
  },
  {
   "cell_type": "code",
   "execution_count": 24,
   "metadata": {},
   "outputs": [
    {
     "name": "stdout",
     "output_type": "stream",
     "text": [
      "Hello  Jill.\n",
      "Hello A. Jill\n"
     ]
    }
   ],
   "source": [
    "greet('Jill.')\n",
    "greet('Jill', 'A.')\n",
    "# greet()"
   ]
  },
  {
   "cell_type": "code",
   "execution_count": 25,
   "metadata": {},
   "outputs": [],
   "source": [
    "def addition(n1 = 0, n2 = 0):\n",
    "    print(n1+n2)"
   ]
  },
  {
   "cell_type": "code",
   "execution_count": 26,
   "metadata": {},
   "outputs": [
    {
     "name": "stdout",
     "output_type": "stream",
     "text": [
      "0\n",
      "2\n",
      "9\n",
      "11\n",
      "11\n",
      "11\n"
     ]
    }
   ],
   "source": [
    "addition()\n",
    "addition(2)\n",
    "addition(4,5)\n",
    "addition(4,7)\n",
    "addition(4, n2 = 7)\n",
    "addition(n1 = 4, n2 = 7)\n",
    "# addition(n1= 4, 7) # invalid"
   ]
  },
  {
   "cell_type": "code",
   "execution_count": 27,
   "metadata": {},
   "outputs": [],
   "source": [
    "# def add(a,b,c,d):\n",
    "#     print(a+b+c+d)"
   ]
  },
  {
   "cell_type": "code",
   "execution_count": 28,
   "metadata": {},
   "outputs": [],
   "source": [
    "# add(3,4,5,6)\n",
    "# add(3,b = 2, c= 4, d = 5)\n",
    "# add(a = 5, 5 ,6, 7)"
   ]
  },
  {
   "cell_type": "code",
   "execution_count": null,
   "metadata": {},
   "outputs": [],
   "source": []
  }
 ],
 "metadata": {
  "kernelspec": {
   "display_name": "Python 3",
   "language": "python",
   "name": "python3"
  },
  "language_info": {
   "codemirror_mode": {
    "name": "ipython",
    "version": 3
   },
   "file_extension": ".py",
   "mimetype": "text/x-python",
   "name": "python",
   "nbconvert_exporter": "python",
   "pygments_lexer": "ipython3",
   "version": "3.8.5"
  }
 },
 "nbformat": 4,
 "nbformat_minor": 4
}
