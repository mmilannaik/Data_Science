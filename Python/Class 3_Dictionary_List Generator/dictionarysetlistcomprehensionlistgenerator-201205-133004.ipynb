{
 "cells": [
  {
   "cell_type": "markdown",
   "metadata": {},
   "source": [
    "list properties\n",
    "    - ordered, hetrogenous data type\n",
    "    - indexable\n",
    "    - mutable\n",
    "    - members can be duplicate\n",
    "    \n",
    "tuple properties \n",
    "    - ordered, hetrogenous data type\n",
    "    - indexable\n",
    "    - immutable\n",
    "    - members can be duplicate\n",
    "    \n",
    "dictionary properties\n",
    "    - indexable\n",
    "    - keys can not be duplicate, value field=> members can be duplicate\n",
    "    - keys -> any python constant values (string, numbers)\n",
    "    - values -> any python supported datatype\n",
    "    - unordered data type"
   ]
  },
  {
   "cell_type": "code",
   "execution_count": 1,
   "metadata": {},
   "outputs": [],
   "source": [
    "name = ['A','B','C','D']\n",
    "scores = [30,45,60,90]"
   ]
  },
  {
   "cell_type": "code",
   "execution_count": 2,
   "metadata": {},
   "outputs": [
    {
     "name": "stdout",
     "output_type": "stream",
     "text": [
      "<class 'dict'>\n"
     ]
    }
   ],
   "source": [
    "print(type({}))"
   ]
  },
  {
   "cell_type": "code",
   "execution_count": 3,
   "metadata": {},
   "outputs": [],
   "source": [
    "# # syntax\n",
    "# {key1:val1,key2:val2,....keyN:valN}\n",
    "# key1, key2, keyN => any python constant values #for example: 'string', 1,1.0\n",
    "# val1, val2,valN => any python supported data types (list, scalar, tuple, dictionary, set)"
   ]
  },
  {
   "cell_type": "code",
   "execution_count": 4,
   "metadata": {},
   "outputs": [],
   "source": [
    "students = {'name':['A','B','C','D'],\n",
    "            'scores':[30,45,60,90],\n",
    "            'address':{'city':['banglore','chennai','pune','mumbai'],\n",
    "                     'state':['K','TN','MH','MH'],\n",
    "                     'pincode':[45,34,56,78]},\n",
    "           'rollno':(2,3,4,5)}"
   ]
  },
  {
   "cell_type": "code",
   "execution_count": 5,
   "metadata": {},
   "outputs": [
    {
     "data": {
      "text/plain": [
       "{'A': 30, 'B': 45, 'C': 60, 'D': 90}"
      ]
     },
     "execution_count": 5,
     "metadata": {},
     "output_type": "execute_result"
    }
   ],
   "source": [
    "### using \n",
    "dict(zip(name, scores))"
   ]
  },
  {
   "cell_type": "code",
   "execution_count": 6,
   "metadata": {},
   "outputs": [
    {
     "data": {
      "text/plain": [
       "{'name': ['A', 'B', 'C', 'D'],\n",
       " 'scores': [30, 45, 60, 90],\n",
       " 'address': {'city': ['banglore', 'chennai', 'pune', 'mumbai'],\n",
       "  'state': ['K', 'TN', 'MH', 'MH'],\n",
       "  'pincode': [45, 34, 56, 78]},\n",
       " 'rollno': (2, 3, 4, 5)}"
      ]
     },
     "execution_count": 6,
     "metadata": {},
     "output_type": "execute_result"
    }
   ],
   "source": [
    "students"
   ]
  },
  {
   "cell_type": "code",
   "execution_count": 7,
   "metadata": {},
   "outputs": [
    {
     "name": "stdout",
     "output_type": "stream",
     "text": [
      "C\n",
      "{'city': ['banglore', 'chennai', 'pune', 'mumbai'], 'state': ['K', 'TN', 'MH', 'MH'], 'pincode': [45, 34, 56, 78]}\n",
      "['K', 'TN', 'MH', 'MH']\n",
      "TN\n"
     ]
    }
   ],
   "source": [
    "## Accessing element in dictionary\n",
    "print(students['name'][-2])\n",
    "print(students['address'])\n",
    "print(students['address']['state'])\n",
    "print(students['address']['state'][1])"
   ]
  },
  {
   "cell_type": "code",
   "execution_count": 8,
   "metadata": {},
   "outputs": [],
   "source": [
    "# replace TN with DL\n",
    "students['address']['state'][1] = 'DL'  # modify"
   ]
  },
  {
   "cell_type": "code",
   "execution_count": 9,
   "metadata": {},
   "outputs": [
    {
     "data": {
      "text/plain": [
       "{'name': ['A', 'B', 'C', 'D'],\n",
       " 'scores': [30, 45, 60, 90],\n",
       " 'address': {'city': ['banglore', 'chennai', 'pune', 'mumbai'],\n",
       "  'state': ['K', 'DL', 'MH', 'MH'],\n",
       "  'pincode': [45, 34, 56, 78]},\n",
       " 'rollno': (2, 3, 4, 5)}"
      ]
     },
     "execution_count": 9,
     "metadata": {},
     "output_type": "execute_result"
    }
   ],
   "source": [
    "students"
   ]
  },
  {
   "cell_type": "code",
   "execution_count": 10,
   "metadata": {},
   "outputs": [],
   "source": [
    "## replace 4 with 7 for key rollno\n",
    "# students['rollno'][-2] = 5  # error -> tuple is immutable"
   ]
  },
  {
   "cell_type": "code",
   "execution_count": 11,
   "metadata": {},
   "outputs": [],
   "source": [
    "students = {'name':['A','B','C','D'],\n",
    "            'scores':[30,45,60],\n",
    "            'address':{'city':['banglore','chennai','pune','mumbai'],\n",
    "                     'state':['K','TN','MH','MH'],\n",
    "                     'pincode':[45,34,56,78]},\n",
    "           'rollno':(2,3,4,5)}"
   ]
  },
  {
   "cell_type": "code",
   "execution_count": 12,
   "metadata": {},
   "outputs": [
    {
     "data": {
      "text/plain": [
       "{'name': ['A', 'B', 'C', 'D'],\n",
       " 'scores': [30, 45, 60],\n",
       " 'address': {'city': ['banglore', 'chennai', 'pune', 'mumbai'],\n",
       "  'state': ['K', 'TN', 'MH', 'MH'],\n",
       "  'pincode': [45, 34, 56, 78]},\n",
       " 'rollno': (2, 3, 4, 5)}"
      ]
     },
     "execution_count": 12,
     "metadata": {},
     "output_type": "execute_result"
    }
   ],
   "source": [
    "students"
   ]
  },
  {
   "cell_type": "code",
   "execution_count": 13,
   "metadata": {},
   "outputs": [
    {
     "data": {
      "text/plain": [
       "{'name': ['A', 'B', 'C', 'D'],\n",
       " 'scores': [30, 45, 60, 90],\n",
       " 'address': {'city': ['banglore', 'chennai', 'pune', 'mumbai'],\n",
       "  'state': ['K', 'TN', 'MH', 'MH'],\n",
       "  'pincode': [45, 34, 56, 78]},\n",
       " 'rollno': (2, 3, 3, 5)}"
      ]
     },
     "execution_count": 13,
     "metadata": {},
     "output_type": "execute_result"
    }
   ],
   "source": [
    "{'name':['A','B','C','D'],\n",
    "            'scores':[30,45,60,90],\n",
    "            'address':{'city':['banglore','chennai','pune','mumbai'],\n",
    "                     'state':['K','TN','MH','MH'],\n",
    "                     'pincode':[45,34,56,78]},\n",
    "           'rollno':(2,3,4,5),\n",
    "           'rollno':(2,3,3,5)} # duplicate keys are not allowed"
   ]
  },
  {
   "cell_type": "code",
   "execution_count": 14,
   "metadata": {},
   "outputs": [
    {
     "name": "stdout",
     "output_type": "stream",
     "text": [
      "('name', ['A', 'B', 'C', 'D'])\n",
      "('scores', [30, 45, 60])\n",
      "('address', {'city': ['banglore', 'chennai', 'pune', 'mumbai'], 'state': ['K', 'TN', 'MH', 'MH'], 'pincode': [45, 34, 56, 78]})\n",
      "('rollno', (2, 3, 4, 5))\n"
     ]
    }
   ],
   "source": [
    "### loop through dictionary\n",
    "for item in students.items():\n",
    "    print(item)"
   ]
  },
  {
   "cell_type": "code",
   "execution_count": 15,
   "metadata": {},
   "outputs": [
    {
     "name": "stdout",
     "output_type": "stream",
     "text": [
      "['A', 'B', 'C', 'D']\n",
      "[30, 45, 60]\n",
      "{'city': ['banglore', 'chennai', 'pune', 'mumbai'], 'state': ['K', 'TN', 'MH', 'MH'], 'pincode': [45, 34, 56, 78]}\n",
      "(2, 3, 4, 5)\n"
     ]
    }
   ],
   "source": [
    "for value in students.values():\n",
    "    print(value)"
   ]
  },
  {
   "cell_type": "code",
   "execution_count": 16,
   "metadata": {},
   "outputs": [
    {
     "name": "stdout",
     "output_type": "stream",
     "text": [
      "name\n",
      "scores\n",
      "address\n",
      "rollno\n"
     ]
    }
   ],
   "source": [
    "for key in students.keys():\n",
    "    print(key)"
   ]
  },
  {
   "cell_type": "code",
   "execution_count": 17,
   "metadata": {},
   "outputs": [],
   "source": [
    "students.setdefault('subject')"
   ]
  },
  {
   "cell_type": "code",
   "execution_count": 18,
   "metadata": {},
   "outputs": [
    {
     "data": {
      "text/plain": [
       "{'name': ['A', 'B', 'C', 'D'],\n",
       " 'scores': [30, 45, 60],\n",
       " 'address': {'city': ['banglore', 'chennai', 'pune', 'mumbai'],\n",
       "  'state': ['K', 'TN', 'MH', 'MH'],\n",
       "  'pincode': [45, 34, 56, 78]},\n",
       " 'rollno': (2, 3, 4, 5),\n",
       " 'subject': None}"
      ]
     },
     "execution_count": 18,
     "metadata": {},
     "output_type": "execute_result"
    }
   ],
   "source": [
    "students"
   ]
  },
  {
   "cell_type": "markdown",
   "metadata": {},
   "source": [
    "set properties\n",
    "    - unordered data\n",
    "    - duplicate members not allowed"
   ]
  },
  {
   "cell_type": "code",
   "execution_count": 19,
   "metadata": {},
   "outputs": [
    {
     "name": "stdout",
     "output_type": "stream",
     "text": [
      "[1, 2, 3, 4, 5, 6, 7, 8, 9, 10, 11, 12, 13, 14, 15, 16, 17, 18, 19, 20]\n",
      "[15, 16, 17, 18, 19, 20, 21, 22, 23, 24, 25, 26, 27, 28, 29, 30, 31, 32, 33, 34, 35, 36, 37, 38, 39, 40]\n"
     ]
    }
   ],
   "source": [
    "list1 = list(range(1,21))\n",
    "list2 = list(range(15,41))\n",
    "print(list1)\n",
    "print(list2)"
   ]
  },
  {
   "cell_type": "code",
   "execution_count": 20,
   "metadata": {},
   "outputs": [
    {
     "name": "stdout",
     "output_type": "stream",
     "text": [
      "<class 'dict'>\n",
      "<class 'set'>\n"
     ]
    }
   ],
   "source": [
    "print(type({}))\n",
    "print(type({1,2}))"
   ]
  },
  {
   "cell_type": "code",
   "execution_count": 21,
   "metadata": {},
   "outputs": [
    {
     "name": "stdout",
     "output_type": "stream",
     "text": [
      "{4, 5, 6, 7, 8}\n",
      "<class 'set'>\n"
     ]
    }
   ],
   "source": [
    "print({4,5,6,7,8})\n",
    "print(type({4,5,6,7,8}))"
   ]
  },
  {
   "cell_type": "code",
   "execution_count": 22,
   "metadata": {},
   "outputs": [
    {
     "data": {
      "text/plain": [
       "{1, 2, 3, 4, 5, 6, 7, 8, 9, 10, 11, 12, 13, 14, 15, 16, 17, 18, 19, 20}"
      ]
     },
     "execution_count": 22,
     "metadata": {},
     "output_type": "execute_result"
    }
   ],
   "source": [
    "set(list1)"
   ]
  },
  {
   "cell_type": "code",
   "execution_count": 23,
   "metadata": {},
   "outputs": [
    {
     "data": {
      "text/plain": [
       "{1, 2, 3, 4, 6, 7}"
      ]
     },
     "execution_count": 23,
     "metadata": {},
     "output_type": "execute_result"
    }
   ],
   "source": [
    "{1,2,3,4,4,3,4,6,7} # duplicate members not allowed"
   ]
  },
  {
   "cell_type": "code",
   "execution_count": 24,
   "metadata": {},
   "outputs": [
    {
     "name": "stdout",
     "output_type": "stream",
     "text": [
      "{1, 2, 3, 4, 5, 6, 7, 8, 9, 10, 11, 12, 13, 14, 15, 16, 17, 18, 19, 20}\n",
      "{15, 16, 17, 18, 19, 20, 21, 22, 23, 24, 25, 26, 27, 28, 29, 30, 31, 32, 33, 34, 35, 36, 37, 38, 39, 40}\n"
     ]
    }
   ],
   "source": [
    "set1 = set(list1)\n",
    "print(set1)\n",
    "set2 = set(list2)\n",
    "print(set2)"
   ]
  },
  {
   "cell_type": "code",
   "execution_count": 25,
   "metadata": {},
   "outputs": [
    {
     "name": "stdout",
     "output_type": "stream",
     "text": [
      "{1, 2, 3, 4, 5, 6, 7, 8, 9, 10, 11, 12, 13, 14, 15, 16, 17, 18, 19, 20}\n",
      "{15, 16, 17, 18, 19, 20}\n",
      "{1, 2, 3, 4, 5, 6, 7, 8, 9, 10, 11, 12, 13, 14, 15, 16, 17, 18, 19, 20}\n"
     ]
    }
   ],
   "source": [
    "print(set1)\n",
    "print(set1.intersection(set2))\n",
    "print(set1)"
   ]
  },
  {
   "cell_type": "code",
   "execution_count": 26,
   "metadata": {},
   "outputs": [
    {
     "name": "stdout",
     "output_type": "stream",
     "text": [
      "{1, 2, 3, 4, 5, 6, 7, 8, 9, 10, 11, 12, 13, 14, 15, 16, 17, 18, 19, 20}\n",
      "{15, 16, 17, 18, 19, 20}\n"
     ]
    }
   ],
   "source": [
    "print(set1)\n",
    "set1.intersection_update(set2) #intersection_update ~ set1 = set1.intersection(set2)\n",
    "print(set1)"
   ]
  },
  {
   "cell_type": "code",
   "execution_count": 27,
   "metadata": {},
   "outputs": [
    {
     "name": "stdout",
     "output_type": "stream",
     "text": [
      "{1, 2, 3, 4, 5, 6, 7, 8, 9, 10, 11, 12, 13, 14, 15, 16, 17, 18, 19, 20}\n",
      "{15, 16, 17, 18, 19, 20, 21, 22, 23, 24, 25, 26, 27, 28, 29, 30, 31, 32, 33, 34, 35, 36, 37, 38, 39, 40}\n"
     ]
    }
   ],
   "source": [
    "set1 = set(list1)\n",
    "print(set1)\n",
    "set2 = set(list2)\n",
    "print(set2)"
   ]
  },
  {
   "cell_type": "code",
   "execution_count": 28,
   "metadata": {},
   "outputs": [
    {
     "data": {
      "text/plain": [
       "{1, 2, 3, 4, 5, 6, 7, 8, 9, 10, 11, 12, 13, 14}"
      ]
     },
     "execution_count": 28,
     "metadata": {},
     "output_type": "execute_result"
    }
   ],
   "source": [
    "set1.difference(set2)"
   ]
  },
  {
   "cell_type": "code",
   "execution_count": 29,
   "metadata": {},
   "outputs": [],
   "source": [
    "# set1.union(set2)"
   ]
  },
  {
   "cell_type": "code",
   "execution_count": 30,
   "metadata": {},
   "outputs": [],
   "source": [
    "# s = {1,2,3,4}\n",
    "# s.add(5)\n",
    "# s"
   ]
  },
  {
   "cell_type": "code",
   "execution_count": 31,
   "metadata": {},
   "outputs": [
    {
     "data": {
      "text/plain": [
       "{1,\n",
       " 2,\n",
       " 3,\n",
       " 4,\n",
       " 5,\n",
       " 6,\n",
       " 7,\n",
       " 8,\n",
       " 9,\n",
       " 10,\n",
       " 11,\n",
       " 12,\n",
       " 13,\n",
       " 14,\n",
       " 21,\n",
       " 22,\n",
       " 23,\n",
       " 24,\n",
       " 25,\n",
       " 26,\n",
       " 27,\n",
       " 28,\n",
       " 29,\n",
       " 30,\n",
       " 31,\n",
       " 32,\n",
       " 33,\n",
       " 34,\n",
       " 35,\n",
       " 36,\n",
       " 37,\n",
       " 38,\n",
       " 39,\n",
       " 40}"
      ]
     },
     "execution_count": 31,
     "metadata": {},
     "output_type": "execute_result"
    }
   ],
   "source": [
    "set1.symmetric_difference(set2) # oppsite of intersection operations"
   ]
  },
  {
   "cell_type": "code",
   "execution_count": 32,
   "metadata": {},
   "outputs": [
    {
     "data": {
      "text/plain": [
       "{1, 2}"
      ]
     },
     "execution_count": 32,
     "metadata": {},
     "output_type": "execute_result"
    }
   ],
   "source": [
    "set((1,2,3,4)) - set((3,4,5)) # this is equivalent to set1.difference(set2)"
   ]
  },
  {
   "cell_type": "code",
   "execution_count": 33,
   "metadata": {},
   "outputs": [],
   "source": [
    "# set((1,2,3,4)) + set((3,4,5)) # not allowed"
   ]
  },
  {
   "cell_type": "code",
   "execution_count": 34,
   "metadata": {},
   "outputs": [],
   "source": [
    "# set((1,2,3,4))[1]"
   ]
  },
  {
   "cell_type": "code",
   "execution_count": 35,
   "metadata": {},
   "outputs": [
    {
     "data": {
      "text/plain": [
       "{3, 4, 5, 6, 7}"
      ]
     },
     "execution_count": 35,
     "metadata": {},
     "output_type": "execute_result"
    }
   ],
   "source": [
    "{3,4,5,6,7}"
   ]
  },
  {
   "cell_type": "code",
   "execution_count": 36,
   "metadata": {},
   "outputs": [
    {
     "data": {
      "text/plain": [
       "{'b'}"
      ]
     },
     "execution_count": 36,
     "metadata": {},
     "output_type": "execute_result"
    }
   ],
   "source": [
    "set(('a','b','c')).intersection(set(('b')))"
   ]
  },
  {
   "cell_type": "markdown",
   "metadata": {},
   "source": [
    "### list comprehension"
   ]
  },
  {
   "cell_type": "code",
   "execution_count": 37,
   "metadata": {},
   "outputs": [
    {
     "data": {
      "text/plain": [
       "[1, 4, 9, 16, 25, 36, 49, 64, 81, 100]"
      ]
     },
     "execution_count": 37,
     "metadata": {},
     "output_type": "execute_result"
    }
   ],
   "source": [
    "list1 = [1,2,3,4,5,6,7,8,9,10]\n",
    "\n",
    "## squaring each element\n",
    "tmp = []\n",
    "for each in list1:\n",
    "    tmp.append(each**2)\n",
    "tmp    "
   ]
  },
  {
   "cell_type": "markdown",
   "metadata": {},
   "source": [
    "#### list comprehsion\n",
    "- is an elegant form of loops\n",
    "- computationally efficient/faster"
   ]
  },
  {
   "cell_type": "markdown",
   "metadata": {},
   "source": [
    "#### syntax"
   ]
  },
  {
   "cell_type": "code",
   "execution_count": 38,
   "metadata": {},
   "outputs": [],
   "source": [
    "# [<output_Expression> for <iterator> in <iterable>]"
   ]
  },
  {
   "cell_type": "code",
   "execution_count": 39,
   "metadata": {},
   "outputs": [
    {
     "data": {
      "text/plain": [
       "[1, 4, 9, 16, 25, 36, 49, 64, 81, 100]"
      ]
     },
     "execution_count": 39,
     "metadata": {},
     "output_type": "execute_result"
    }
   ],
   "source": [
    "## squaring each member of a list of integers 1 to 10.\n",
    "[each**2 for each in list1]"
   ]
  },
  {
   "cell_type": "code",
   "execution_count": 40,
   "metadata": {},
   "outputs": [],
   "source": [
    "list1 = [1,2,3,4,5,6,7,8,9,10]"
   ]
  },
  {
   "cell_type": "markdown",
   "metadata": {},
   "source": [
    "1. list1 -> generate a new list having square of even numbers"
   ]
  },
  {
   "cell_type": "code",
   "execution_count": 41,
   "metadata": {},
   "outputs": [
    {
     "data": {
      "text/plain": [
       "[4, 16, 36, 64, 100]"
      ]
     },
     "execution_count": 41,
     "metadata": {},
     "output_type": "execute_result"
    }
   ],
   "source": [
    "o_list = []\n",
    "for each in list1:\n",
    "    if(each%2==0):\n",
    "        o_list.append(each**2)\n",
    "o_list        "
   ]
  },
  {
   "cell_type": "code",
   "execution_count": 42,
   "metadata": {},
   "outputs": [
    {
     "data": {
      "text/plain": [
       "[4, 16, 36, 64, 100]"
      ]
     },
     "execution_count": 42,
     "metadata": {},
     "output_type": "execute_result"
    }
   ],
   "source": [
    "[i**2 for i in list1 if i%2 == 0]"
   ]
  },
  {
   "cell_type": "markdown",
   "metadata": {},
   "source": [
    "2. list1 -> generate a new list having square of even numbers and square root of the odd numbers"
   ]
  },
  {
   "cell_type": "code",
   "execution_count": 43,
   "metadata": {},
   "outputs": [
    {
     "data": {
      "text/plain": [
       "[1.0,\n",
       " 4,\n",
       " 1.7320508075688772,\n",
       " 16,\n",
       " 2.23606797749979,\n",
       " 36,\n",
       " 2.6457513110645907,\n",
       " 64,\n",
       " 3.0,\n",
       " 100]"
      ]
     },
     "execution_count": 43,
     "metadata": {},
     "output_type": "execute_result"
    }
   ],
   "source": [
    "o_list = []\n",
    "for each in list1:\n",
    "    if(each%2==0):\n",
    "        o_list.append(each**2)\n",
    "    else:\n",
    "        o_list.append(each**0.5)\n",
    "o_list        "
   ]
  },
  {
   "cell_type": "code",
   "execution_count": 44,
   "metadata": {},
   "outputs": [
    {
     "data": {
      "text/plain": [
       "[1.0,\n",
       " 4,\n",
       " 1.7320508075688772,\n",
       " 16,\n",
       " 2.23606797749979,\n",
       " 36,\n",
       " 2.6457513110645907,\n",
       " 64,\n",
       " 3.0,\n",
       " 100]"
      ]
     },
     "execution_count": 44,
     "metadata": {},
     "output_type": "execute_result"
    }
   ],
   "source": [
    "[each**2 if each%2==0 else each**0.5 for each in list1]"
   ]
  },
  {
   "cell_type": "markdown",
   "metadata": {},
   "source": [
    "3. Mapping: loop to check even/odd numbers"
   ]
  },
  {
   "cell_type": "code",
   "execution_count": 45,
   "metadata": {},
   "outputs": [
    {
     "data": {
      "text/plain": [
       "['O', 'E', 'O', 'E', 'O', 'E', 'O', 'E', 'O', 'E']"
      ]
     },
     "execution_count": 45,
     "metadata": {},
     "output_type": "execute_result"
    }
   ],
   "source": [
    "o_list = []\n",
    "for each in range(1,11):\n",
    "    if each%2 == 0:\n",
    "        o_list.append('E')\n",
    "    else:\n",
    "        o_list.append('O')\n",
    "o_list        "
   ]
  },
  {
   "cell_type": "code",
   "execution_count": 46,
   "metadata": {},
   "outputs": [
    {
     "data": {
      "text/plain": [
       "['O', 'E', 'O', 'E', 'O', 'E', 'O', 'E', 'O', 'E']"
      ]
     },
     "execution_count": 46,
     "metadata": {},
     "output_type": "execute_result"
    }
   ],
   "source": [
    "['E' if each%2==0 else 'O' for each in range(1,11)]"
   ]
  },
  {
   "cell_type": "markdown",
   "metadata": {},
   "source": [
    "4. Mapping: generate this sequence of codes for integers i : -10 to 10:\n",
    "        'P' if i is positive\n",
    "        'N' if i is negative\n",
    "        'Z' if i is zero"
   ]
  },
  {
   "cell_type": "code",
   "execution_count": 47,
   "metadata": {},
   "outputs": [],
   "source": [
    "o_list = []\n",
    "for each in range(-10,11,1):\n",
    "    if each > 0:\n",
    "        o_list.append('P')\n",
    "    elif each < 0:\n",
    "        o_list.append('N')\n",
    "    else :\n",
    "        o_list.append('Z')\n",
    "# print(list(range(-10,11,1)))\n",
    "# o_list        "
   ]
  },
  {
   "cell_type": "code",
   "execution_count": 48,
   "metadata": {},
   "outputs": [
    {
     "data": {
      "text/plain": [
       "['N',\n",
       " 'N',\n",
       " 'N',\n",
       " 'N',\n",
       " 'N',\n",
       " 'N',\n",
       " 'N',\n",
       " 'N',\n",
       " 'N',\n",
       " 'N',\n",
       " 'Z',\n",
       " 'P',\n",
       " 'P',\n",
       " 'P',\n",
       " 'P',\n",
       " 'P',\n",
       " 'P',\n",
       " 'P',\n",
       " 'P',\n",
       " 'P',\n",
       " 'P']"
      ]
     },
     "execution_count": 48,
     "metadata": {},
     "output_type": "execute_result"
    }
   ],
   "source": [
    "[\"P\" if each > 0 else 'N' if each < 0 else 'Z' for each in range(-10,11)]"
   ]
  },
  {
   "cell_type": "code",
   "execution_count": 49,
   "metadata": {},
   "outputs": [
    {
     "name": "stdout",
     "output_type": "stream",
     "text": [
      "2\n",
      "3\n",
      "4\n",
      "5\n",
      "4\n",
      "6\n",
      "8\n",
      "10\n",
      "6\n",
      "9\n",
      "12\n",
      "15\n"
     ]
    }
   ],
   "source": [
    "for i in range(1,4):\n",
    "    for j in range(2,6):\n",
    "        print(i*j)"
   ]
  },
  {
   "cell_type": "code",
   "execution_count": 50,
   "metadata": {},
   "outputs": [
    {
     "data": {
      "text/plain": [
       "[2, 3, 4, 5, 4, 6, 8, 10, 6, 9, 12, 15]"
      ]
     },
     "execution_count": 50,
     "metadata": {},
     "output_type": "execute_result"
    }
   ],
   "source": [
    "# Example of list comprehension of nested for loop\n",
    "[i*j for i in range(1,4) for j in range(2,6)]"
   ]
  },
  {
   "cell_type": "code",
   "execution_count": 51,
   "metadata": {},
   "outputs": [
    {
     "name": "stdout",
     "output_type": "stream",
     "text": [
      "1 2 2\n",
      "1 3 3\n",
      "1 4 4\n",
      "1 5 5\n",
      "2 2 4\n",
      "2 3 6\n",
      "2 4 8\n",
      "2 5 10\n",
      "3 2 6\n",
      "3 3 9\n",
      "3 4 12\n",
      "3 5 15\n"
     ]
    }
   ],
   "source": [
    "for i in range(1,4):\n",
    "    for j in range(2,6):\n",
    "        print(i,j,i*j)"
   ]
  },
  {
   "cell_type": "code",
   "execution_count": 52,
   "metadata": {},
   "outputs": [
    {
     "data": {
      "text/plain": [
       "[(1, 2, 2),\n",
       " (1, 3, 3),\n",
       " (1, 4, 4),\n",
       " (1, 5, 5),\n",
       " (2, 2, 4),\n",
       " (2, 3, 6),\n",
       " (2, 4, 8),\n",
       " (2, 5, 10),\n",
       " (3, 2, 6),\n",
       " (3, 3, 9),\n",
       " (3, 4, 12),\n",
       " (3, 5, 15)]"
      ]
     },
     "execution_count": 52,
     "metadata": {},
     "output_type": "execute_result"
    }
   ],
   "source": [
    "o_list = []\n",
    "for i in range(1,4):\n",
    "    for j in range(2,6):\n",
    "        o_list.append((i,j,i*j))\n",
    "o_list        "
   ]
  },
  {
   "cell_type": "code",
   "execution_count": 53,
   "metadata": {
    "scrolled": true
   },
   "outputs": [
    {
     "data": {
      "text/plain": [
       "[(1, 2, 2),\n",
       " (1, 3, 3),\n",
       " (1, 4, 4),\n",
       " (1, 5, 5),\n",
       " (2, 2, 4),\n",
       " (2, 3, 6),\n",
       " (2, 4, 8),\n",
       " (2, 5, 10),\n",
       " (3, 2, 6),\n",
       " (3, 3, 9),\n",
       " (3, 4, 12),\n",
       " (3, 5, 15)]"
      ]
     },
     "execution_count": 53,
     "metadata": {},
     "output_type": "execute_result"
    }
   ],
   "source": [
    "[(i,j,i*j) for i in range(1,4) for j in range(2,6)]"
   ]
  },
  {
   "cell_type": "code",
   "execution_count": 54,
   "metadata": {},
   "outputs": [
    {
     "data": {
      "text/plain": [
       "[[1, 2, 2],\n",
       " [1, 3, 3],\n",
       " [1, 4, 4],\n",
       " [1, 5, 5],\n",
       " [2, 2, 4],\n",
       " [2, 3, 6],\n",
       " [2, 4, 8],\n",
       " [2, 5, 10],\n",
       " [3, 2, 6],\n",
       " [3, 3, 9],\n",
       " [3, 4, 12],\n",
       " [3, 5, 15]]"
      ]
     },
     "execution_count": 54,
     "metadata": {},
     "output_type": "execute_result"
    }
   ],
   "source": [
    "[[i,j,i*j ]for i in range(1,4) for j in range(2,6)]"
   ]
  },
  {
   "cell_type": "markdown",
   "metadata": {},
   "source": [
    "### list generator"
   ]
  },
  {
   "cell_type": "code",
   "execution_count": 55,
   "metadata": {},
   "outputs": [],
   "source": [
    "# (<output_Expression> for <iterator> in <iterable>) # list generator"
   ]
  },
  {
   "cell_type": "code",
   "execution_count": 56,
   "metadata": {},
   "outputs": [],
   "source": [
    "## squaring each element\n",
    "tmp = []\n",
    "for each in list1:\n",
    "    tmp.append(each**2)"
   ]
  },
  {
   "cell_type": "code",
   "execution_count": 57,
   "metadata": {},
   "outputs": [
    {
     "data": {
      "text/plain": [
       "[1, 4, 9, 16, 25, 36, 49, 64, 81, 100]"
      ]
     },
     "execution_count": 57,
     "metadata": {},
     "output_type": "execute_result"
    }
   ],
   "source": [
    "[each**2 for each in list1]"
   ]
  },
  {
   "cell_type": "code",
   "execution_count": 58,
   "metadata": {},
   "outputs": [
    {
     "data": {
      "text/plain": [
       "<generator object <genexpr> at 0x00000197267F7648>"
      ]
     },
     "execution_count": 58,
     "metadata": {},
     "output_type": "execute_result"
    }
   ],
   "source": [
    "list2 = (each**2 for each in list1)\n",
    "list2"
   ]
  },
  {
   "cell_type": "code",
   "execution_count": 59,
   "metadata": {},
   "outputs": [
    {
     "data": {
      "text/plain": [
       "[1, 4, 9, 16, 25, 36, 49, 64, 81, 100]"
      ]
     },
     "execution_count": 59,
     "metadata": {},
     "output_type": "execute_result"
    }
   ],
   "source": [
    "list((each**2 for each in list1))"
   ]
  },
  {
   "cell_type": "code",
   "execution_count": 60,
   "metadata": {},
   "outputs": [
    {
     "name": "stdout",
     "output_type": "stream",
     "text": [
      "3\n",
      "6\n",
      "11\n",
      "18\n",
      "27\n",
      "38\n",
      "51\n",
      "66\n",
      "83\n",
      "102\n"
     ]
    }
   ],
   "source": [
    "for each in (each**2 for each in list1):\n",
    "    print(each+2)"
   ]
  },
  {
   "cell_type": "code",
   "execution_count": null,
   "metadata": {},
   "outputs": [],
   "source": []
  },
  {
   "cell_type": "code",
   "execution_count": null,
   "metadata": {},
   "outputs": [],
   "source": []
  }
 ],
 "metadata": {
  "kernelspec": {
   "display_name": "Python 3",
   "language": "python",
   "name": "python3"
  },
  "language_info": {
   "codemirror_mode": {
    "name": "ipython",
    "version": 3
   },
   "file_extension": ".py",
   "mimetype": "text/x-python",
   "name": "python",
   "nbconvert_exporter": "python",
   "pygments_lexer": "ipython3",
   "version": "3.8.5"
  }
 },
 "nbformat": 4,
 "nbformat_minor": 4
}
