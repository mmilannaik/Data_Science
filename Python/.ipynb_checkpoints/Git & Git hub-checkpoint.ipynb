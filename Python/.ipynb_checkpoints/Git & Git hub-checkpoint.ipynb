{
 "cells": [
  {
   "cell_type": "markdown",
   "metadata": {},
   "source": [
    "Git vs Git Hub ?\n",
    "Git-version control system- vcs\n",
    "i) It is used for version control.\n",
    "Centralised (CVCS)-TFS,Perforce & Distributed version control system (DVCS)-Git, Mercurial\n",
    "In centralised VCS\n",
    "i)Centralised server and multiple local system will be connecting to it\n",
    "ii)Every savings are in the central server.\n",
    "Distributed VCS\n",
    "i) With Central system, data is with the local system\n",
    "\n",
    "Github\n",
    "Online Repository- It implements git\n",
    "\n",
    "\n",
    "1. CVCS: after central system, Local system will update\n",
    "2. DVCS: Copy is available in every local system"
   ]
  },
  {
   "cell_type": "markdown",
   "metadata": {},
   "source": [
    "First install Git scm in the system\n",
    "1. set the command for (\n",
    "                        git config --global user.name mmilannaik\n",
    "                        git config --global user.email mmilannaik@gmail.com\n",
    "                        git config --global --list\n",
    "                        git config --global core.autocrlf.true\n",
    "                        git clone <Enter the link for github>\n",
    "2. Cd.. to get back/mkdir to make a new directory/\n",
    "3. ls/ ls -al(<shows all hidden folder>)\n",
    "     vim home.html / vim.py/i/write the program /Esc :wq/ cat p1.py\n",
    "4. git add . /git status/ git commit -m '<enter your comment>' /git status\n",
    "5. git push -f origin master\n"
   ]
  },
  {
   "cell_type": "code",
   "execution_count": null,
   "metadata": {},
   "outputs": [],
   "source": [
    "# to push a folder, there should be one file in it."
   ]
  },
  {
   "cell_type": "code",
   "execution_count": null,
   "metadata": {},
   "outputs": [],
   "source": [
    "# Why VCS?\n",
    "    # Backup/Archive\n",
    "    # Versoning/History\n",
    "    # Undo changes\n",
    "    # Comparing\n",
    "    # Collaboration/Teamwork\n",
    "    # Learning moment\n",
    "    # isolation of changes\n",
    "    # Experimentation\n",
    "    # Context switching\n",
    "    # Code review"
   ]
  },
  {
   "cell_type": "code",
   "execution_count": null,
   "metadata": {},
   "outputs": [],
   "source": [
    "# Software Developers/Engineers/Programmers\n",
    "#     Source code(Java, C++, Objective-C, Ruby, Python, Perl etc)\n",
    "#     Models(UML, ERB)\n",
    "#     SQL, Configuration, Text files\n",
    "\n",
    "# Freelancers\n",
    "#     Same as above\n",
    "\n",
    "# Web Designers\n",
    "#     Mockuos, Website Assets(Pages, Images)\n",
    "\n",
    "# Graphic Artists\n",
    "#     Original Arts, Vector Graphics, Photoshop Files\n",
    "\n",
    "# Share Code/Open Source"
   ]
  },
  {
   "cell_type": "code",
   "execution_count": null,
   "metadata": {},
   "outputs": [],
   "source": [
    "# Two main types:-\n",
    "#     Centralized\n",
    "#     Decentralized/Distributed\n",
    "\n",
    "# Centralized:-\n",
    "#     Free:-Subversion, CVS\n",
    "#     Commercial:- Clear Case, Perforce, Team Foundation Server(TFS)\n",
    "#     Required connection to central server for most operations\n",
    "\n",
    "# Distributed:-\n",
    "#     Mercurial\n",
    "#     Git\n",
    "#     Most Operations are local\n",
    "#     Central Server not required"
   ]
  },
  {
   "cell_type": "code",
   "execution_count": null,
   "metadata": {},
   "outputs": [],
   "source": [
    "# Distributed Source Control System\n",
    "#     Not required to be centralized\n",
    "# Massively Scales\n",
    "# Open Source\n",
    "# Developed for Linux Project requirements\n",
    "# Most operations are local\n",
    "# very fast\n",
    "# free and open source\n",
    "# Active community\n",
    "# Most popular DVCS, VCS - git"
   ]
  },
  {
   "cell_type": "code",
   "execution_count": null,
   "metadata": {},
   "outputs": [],
   "source": [
    "# Repository contain files, history, config managed by git.\n",
    "#     Repository also contains any history of changes and configuration changes.\n",
    "#     It contains all the files related to any project or application.\n",
    "\n",
    "# Three states of git\n",
    "#     Working Directory\n",
    "#     Staging area\n",
    "#     Repository(.git folder)\n",
    "\n",
    "# Remote Repository\n",
    "\n",
    "# Master branch - timelines that control your changes"
   ]
  },
  {
   "cell_type": "code",
   "execution_count": null,
   "metadata": {},
   "outputs": [],
   "source": [
    "windows - git bash -> desktop -> right click -> git bash here\n",
    "mac/linux - terminal"
   ]
  },
  {
   "cell_type": "code",
   "execution_count": null,
   "metadata": {},
   "outputs": [],
   "source": [
    "# Os Commands:-\n",
    "pwd -> Present Working directory\n",
    "ls -> lists all files and folders in currnet directory\n",
    "ls -al -> lists all files and folders in currnet directory including hiiden files\n",
    "cd .. -> Move one directory back\n",
    "cd Directory_Name/Path -> Move to Specified directory availbale in CWD\n",
    "mkdir Directory_Name -> Creates a directory with specified name\n",
    "mv 'src directory name' 'dst directory name' - moves\n",
    "rmdir Dir_name - removes empty directory\n",
    "rm -rf Dir_name - removes non empty directory\n",
    "\n",
    "\n",
    "\n",
    "# Git Commands:-\n",
    "For set up\n",
    "git config --global user.name User_name_in_quotation_if_space_in_name\n",
    "git config --global user.email User_email_id\n",
    "git config --global core.autocrlf true(Win)/input(Mac)\n",
    "git config --global --list\n",
    "\n",
    "\n",
    "git clone Repo_link -> Clones the repository from cloud to your local system\n",
    "git status - to check the status of the repo\n",
    "git add Dir_name/FileName_with_Extension - Move the file to staging area\n",
    "git commit - m 'msg' - move the file to local repo with the msg\n",
    "git push - push the code to cloud repo (Will ask for credentail while doing first time)\n",
    "gil pull - pulling all the changes from your cloud repo to local repo\n",
    "\n",
    "\n",
    "# File realted operation\n",
    "To open a file from CLI - vim filename.ext\n",
    "to go into insert mode - press 'i'\n",
    "to save and exit - press - 'esc' , :wq\n",
    "\n",
    "\n",
    "\n"
   ]
  },
  {
   "cell_type": "code",
   "execution_count": null,
   "metadata": {},
   "outputs": [],
   "source": [
    "# system - system\n",
    "global \n",
    "local - repo"
   ]
  },
  {
   "cell_type": "code",
   "execution_count": null,
   "metadata": {},
   "outputs": [],
   "source": [
    "git commit is completed\n",
    "need to send to cloud repo\n",
    "in my_project folder\n",
    "on desktop"
   ]
  },
  {
   "cell_type": "code",
   "execution_count": null,
   "metadata": {},
   "outputs": [],
   "source": [
    "*.html\n",
    "file1.html\n",
    "git add ."
   ]
  }
 ],
 "metadata": {
  "kernelspec": {
   "display_name": "Python 3",
   "language": "python",
   "name": "python3"
  },
  "language_info": {
   "codemirror_mode": {
    "name": "ipython",
    "version": 3
   },
   "file_extension": ".py",
   "mimetype": "text/x-python",
   "name": "python",
   "nbconvert_exporter": "python",
   "pygments_lexer": "ipython3",
   "version": "3.8.5"
  }
 },
 "nbformat": 4,
 "nbformat_minor": 4
}
