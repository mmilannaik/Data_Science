{
 "cells": [
  {
   "cell_type": "markdown",
   "metadata": {},
   "source": [
    "# Topics to be covered\n",
    "    Why we use OS and Programming Language? \n",
    "    High Level vs Low Level Programming Language \n",
    "    Why are we Learning Python?\n",
    "    Compiler vs Interpreter\n",
    "    Compiled vs Interpreted Languages\n",
    "    Different Types of Errors in Python\n",
    "    Compile time vs Run time Errors in Python \n",
    "    Source code, Byte code, Machine code\n",
    "    How a Python Program runs on our system."
   ]
  },
  {
   "cell_type": "code",
   "execution_count": null,
   "metadata": {},
   "outputs": [],
   "source": [
    "# Why do we need OS and Different PL?\n",
    "# Every software runs on your RAM\n",
    "\n",
    "OS - Operating Sysytem\n",
    "    It is the first application which gets loaded into the RAM.\n",
    "    It is used to allocate the resources to other applications.\n",
    "    Resources - Memory, CPU, I/O Devices etc\n",
    "\n",
    "\n",
    "\n",
    "PL - Programming language\n",
    "    To get our task done, we need some programming language.\n",
    "        1. Calculating monthly expenses - calculator\n",
    "        2. Make note - Notepad\n",
    "        3. Navigation - Google map\n",
    "        etc\n",
    "\n",
    "\n",
    "\n",
    "\n"
   ]
  },
  {
   "cell_type": "code",
   "execution_count": null,
   "metadata": {},
   "outputs": [],
   "source": [
    "# Types of Programming Languages\n",
    "    1. Low Level PL - Machine Language/Binary Language(0 and 1), Assembly Language\n",
    "    2. High Level PL - C, C++, Java, Python etc"
   ]
  },
  {
   "cell_type": "code",
   "execution_count": null,
   "metadata": {},
   "outputs": [],
   "source": [
    "# Low Level PL - Machine Understandable Language - Binary Langauge - 0 & 1\n",
    "#     Our system can understand only Binary Language - 0 & 1(Signals)\n",
    "\n",
    "# Sample Python code to add two numbers\n",
    "# a = 10\n",
    "# b = 20\n",
    "# c = a+b\n",
    "# print(c)\n",
    "\n",
    "# Sample Binary Code \n",
    "# a = 97\n",
    "\n",
    "# Problems - \n",
    "# 1. Not in the Human Readable format\n",
    "# 2. Not easy to write the application code and not easy to maintain\n",
    "\n",
    "# Advantage -\n",
    "# 1. Low Level PL are always faster\n"
   ]
  },
  {
   "cell_type": "code",
   "execution_count": null,
   "metadata": {},
   "outputs": [],
   "source": [
    "# ASCII Table - Every key is mapped with a decimal number\n",
    "\n",
    "Decimal - Binary - CPU for processing\n",
    "\n",
    "AA\n"
   ]
  },
  {
   "cell_type": "code",
   "execution_count": null,
   "metadata": {},
   "outputs": [],
   "source": [
    "# High Level Programming\n",
    "# Advantages\n",
    "    # 1. In the Human Readable format\n",
    "    # 2. Easy to write the application code and easy to maintain\n",
    "    \n",
    "# Disadvantages\n",
    "    # 1. It is slower"
   ]
  },
  {
   "cell_type": "code",
   "execution_count": null,
   "metadata": {},
   "outputs": [],
   "source": [
    "# 1. Why Python?\n",
    "# Python Features\n",
    "1. Python is simple, easy to learn and expressive language.\n",
    "# Sample Python code to add two numbers\n",
    "# a = 10\n",
    "# b = 20\n",
    "# c = a+b\n",
    "# print(c)\n",
    "\n",
    "# Sample Java code to add two numbers\n",
    "# public class AddTwoNumbers {\n",
    "\n",
    "#    public static void main(String[] args) {\n",
    "        \n",
    "#       int num1 = 5, num2 = 15, sum;\n",
    "#       sum = num1 + num2;\n",
    "\n",
    "#       System.out.println(\"Sum of these numbers: \"+sum);\n",
    "#    }\n",
    "# }\n",
    "\n",
    "# 2. Python is General Purpose PL\n",
    "    Application(Web, Desktop, Database) Development\n",
    "    Data Analysis\n",
    "    Data Scinece\n",
    "    Machine Learning or AI application\n",
    "    Emebedded Application\n",
    "    Automation\n",
    "    Scripting\n",
    "    \n",
    "3. Python is Interpreted Language\n",
    "    \n",
    "\n",
    "\n",
    "\n",
    "\n",
    "\n",
    "\n"
   ]
  },
  {
   "cell_type": "code",
   "execution_count": null,
   "metadata": {},
   "outputs": [],
   "source": [
    "Translator - Translate the code from High level to Low level\n",
    "    1. Compiler - Compiles the whole code at once\n",
    "    2. Interpreter - Interprets the code line by line\n",
    "    "
   ]
  },
  {
   "cell_type": "code",
   "execution_count": null,
   "metadata": {},
   "outputs": [],
   "source": [
    "# Types of Programming language based on Translator\n",
    "    1. Compiled - Compiler or Explicit compilation step or the type checking and memory allocation at compile time\n",
    "    2. Interpreted - Interpreter or no Explicit compilation step or the type checking and memory allocation at Interpretation time\n",
    "    \n",
    "    \n",
    "    "
   ]
  },
  {
   "cell_type": "code",
   "execution_count": 2,
   "metadata": {
    "ExecuteTime": {
     "end_time": "2020-11-23T15:43:42.338553Z",
     "start_time": "2020-11-23T15:43:42.325085Z"
    }
   },
   "outputs": [
    {
     "name": "stdout",
     "output_type": "stream",
     "text": [
      "30\n"
     ]
    }
   ],
   "source": [
    "a = 10\n",
    "b = 20\n",
    "c = a+b\n",
    "print(c)"
   ]
  },
  {
   "cell_type": "code",
   "execution_count": null,
   "metadata": {},
   "outputs": [],
   "source": [
    "# Type of Error in Python\n",
    "    1. Compile Time Error - Syantx Error or Indentation Error etc\n",
    "    2. Run Time Error - NameError,TypeError, ValueError etc"
   ]
  },
  {
   "cell_type": "code",
   "execution_count": null,
   "metadata": {},
   "outputs": [],
   "source": [
    "# Compiler in Python checks only for the compile time Error\n",
    "#     If no compile time error is found then it will generate the byte code\n",
    "#     and if there is any compile time error then it will not generate the byte code\n",
    "#     it will also generate the byte code if there is any run time error"
   ]
  },
  {
   "cell_type": "code",
   "execution_count": 15,
   "metadata": {
    "ExecuteTime": {
     "end_time": "2020-11-23T15:58:44.304661Z",
     "start_time": "2020-11-23T15:58:44.293787Z"
    }
   },
   "outputs": [
    {
     "name": "stdout",
     "output_type": "stream",
     "text": [
      "30\n"
     ]
    }
   ],
   "source": [
    "# Syntax Error - set of rutls to write a program\n",
    "a = 10\n",
    "b = 20\n",
    "c = a+b\n",
    "print(c)\n",
    "# print(a)\n",
    "# print(b)\n",
    "\n",
    "\n",
    "\n"
   ]
  },
  {
   "cell_type": "code",
   "execution_count": 13,
   "metadata": {
    "ExecuteTime": {
     "end_time": "2020-11-23T15:58:36.706557Z",
     "start_time": "2020-11-23T15:58:36.695630Z"
    }
   },
   "outputs": [
    {
     "name": "stdout",
     "output_type": "stream",
     "text": [
      "30\n"
     ]
    }
   ],
   "source": [
    "# indentation Error\n",
    "a = 10\n",
    "b = 20\n",
    "c = a+b\n",
    "print(c)"
   ]
  },
  {
   "cell_type": "code",
   "execution_count": null,
   "metadata": {},
   "outputs": [],
   "source": [
    "# Interpreter checks only for run time error\n",
    "#     Since interpreter executes the code line by line, so if any run time is ther in your byte code then it will \n",
    "#     stop the execution immediately and does the partial execution"
   ]
  },
  {
   "cell_type": "code",
   "execution_count": 10,
   "metadata": {
    "ExecuteTime": {
     "end_time": "2020-11-23T15:56:25.451240Z",
     "start_time": "2020-11-23T15:56:25.223708Z"
    }
   },
   "outputs": [
    {
     "name": "stdout",
     "output_type": "stream",
     "text": [
      "30\n",
      "10\n"
     ]
    },
    {
     "ename": "NameError",
     "evalue": "name 'd' is not defined",
     "output_type": "error",
     "traceback": [
      "\u001b[0;31m---------------------------------------------------------------------------\u001b[0m",
      "\u001b[0;31mNameError\u001b[0m                                 Traceback (most recent call last)",
      "\u001b[0;32m<ipython-input-10-676ff10b206b>\u001b[0m in \u001b[0;36m<module>\u001b[0;34m\u001b[0m\n\u001b[1;32m      6\u001b[0m \u001b[0mprint\u001b[0m\u001b[0;34m(\u001b[0m\u001b[0mc\u001b[0m\u001b[0;34m)\u001b[0m\u001b[0;34m\u001b[0m\u001b[0;34m\u001b[0m\u001b[0m\n\u001b[1;32m      7\u001b[0m \u001b[0mprint\u001b[0m\u001b[0;34m(\u001b[0m\u001b[0ma\u001b[0m\u001b[0;34m)\u001b[0m\u001b[0;34m\u001b[0m\u001b[0;34m\u001b[0m\u001b[0m\n\u001b[0;32m----> 8\u001b[0;31m \u001b[0mprint\u001b[0m\u001b[0;34m(\u001b[0m\u001b[0md\u001b[0m\u001b[0;34m)\u001b[0m\u001b[0;34m\u001b[0m\u001b[0;34m\u001b[0m\u001b[0m\n\u001b[0m\u001b[1;32m      9\u001b[0m \u001b[0mprint\u001b[0m\u001b[0;34m(\u001b[0m\u001b[0mb\u001b[0m\u001b[0;34m)\u001b[0m\u001b[0;34m\u001b[0m\u001b[0;34m\u001b[0m\u001b[0m\n\u001b[1;32m     10\u001b[0m \u001b[0;34m\u001b[0m\u001b[0m\n",
      "\u001b[0;31mNameError\u001b[0m: name 'd' is not defined"
     ]
    }
   ],
   "source": [
    "# Run time Error\n",
    "\n",
    "a = 10\n",
    "b = 20\n",
    "c = a+b\n",
    "print(c)\n",
    "print(a)\n",
    "print(d)\n",
    "print(b)\n",
    "\n"
   ]
  },
  {
   "cell_type": "code",
   "execution_count": null,
   "metadata": {},
   "outputs": [],
   "source": []
  },
  {
   "cell_type": "code",
   "execution_count": null,
   "metadata": {},
   "outputs": [],
   "source": []
  },
  {
   "cell_type": "code",
   "execution_count": null,
   "metadata": {},
   "outputs": [],
   "source": []
  },
  {
   "cell_type": "code",
   "execution_count": null,
   "metadata": {},
   "outputs": [],
   "source": []
  },
  {
   "cell_type": "code",
   "execution_count": null,
   "metadata": {},
   "outputs": [],
   "source": []
  },
  {
   "cell_type": "code",
   "execution_count": null,
   "metadata": {},
   "outputs": [],
   "source": []
  },
  {
   "cell_type": "code",
   "execution_count": null,
   "metadata": {},
   "outputs": [],
   "source": []
  }
 ],
 "metadata": {
  "kernelspec": {
   "display_name": "Python 3",
   "language": "python",
   "name": "python3"
  },
  "language_info": {
   "codemirror_mode": {
    "name": "ipython",
    "version": 3
   },
   "file_extension": ".py",
   "mimetype": "text/x-python",
   "name": "python",
   "nbconvert_exporter": "python",
   "pygments_lexer": "ipython3",
   "version": "3.7.3"
  },
  "varInspector": {
   "cols": {
    "lenName": 16,
    "lenType": 16,
    "lenVar": 40
   },
   "kernels_config": {
    "python": {
     "delete_cmd_postfix": "",
     "delete_cmd_prefix": "del ",
     "library": "var_list.py",
     "varRefreshCmd": "print(var_dic_list())"
    },
    "r": {
     "delete_cmd_postfix": ") ",
     "delete_cmd_prefix": "rm(",
     "library": "var_list.r",
     "varRefreshCmd": "cat(var_dic_list()) "
    }
   },
   "types_to_exclude": [
    "module",
    "function",
    "builtin_function_or_method",
    "instance",
    "_Feature"
   ],
   "window_display": false
  }
 },
 "nbformat": 4,
 "nbformat_minor": 2
}
