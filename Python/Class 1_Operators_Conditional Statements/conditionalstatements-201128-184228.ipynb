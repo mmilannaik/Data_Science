{
 "cells": [
  {
   "cell_type": "code",
   "execution_count": 1,
   "metadata": {},
   "outputs": [],
   "source": [
    "# if \n",
    "# if else\n",
    "# if elif else"
   ]
  },
  {
   "cell_type": "code",
   "execution_count": 2,
   "metadata": {},
   "outputs": [],
   "source": [
    "# # syntax\n",
    "# if(<expression>):\n",
    "#     <body of the if-block>    "
   ]
  },
  {
   "cell_type": "code",
   "execution_count": 3,
   "metadata": {},
   "outputs": [
    {
     "name": "stdout",
     "output_type": "stream",
     "text": [
      "out of the if block\n"
     ]
    }
   ],
   "source": [
    "n = -5\n",
    "if(n>0):\n",
    "    print(\"It's a positive number\")\n",
    "print('out of the if block')"
   ]
  },
  {
   "cell_type": "code",
   "execution_count": 4,
   "metadata": {},
   "outputs": [],
   "source": [
    "# if else\n",
    "# if (expression1):\n",
    "    # if body\n",
    "# else :\n",
    "#     <else -body>"
   ]
  },
  {
   "cell_type": "code",
   "execution_count": 5,
   "metadata": {},
   "outputs": [
    {
     "name": "stdout",
     "output_type": "stream",
     "text": [
      "It's a negative number\n",
      "out of the if block\n"
     ]
    }
   ],
   "source": [
    "n = -5\n",
    "if(n>0):\n",
    "    print(\"It's a positive number\")\n",
    "else:\n",
    "    print(\"It's a negative number\")\n",
    "print('out of the if block')"
   ]
  },
  {
   "cell_type": "code",
   "execution_count": 6,
   "metadata": {},
   "outputs": [
    {
     "name": "stdout",
     "output_type": "stream",
     "text": [
      "It's a negative number\n",
      "out of the if block\n"
     ]
    }
   ],
   "source": [
    "n = 0\n",
    "if(n>0):\n",
    "    print(\"It's a positive number\")\n",
    "else:\n",
    "    print(\"It's a negative number\")\n",
    "print('out of the if block')"
   ]
  },
  {
   "cell_type": "code",
   "execution_count": 7,
   "metadata": {},
   "outputs": [],
   "source": [
    "# if elif else\n",
    "# if (expression1):\n",
    "#     <if-body>\n",
    "# elif (expression2):\n",
    "#     <elif - body>\n",
    "# elif (expression3):\n",
    "#     <elif - body>  \n",
    "# .......    \n",
    "# else:\n",
    "#     <else - body>"
   ]
  },
  {
   "cell_type": "code",
   "execution_count": 8,
   "metadata": {},
   "outputs": [
    {
     "name": "stdout",
     "output_type": "stream",
     "text": [
      "zero\n",
      "out of the if block\n"
     ]
    }
   ],
   "source": [
    "n = 0\n",
    "if(n>0):\n",
    "    print(\"It's a positive number\")\n",
    "elif (n < 0):\n",
    "    print(\"It's a negative number\")\n",
    "else:\n",
    "    print('zero')\n",
    "    \n",
    "print('out of the if block')"
   ]
  },
  {
   "cell_type": "markdown",
   "metadata": {},
   "source": [
    "1. WAP to print suitable message when a number is even or odd.\n",
    "2. WAP to design a basic calculate: +,-,*,/,%.\n",
    "3. WAP to compare two numbers. (10, 20), (20,10)\n",
    "4. WAP to compare three numbers. (10,20,5), (10,20,30), (5,6,7)"
   ]
  },
  {
   "cell_type": "code",
   "execution_count": 9,
   "metadata": {},
   "outputs": [
    {
     "name": "stdout",
     "output_type": "stream",
     "text": [
      "Enter a number:5\n",
      "Odd\n"
     ]
    }
   ],
   "source": [
    "# WAP to print suitable message when a number is even or odd.\n",
    "n = int(input('Enter a number:'))\n",
    "# n = int(n)\n",
    "if(n%2==0):\n",
    "    print('Even')\n",
    "else:\n",
    "    print('Odd')"
   ]
  },
  {
   "cell_type": "code",
   "execution_count": 10,
   "metadata": {},
   "outputs": [
    {
     "name": "stdout",
     "output_type": "stream",
     "text": [
      "Enter 1st number: 6\n",
      "Enter 2nd number: 7\n",
      "Enter operator: +\n",
      "13\n"
     ]
    }
   ],
   "source": [
    "# WAP to design a basic calculate: +,-,*,/,%.\n",
    "n1 = int(input('Enter 1st number: '))\n",
    "n2 = int(input('Enter 2nd number: '))\n",
    "op = input('Enter operator: ')\n",
    "\n",
    "if(op=='+'):\n",
    "    print(n1+n2)\n",
    "elif(op=='-'):\n",
    "    print(n1-n2)\n",
    "elif(op=='*'):\n",
    "    print(n1*n2) \n",
    "elif(op=='/'):\n",
    "    if n2 != 0:\n",
    "        print(n1/n2)\n",
    "    else:\n",
    "        print('Error! Division by zero invalid')\n",
    "elif(op=='%'):\n",
    "    if n2 != 0:\n",
    "        print(n1%n2)\n",
    "    else:\n",
    "        print('Error! Division by zero invalid')   \n",
    "else:\n",
    "    print('Error! Invalid operation')"
   ]
  },
  {
   "cell_type": "code",
   "execution_count": 11,
   "metadata": {},
   "outputs": [
    {
     "name": "stdout",
     "output_type": "stream",
     "text": [
      "Enter 1st number: 4\n",
      "Enter 2nd number: 3\n",
      "Enter operator: +\n",
      "7.0\n"
     ]
    }
   ],
   "source": [
    "n1 = float(input('Enter 1st number: '))\n",
    "n2 = float(input('Enter 2nd number: '))\n",
    "op = input('Enter operator: ')\n",
    "\n",
    "if(op=='+'):\n",
    "    print(n1+n2)\n",
    "elif(op=='-'):\n",
    "    print(n1-n2)\n",
    "elif(op=='*'):\n",
    "    print(n1*n2) \n",
    "elif(op=='/'):\n",
    "    if n2 != 0:\n",
    "        print(n1/n2)\n",
    "    else:\n",
    "        print('Error! Division by zero invalid')\n",
    "elif(op=='%'):\n",
    "    if n2 != 0:\n",
    "        print(n1%n2)\n",
    "    else:\n",
    "        print('Error! Division by zero invalid')   \n",
    "else:\n",
    "    print('Error! Invalid operation')"
   ]
  },
  {
   "cell_type": "code",
   "execution_count": 12,
   "metadata": {},
   "outputs": [
    {
     "name": "stdout",
     "output_type": "stream",
     "text": [
      "12 is greater than 10\n"
     ]
    }
   ],
   "source": [
    "# WAP to compare two numbers. (10, 20), (20,10)\n",
    "n1 = 10\n",
    "n2 = 12\n",
    "\n",
    "if (n1 > n2):\n",
    "    print('{} is greater than {}'.format(n1,n2))\n",
    "elif (n2 > n1):\n",
    "    print('{} is greater than {}'.format(n2,n1))\n",
    "else:\n",
    "    print('Both numbers are same.')"
   ]
  },
  {
   "cell_type": "code",
   "execution_count": 13,
   "metadata": {},
   "outputs": [
    {
     "name": "stdout",
     "output_type": "stream",
     "text": [
      "10 is greater than  12\n"
     ]
    }
   ],
   "source": [
    "print(str(n1) + ' is greater than  ' + str(n2))"
   ]
  },
  {
   "cell_type": "code",
   "execution_count": 14,
   "metadata": {},
   "outputs": [
    {
     "name": "stdout",
     "output_type": "stream",
     "text": [
      "5 is greater number\n",
      "3 is smallest number\n"
     ]
    }
   ],
   "source": [
    "# WAP to compare three numbers. (10,20,5), (10,20,30), (5,6,7), (30,20,10)\n",
    "a = 4\n",
    "b = 5\n",
    "c = 3\n",
    "\n",
    "if (a > b > c):\n",
    "    print('{} is greater number'.format(a))\n",
    "    if (b > c):\n",
    "        print('{} is smallest number'.format(c))\n",
    "    else:\n",
    "        print('{} is smallest number'.format(b))\n",
    "elif (b > a> c):\n",
    "        print('{} is greater number'.format(b))\n",
    "        if (a > c):\n",
    "            print('{} is smallest number'.format(c))\n",
    "        else:\n",
    "            print('{} is smallest number'.format(a))\n",
    "elif (c>a>b):\n",
    "        print('{} is greater number'.format(c))\n",
    "        if (a > b):\n",
    "            print('{} is smallest number'.format(b))\n",
    "        else:\n",
    "            print('{} is smallest number'.format(a))\n",
    "elif (a>c>b):\n",
    "        print('{} is greater number'.format(a))\n",
    "        if (c > b):\n",
    "            print('{} is smallest number'.format(b))\n",
    "        else:\n",
    "            print('{} is smallest number'.format(c))            \n",
    "elif (b>c>a):\n",
    "        print('{} is greater number'.format(b))\n",
    "        if (c > a):\n",
    "            print('{} is smallest number'.format(a))\n",
    "        else:\n",
    "            print('{} is smallest number'.format(c))    \n",
    "elif (c>a>b):\n",
    "        print('{} is greater number'.format(c))\n",
    "        if (c > b):\n",
    "            print('{} is smallest number'.format(b))\n",
    "        else:\n",
    "            print('{} is smallest number'.format(c))             "
   ]
  },
  {
   "cell_type": "code",
   "execution_count": null,
   "metadata": {},
   "outputs": [],
   "source": []
  },
  {
   "cell_type": "code",
   "execution_count": null,
   "metadata": {},
   "outputs": [],
   "source": []
  },
  {
   "cell_type": "code",
   "execution_count": null,
   "metadata": {},
   "outputs": [],
   "source": []
  }
 ],
 "metadata": {
  "kernelspec": {
   "display_name": "Python 3",
   "language": "python",
   "name": "python3"
  },
  "language_info": {
   "codemirror_mode": {
    "name": "ipython",
    "version": 3
   },
   "file_extension": ".py",
   "mimetype": "text/x-python",
   "name": "python",
   "nbconvert_exporter": "python",
   "pygments_lexer": "ipython3",
   "version": "3.8.5"
  }
 },
 "nbformat": 4,
 "nbformat_minor": 4
}
