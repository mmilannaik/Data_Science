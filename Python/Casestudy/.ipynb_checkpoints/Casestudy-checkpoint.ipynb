{
 "cells": [
  {
   "cell_type": "code",
   "execution_count": null,
   "metadata": {},
   "outputs": [],
   "source": [
    "# List out all columns names."
   ]
  },
  {
   "cell_type": "code",
   "execution_count": null,
   "metadata": {},
   "outputs": [],
   "source": [
    "Read the given comma separated file as dataframe.\n",
    "2. List out all columns names.\n",
    "3. Create a dataframe with numerical columns.\n",
    "4. Create a dataframe with categorical columns.\n",
    "5. Get summary on the data and draw inferences if any.\n",
    "6. Display duplicate rows.\n",
    "7. For each column find out percentage of missing values.\n",
    "8. Find count of ‘name’ in each ‘country_code’.\n",
    "9. What is the percentage of the companies which have status ‘acquired’ and\n",
    "‘operating’?\n",
    "10.Create a column ‘category_list_count’ having count of category lists.\n",
    "11.Find total ‘fundings’ for each country_code.\n",
    "12.Find average ‘fundings’ for each country_code.\n",
    "13.Find average ‘fundings’ in each region.\n",
    "14.How many companies have got just 1 round of funding?\n",
    "15.How many companies have ‘debt_financing’ above zero?\n",
    "16.Create a column ‘homepage’ to store company name from ‘homepage_url’: For\n",
    "example: If url is http://www.waywire.com, name is waywire.\n",
    "17.Find count of companies in each of the market.\n",
    "18.Rename ' funding_total_usd ' to 'funding_total_usd'\n",
    "19.For each row in column ‘funding_total_usd’, calculate actual – average value for\n",
    "each group ‘city’\n",
    "20.What is average ‘funding_Total_used’ for each city?\n",
    "21.Plot histogram/distribution of ‘funding_total_usd’ and provide insights if any.\n",
    "22.What is maximum ‘funding_total_usd’ for each market status?\n",
    "23.How many years it have been since each company was founded?\n",
    "24.Visualize ‘grant’ distribution.\n",
    "25.Visualize ‘debt_financing’ distribution.\n",
    "Case Study 2:\n",
    "Load practice.csv file as a data-frame and perform following operations on the\n",
    "data-frame\n",
    "1. Display all columns\n",
    "2. create numerical and categorical columns list\n",
    "3. display size of the data-frame\n",
    "4. rename column MSSubClass -> SubClass, MSZoning -> Zones\n",
    "5. display distinct values for Zoning, LotShape, LotConfig\n",
    "6. display count of distinct values for Zoning, LotShape, LotConfig\n",
    "7. max, min of column YearBuilt\n",
    "8. create a new column “year_diff’. This will be holding difference of current year\n",
    "and YearBuilt\n",
    "9. display distinct MSZoning for each OverallQual\n",
    "10.what is maximum LotArea where BsmtExposure = Mn?\n",
    "11.Sort dataframe based on following columns and orders: MSSubClass; ascending,\n",
    "YearBuilt; descending\n",
    "12.What is average OverallQual.\n",
    "13.Group by YearBuilt and find maximum OverallQal\n",
    "14.Load the data_1.csv again with MSSubClass as new index\n",
    "15.Convert LotArea as numpy array\n",
    "16.In column MasVnrArea replace 0 with -1\n",
    "17.Check if there is/are any Null values (NaN) in the data given\n",
    "18.Display percentage of missing values in each column if any\n",
    "19.Select records where LotConfig is Inside\n",
    "20.Make a new dataframe with only numeric columns\n",
    "21.Make a new dataframe with only factorial/string columns\n",
    "22.Drop column ExterQual\n",
    "23.Group data on LotShape and find average LotArea"
   ]
  },
  {
   "cell_type": "code",
   "execution_count": 2,
   "metadata": {},
   "outputs": [],
   "source": [
    "import pandas as pd\n",
    "import numpy as np"
   ]
  },
  {
   "cell_type": "markdown",
   "metadata": {},
   "source": [
    "# Read the given comma separated file as dataframe.\n"
   ]
  },
  {
   "cell_type": "code",
   "execution_count": null,
   "metadata": {},
   "outputs": [],
   "source": [
    "df=pd.read_csv('investments.csv',encoding='latin-1')\n",
    "df.shape"
   ]
  },
  {
   "cell_type": "code",
   "execution_count": 6,
   "metadata": {},
   "outputs": [
    {
     "data": {
      "text/plain": [
       "<bound method DataFrame.info of                                 name                   homepage_url  \\\n",
       "0                           #waywire         http://www.waywire.com   \n",
       "1                 &TV Communications          http://enjoyandtv.com   \n",
       "2                   Rock' Your Paper   http://www.rockyourpaper.org   \n",
       "3                  (In)Touch Network  http://www.InTouchNetwork.com   \n",
       "4                 -R- Ranch and Mine                            NaN   \n",
       "...                              ...                            ...   \n",
       "49433                          Zzish           http://www.zzish.com   \n",
       "49434  ZZNode Science and Technology          http://www.zznode.com   \n",
       "49435          Zzzzapp Wireless ltd.         http://www.zzzzapp.com   \n",
       "49436                  [a]list games      http://www.alistgames.com   \n",
       "49437                          [x+1]       http://www.xplusone.com/   \n",
       "\n",
       "                                           category_list               market  \\\n",
       "0             |Entertainment|Politics|Social Media|News|                 News   \n",
       "1                                                |Games|                Games   \n",
       "2                                 |Publishing|Education|           Publishing   \n",
       "3      |Electronics|Guides|Coffee|Restaurants|Music|i...          Electronics   \n",
       "4                          |Tourism|Entertainment|Games|              Tourism   \n",
       "...                                                  ...                  ...   \n",
       "49433  |Analytics|Gamification|Developer APIs|iOS|And...            Education   \n",
       "49434                              |Enterprise Software|  Enterprise Software   \n",
       "49435      |Web Development|Advertising|Wireless|Mobile|      Web Development   \n",
       "49436                                            |Games|                Games   \n",
       "49437                              |Enterprise Software|  Enterprise Software   \n",
       "\n",
       "      funding_total_usd     status country_code state_code         region  \\\n",
       "0             17,50,000   acquired          USA         NY  New York City   \n",
       "1             40,00,000  operating          USA         CA    Los Angeles   \n",
       "2                40,000  operating          EST        NaN        Tallinn   \n",
       "3             15,00,000  operating          GBR        NaN         London   \n",
       "4                60,000  operating          USA         TX         Dallas   \n",
       "...                 ...        ...          ...        ...            ...   \n",
       "49433          3,20,000  operating          GBR        NaN         London   \n",
       "49434         15,87,301  operating          CHN        NaN        Beijing   \n",
       "49435            97,398  operating          HRV        NaN          Split   \n",
       "49436         93,00,000  operating          NaN        NaN            NaN   \n",
       "49437       4,50,00,000  operating          USA         NY  New York City   \n",
       "\n",
       "              city  funding_rounds  founded_year  debt_financing  grant  \n",
       "0         New York               1        2012.0               0      0  \n",
       "1      Los Angeles               2           NaN               0      0  \n",
       "2          Tallinn               1        2012.0               0      0  \n",
       "3           London               1        2011.0               0      0  \n",
       "4       Fort Worth               2        2014.0               0      0  \n",
       "...            ...             ...           ...             ...    ...  \n",
       "49433       London               1        2013.0               0      0  \n",
       "49434      Beijing               1           NaN               0      0  \n",
       "49435        Split               5        2012.0               0      0  \n",
       "49436          NaN               1           NaN               0      0  \n",
       "49437     New York               4        1999.0        17000000      0  \n",
       "\n",
       "[49438 rows x 14 columns]>"
      ]
     },
     "execution_count": 6,
     "metadata": {},
     "output_type": "execute_result"
    }
   ],
   "source": [
    "df.info\n"
   ]
  },
  {
   "cell_type": "code",
   "execution_count": 7,
   "metadata": {},
   "outputs": [
    {
     "name": "stdout",
     "output_type": "stream",
     "text": [
      "<class 'pandas.core.frame.DataFrame'>\n",
      "RangeIndex: 49438 entries, 0 to 49437\n",
      "Data columns (total 14 columns):\n",
      " #   Column             Non-Null Count  Dtype  \n",
      "---  ------             --------------  -----  \n",
      " 0   name               49437 non-null  object \n",
      " 1   homepage_url       45989 non-null  object \n",
      " 2   category_list      45477 non-null  object \n",
      " 3   market             45470 non-null  object \n",
      " 4   funding_total_usd  49438 non-null  object \n",
      " 5   status             48124 non-null  object \n",
      " 6   country_code       44165 non-null  object \n",
      " 7   state_code         30161 non-null  object \n",
      " 8   region             44165 non-null  object \n",
      " 9   city               43322 non-null  object \n",
      " 10  funding_rounds     49438 non-null  int64  \n",
      " 11  founded_year       38482 non-null  float64\n",
      " 12  debt_financing     49438 non-null  int64  \n",
      " 13  grant              49438 non-null  int64  \n",
      "dtypes: float64(1), int64(3), object(10)\n",
      "memory usage: 5.3+ MB\n"
     ]
    }
   ],
   "source": [
    "df.info()"
   ]
  },
  {
   "cell_type": "code",
   "execution_count": 8,
   "metadata": {},
   "outputs": [
    {
     "data": {
      "text/html": [
       "<div>\n",
       "<style scoped>\n",
       "    .dataframe tbody tr th:only-of-type {\n",
       "        vertical-align: middle;\n",
       "    }\n",
       "\n",
       "    .dataframe tbody tr th {\n",
       "        vertical-align: top;\n",
       "    }\n",
       "\n",
       "    .dataframe thead th {\n",
       "        text-align: right;\n",
       "    }\n",
       "</style>\n",
       "<table border=\"1\" class=\"dataframe\">\n",
       "  <thead>\n",
       "    <tr style=\"text-align: right;\">\n",
       "      <th></th>\n",
       "      <th>name</th>\n",
       "      <th>homepage_url</th>\n",
       "      <th>category_list</th>\n",
       "      <th>market</th>\n",
       "      <th>funding_total_usd</th>\n",
       "      <th>status</th>\n",
       "      <th>country_code</th>\n",
       "      <th>state_code</th>\n",
       "      <th>region</th>\n",
       "      <th>city</th>\n",
       "      <th>funding_rounds</th>\n",
       "      <th>founded_year</th>\n",
       "      <th>debt_financing</th>\n",
       "      <th>grant</th>\n",
       "    </tr>\n",
       "  </thead>\n",
       "  <tbody>\n",
       "    <tr>\n",
       "      <th>0</th>\n",
       "      <td>#waywire</td>\n",
       "      <td>http://www.waywire.com</td>\n",
       "      <td>|Entertainment|Politics|Social Media|News|</td>\n",
       "      <td>News</td>\n",
       "      <td>17,50,000</td>\n",
       "      <td>acquired</td>\n",
       "      <td>USA</td>\n",
       "      <td>NY</td>\n",
       "      <td>New York City</td>\n",
       "      <td>New York</td>\n",
       "      <td>1</td>\n",
       "      <td>2012.0</td>\n",
       "      <td>0</td>\n",
       "      <td>0</td>\n",
       "    </tr>\n",
       "    <tr>\n",
       "      <th>1</th>\n",
       "      <td>&amp;TV Communications</td>\n",
       "      <td>http://enjoyandtv.com</td>\n",
       "      <td>|Games|</td>\n",
       "      <td>Games</td>\n",
       "      <td>40,00,000</td>\n",
       "      <td>operating</td>\n",
       "      <td>USA</td>\n",
       "      <td>CA</td>\n",
       "      <td>Los Angeles</td>\n",
       "      <td>Los Angeles</td>\n",
       "      <td>2</td>\n",
       "      <td>NaN</td>\n",
       "      <td>0</td>\n",
       "      <td>0</td>\n",
       "    </tr>\n",
       "    <tr>\n",
       "      <th>2</th>\n",
       "      <td>Rock' Your Paper</td>\n",
       "      <td>http://www.rockyourpaper.org</td>\n",
       "      <td>|Publishing|Education|</td>\n",
       "      <td>Publishing</td>\n",
       "      <td>40,000</td>\n",
       "      <td>operating</td>\n",
       "      <td>EST</td>\n",
       "      <td>NaN</td>\n",
       "      <td>Tallinn</td>\n",
       "      <td>Tallinn</td>\n",
       "      <td>1</td>\n",
       "      <td>2012.0</td>\n",
       "      <td>0</td>\n",
       "      <td>0</td>\n",
       "    </tr>\n",
       "    <tr>\n",
       "      <th>3</th>\n",
       "      <td>(In)Touch Network</td>\n",
       "      <td>http://www.InTouchNetwork.com</td>\n",
       "      <td>|Electronics|Guides|Coffee|Restaurants|Music|i...</td>\n",
       "      <td>Electronics</td>\n",
       "      <td>15,00,000</td>\n",
       "      <td>operating</td>\n",
       "      <td>GBR</td>\n",
       "      <td>NaN</td>\n",
       "      <td>London</td>\n",
       "      <td>London</td>\n",
       "      <td>1</td>\n",
       "      <td>2011.0</td>\n",
       "      <td>0</td>\n",
       "      <td>0</td>\n",
       "    </tr>\n",
       "    <tr>\n",
       "      <th>4</th>\n",
       "      <td>-R- Ranch and Mine</td>\n",
       "      <td>NaN</td>\n",
       "      <td>|Tourism|Entertainment|Games|</td>\n",
       "      <td>Tourism</td>\n",
       "      <td>60,000</td>\n",
       "      <td>operating</td>\n",
       "      <td>USA</td>\n",
       "      <td>TX</td>\n",
       "      <td>Dallas</td>\n",
       "      <td>Fort Worth</td>\n",
       "      <td>2</td>\n",
       "      <td>2014.0</td>\n",
       "      <td>0</td>\n",
       "      <td>0</td>\n",
       "    </tr>\n",
       "  </tbody>\n",
       "</table>\n",
       "</div>"
      ],
      "text/plain": [
       "                 name                   homepage_url  \\\n",
       "0            #waywire         http://www.waywire.com   \n",
       "1  &TV Communications          http://enjoyandtv.com   \n",
       "2    Rock' Your Paper   http://www.rockyourpaper.org   \n",
       "3   (In)Touch Network  http://www.InTouchNetwork.com   \n",
       "4  -R- Ranch and Mine                            NaN   \n",
       "\n",
       "                                       category_list       market  \\\n",
       "0         |Entertainment|Politics|Social Media|News|         News   \n",
       "1                                            |Games|        Games   \n",
       "2                             |Publishing|Education|   Publishing   \n",
       "3  |Electronics|Guides|Coffee|Restaurants|Music|i...  Electronics   \n",
       "4                      |Tourism|Entertainment|Games|      Tourism   \n",
       "\n",
       "  funding_total_usd     status country_code state_code         region  \\\n",
       "0         17,50,000   acquired          USA         NY  New York City   \n",
       "1         40,00,000  operating          USA         CA    Los Angeles   \n",
       "2            40,000  operating          EST        NaN        Tallinn   \n",
       "3         15,00,000  operating          GBR        NaN         London   \n",
       "4            60,000  operating          USA         TX         Dallas   \n",
       "\n",
       "          city  funding_rounds  founded_year  debt_financing  grant  \n",
       "0     New York               1        2012.0               0      0  \n",
       "1  Los Angeles               2           NaN               0      0  \n",
       "2      Tallinn               1        2012.0               0      0  \n",
       "3       London               1        2011.0               0      0  \n",
       "4   Fort Worth               2        2014.0               0      0  "
      ]
     },
     "execution_count": 8,
     "metadata": {},
     "output_type": "execute_result"
    }
   ],
   "source": [
    "df.head()"
   ]
  },
  {
   "cell_type": "markdown",
   "metadata": {},
   "source": [
    "Founded year has numeric we have ti change to date type\n",
    "funding tot al usd has comma value so it is shown as object type\n",
    "there are null values in the sheet also as total value are 49348 entries."
   ]
  },
  {
   "cell_type": "code",
   "execution_count": 9,
   "metadata": {},
   "outputs": [
    {
     "data": {
      "text/plain": [
       "Index(['name', 'homepage_url', 'category_list', 'market', 'funding_total_usd',\n",
       "       'status', 'country_code', 'state_code', 'region', 'city',\n",
       "       'funding_rounds', 'founded_year', 'debt_financing', 'grant'],\n",
       "      dtype='object')"
      ]
     },
     "execution_count": 9,
     "metadata": {},
     "output_type": "execute_result"
    }
   ],
   "source": [
    "#2. List of all column names\n",
    "df.columns"
   ]
  },
  {
   "cell_type": "code",
   "execution_count": null,
   "metadata": {},
   "outputs": [],
   "source": [
    "#3.Create a dataframe with numerical columns\n"
   ]
  }
 ],
 "metadata": {
  "kernelspec": {
   "display_name": "Python 3",
   "language": "python",
   "name": "python3"
  },
  "language_info": {
   "codemirror_mode": {
    "name": "ipython",
    "version": 3
   },
   "file_extension": ".py",
   "mimetype": "text/x-python",
   "name": "python",
   "nbconvert_exporter": "python",
   "pygments_lexer": "ipython3",
   "version": "3.8.5"
  }
 },
 "nbformat": 4,
 "nbformat_minor": 4
}
