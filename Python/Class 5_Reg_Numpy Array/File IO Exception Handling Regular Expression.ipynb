{
 "cells": [
  {
   "cell_type": "markdown",
   "metadata": {},
   "source": [
    "#\n",
    "1. File I/O Operations\n",
    "2. Exception handling\n",
    "    https://docs.python.org/3/library/exceptions.html\n",
    "3. Regular Expression\n",
    "    https://docs.python.org/3/howto/regex.html"
   ]
  },
  {
   "cell_type": "markdown",
   "metadata": {},
   "source": [
    "#### File I/O Operations"
   ]
  },
  {
   "cell_type": "markdown",
   "metadata": {},
   "source": [
    "##### writing to a file\n",
    "    - write()\n",
    "    - writelines()"
   ]
  },
  {
   "cell_type": "code",
   "execution_count": 1,
   "metadata": {},
   "outputs": [],
   "source": [
    "file = open('file.txt',mode = 'w')  # open a file in 'w' \n",
    "file.write(\"This is the 1st line.\\nThis is 2nd line\")\n",
    "# file.write(\"This is the 3rd line.\\nThis is 4th line\")\n",
    "file.close()"
   ]
  },
  {
   "cell_type": "code",
   "execution_count": 2,
   "metadata": {},
   "outputs": [],
   "source": [
    "file = open('file.txt',mode = 'a')  # open a file in 'w' \n",
    "# file.write(\"This is the 1st line.\\nThis is 2nd line\")\n",
    "file.write(\"This is the 3rd line.\\nThis is 4th line\")\n",
    "file.close()"
   ]
  },
  {
   "cell_type": "code",
   "execution_count": 3,
   "metadata": {},
   "outputs": [],
   "source": [
    "file = open('file.txt',mode = 'a')  # open a file in 'w' \n",
    "file.writelines([\"\\nThis is the 5th line.\",'\\nThis is 6th line.','\\nThis is 7th line'])\n",
    "file.close()"
   ]
  },
  {
   "cell_type": "code",
   "execution_count": 4,
   "metadata": {},
   "outputs": [],
   "source": [
    "# file = open('file.txt',mode = 'a')  # open a file in 'w' \n",
    "# file.writelines([\"This is the 5th line.\",'This is 6th line.','This is 7th line'])\n",
    "# file.close()"
   ]
  },
  {
   "cell_type": "code",
   "execution_count": 5,
   "metadata": {},
   "outputs": [],
   "source": [
    "####\n",
    "with open('file.txt',mode = 'a') as file:\n",
    "    file.writelines([\"\\nThis is the 5th line.\",'\\nThis is 6th line.','\\nThis is 7th line'])"
   ]
  },
  {
   "cell_type": "markdown",
   "metadata": {},
   "source": [
    "### reading a file\n",
    "    - read()\n",
    "    - readline()\n",
    "    - readlines()"
   ]
  },
  {
   "cell_type": "code",
   "execution_count": 6,
   "metadata": {},
   "outputs": [
    {
     "name": "stdout",
     "output_type": "stream",
     "text": [
      "This is the 1st line.\n",
      "This is 2nd lineThis is the 3rd line.\n",
      "This is 4th line\n",
      "This is the 5th line.\n",
      "This is 6th line.\n",
      "This is 7th line\n",
      "This is the 5th line.\n",
      "This is 6th line.\n",
      "This is 7th line\n"
     ]
    }
   ],
   "source": [
    "with open('file.txt',mode = 'r') as file:\n",
    "    print(file.read())"
   ]
  },
  {
   "cell_type": "code",
   "execution_count": 7,
   "metadata": {},
   "outputs": [
    {
     "name": "stdout",
     "output_type": "stream",
     "text": [
      "This is the 1st line.\n",
      "\n",
      "This is 2nd lineThis is the 3rd line.\n",
      "\n",
      "This is 4th line\n",
      "\n",
      "This is the 5th line.\n",
      "\n",
      "This is 6th line.\n",
      "\n"
     ]
    }
   ],
   "source": [
    "file = open('file.txt',mode = 'r')\n",
    "print(file.readline())\n",
    "print(file.readline())\n",
    "print(file.readline())\n",
    "print(file.readline())\n",
    "print(file.readline())\n",
    "file.close()"
   ]
  },
  {
   "cell_type": "code",
   "execution_count": 8,
   "metadata": {},
   "outputs": [
    {
     "name": "stdout",
     "output_type": "stream",
     "text": [
      "['This is the 1st line.\\n', 'This is 2nd lineThis is the 3rd line.\\n', 'This is 4th line\\n', 'This is the 5th line.\\n', 'This is 6th line.\\n', 'This is 7th line\\n', 'This is the 5th line.\\n', 'This is 6th line.\\n', 'This is 7th line']\n"
     ]
    }
   ],
   "source": [
    "file = open('file.txt',mode = 'r')\n",
    "print(file.readlines())\n",
    "file.close()"
   ]
  },
  {
   "cell_type": "markdown",
   "metadata": {},
   "source": [
    "##### truncate(), seek(), writable(), readable(), closed(),"
   ]
  },
  {
   "cell_type": "code",
   "execution_count": 9,
   "metadata": {},
   "outputs": [],
   "source": [
    "file = open('file.txt',mode = 'a')\n",
    "file.truncate(20)\n",
    "file.close()"
   ]
  },
  {
   "cell_type": "code",
   "execution_count": 10,
   "metadata": {},
   "outputs": [
    {
     "name": "stdout",
     "output_type": "stream",
     "text": [
      "This is the 1st line\n"
     ]
    }
   ],
   "source": [
    "file = open('file.txt',mode = 'r')\n",
    "print(file.read())\n",
    "file.close()"
   ]
  },
  {
   "cell_type": "code",
   "execution_count": 11,
   "metadata": {},
   "outputs": [
    {
     "name": "stdout",
     "output_type": "stream",
     "text": [
      "This is the 1st line\n"
     ]
    }
   ],
   "source": [
    "file = open('file.txt',mode = 'r')\n",
    "for line in file:\n",
    "    print(line)\n",
    "file.close()"
   ]
  },
  {
   "cell_type": "markdown",
   "metadata": {},
   "source": [
    "### Exception handling"
   ]
  },
  {
   "cell_type": "code",
   "execution_count": 12,
   "metadata": {},
   "outputs": [],
   "source": [
    "# 1. syntax error\n",
    "# 2. Human error/logical error\n",
    "# 3. Exception"
   ]
  },
  {
   "cell_type": "code",
   "execution_count": 13,
   "metadata": {},
   "outputs": [],
   "source": [
    "# n = 4\n",
    "# # print(\" {}\".format(n))\n",
    "# if n > 2:\n",
    "#     pass   "
   ]
  },
  {
   "cell_type": "code",
   "execution_count": 14,
   "metadata": {},
   "outputs": [
    {
     "data": {
      "text/plain": [
       "10"
      ]
     },
     "execution_count": 14,
     "metadata": {},
     "output_type": "execute_result"
    }
   ],
   "source": [
    "### squaring a number\n",
    "n = 5\n",
    "n*2 # using single astrik results to logical error"
   ]
  },
  {
   "cell_type": "code",
   "execution_count": 15,
   "metadata": {},
   "outputs": [],
   "source": [
    "# n1 = int(input())\n",
    "# n2 = int(input())\n",
    "# res = n1%n2\n",
    "# print('Result of above operation is {}'.format(res))"
   ]
  },
  {
   "cell_type": "code",
   "execution_count": 16,
   "metadata": {},
   "outputs": [],
   "source": [
    "# try: # error causing codes should be include here\n",
    "# except: # what to do when an exception raised\n",
    "# finally: # anything that needs to be executed irrespective of any exception"
   ]
  },
  {
   "cell_type": "code",
   "execution_count": 17,
   "metadata": {},
   "outputs": [
    {
     "name": "stdout",
     "output_type": "stream",
     "text": [
      "This is the 1st line\n",
      "No Error\n",
      "Closing File\n"
     ]
    }
   ],
   "source": [
    "try:\n",
    "    file = open('file.txt','r')\n",
    "    print(file.read())\n",
    "    print('No Error')\n",
    "except:\n",
    "    print('Error: File Not Found!')\n",
    "finally:\n",
    "    file.close()\n",
    "    print('Closing File')"
   ]
  },
  {
   "cell_type": "code",
   "execution_count": 18,
   "metadata": {},
   "outputs": [
    {
     "name": "stdout",
     "output_type": "stream",
     "text": [
      "No Error\n",
      "Error: File Not Found!\n",
      "Closing File\n"
     ]
    }
   ],
   "source": [
    "try:\n",
    "    print('No Error')\n",
    "    file = open('file_new.txt','r')\n",
    "    print(file.read())\n",
    "except:\n",
    "    print('Error: File Not Found!')\n",
    "finally:\n",
    "    file.close()\n",
    "    print('Closing File')"
   ]
  },
  {
   "cell_type": "code",
   "execution_count": 19,
   "metadata": {},
   "outputs": [
    {
     "name": "stdout",
     "output_type": "stream",
     "text": [
      "5\n",
      "6\n",
      "Result of above operation is 5\n"
     ]
    }
   ],
   "source": [
    "try:\n",
    "    n1 = int(input())\n",
    "    n2 = int(input())\n",
    "    res = n1%n2\n",
    "    print('Result of above operation is {}'.format(res))\n",
    "except:\n",
    "    print(\"Error: Invalid input. Enter an integer.\")"
   ]
  },
  {
   "cell_type": "code",
   "execution_count": 20,
   "metadata": {},
   "outputs": [
    {
     "name": "stdout",
     "output_type": "stream",
     "text": [
      "Error: File is not found!\n"
     ]
    }
   ],
   "source": [
    "try:\n",
    "    file = open('file_n.txt','r')\n",
    "    n1 = int(input())\n",
    "    n2 = int(input())\n",
    "    res = n1%n2\n",
    "    print('Result of above operation is {}'.format(res))\n",
    "except FileNotFoundError:\n",
    "    print('Error: File is not found!')\n",
    "except ZeroDivisionError:\n",
    "    print('Error: Division by zero not allowed!')\n",
    "except:\n",
    "    print(\"Error: Invalid input. Enter an integer.\")\n",
    "finally:\n",
    "    file.close()"
   ]
  },
  {
   "cell_type": "code",
   "execution_count": 21,
   "metadata": {},
   "outputs": [
    {
     "name": "stdout",
     "output_type": "stream",
     "text": [
      "3\n",
      "0\n",
      "Error: Division by zero not allowed!\n"
     ]
    }
   ],
   "source": [
    "try:\n",
    "    file = open('file.txt','r')\n",
    "    n1 = int(input())\n",
    "    n2 = int(input())\n",
    "    res = n1%n2\n",
    "    print('Result of above operation is {}'.format(res))\n",
    "except FileNotFoundError  :\n",
    "    print('Error: File is not found!')\n",
    "#     print(FileNotFoundError)\n",
    "except ZeroDivisionError:\n",
    "    print('Error: Division by zero not allowed!')\n",
    "except ValueError:\n",
    "    print('Error: Invalid type conversion')\n",
    "# except Exception as e:\n",
    "#     print(e)\n",
    "# except EOFError as e:\n",
    "#     print(EOFError)\n",
    "except:\n",
    "    print(\"Error: Invalid input. Enter an integer.\")\n",
    "finally:\n",
    "    file.close()"
   ]
  },
  {
   "cell_type": "code",
   "execution_count": 22,
   "metadata": {},
   "outputs": [],
   "source": [
    "# EOFError\n",
    "# Exception\n",
    "# FileNotFoundError"
   ]
  },
  {
   "cell_type": "markdown",
   "metadata": {},
   "source": [
    "#### else with try-catch "
   ]
  },
  {
   "cell_type": "code",
   "execution_count": 23,
   "metadata": {},
   "outputs": [
    {
     "name": "stdout",
     "output_type": "stream",
     "text": [
      "Enter an integer:3\n",
      "False is an even number if True is printed.\n",
      "Try Block: successfully executed - When exception is not raise\n",
      "Finally Block: This is executed irrespective of an exception\n"
     ]
    }
   ],
   "source": [
    "try:\n",
    "    # get input from user and print message when an operation is computed successfully\n",
    "    n = int(input('Enter an integer:'))\n",
    "    print('{} is an even number if True is printed.'.format(n%2==0))\n",
    "except:\n",
    "    print('Error: Invalid input  - exception found')\n",
    "else:\n",
    "    print('Try Block: successfully executed - When exception is not raise')\n",
    "finally:\n",
    "    print('Finally Block: This is executed irrespective of an exception')"
   ]
  },
  {
   "cell_type": "code",
   "execution_count": 54,
   "metadata": {},
   "outputs": [
    {
     "name": "stdout",
     "output_type": "stream",
     "text": [
      "Enter an integer:'3'\n",
      "Error: Invalid input  - exception found\n",
      "Finally Block: This is executed irrespective of an exception\n"
     ]
    }
   ],
   "source": [
    "try:\n",
    "    # get input from user and print message when an operation is computed successfully\n",
    "    n = int(input('Enter an integer:'))\n",
    "    print('{} is an even number if True is printed.'.format(n%2==0))\n",
    "except:\n",
    "    print('Error: Invalid input  - exception found')\n",
    "else:\n",
    "    print('Try Block: successfully executed - When exception is not raise')\n",
    "finally:\n",
    "    print('Finally Block: This is executed irrespective of an exception')"
   ]
  },
  {
   "cell_type": "markdown",
   "metadata": {},
   "source": [
    "#### Regular Expression"
   ]
  },
  {
   "cell_type": "code",
   "execution_count": 25,
   "metadata": {},
   "outputs": [],
   "source": [
    "import re"
   ]
  },
  {
   "cell_type": "code",
   "execution_count": 26,
   "metadata": {},
   "outputs": [],
   "source": [
    "# [mm/dd/yyyy] .....action............\n",
    "# [mm/dd/yyyy] .....action2 ......."
   ]
  },
  {
   "cell_type": "code",
   "execution_count": 27,
   "metadata": {},
   "outputs": [],
   "source": [
    "# \"this is 1st line and documentation is given in the 2nd line\""
   ]
  },
  {
   "cell_type": "code",
   "execution_count": 28,
   "metadata": {},
   "outputs": [],
   "source": [
    "# re.match(), re.search(), re.sub(), re.split(),re.findall()\n",
    "\n",
    "# re.match() -> validates pattern only upto  1st sub-string of the string\n",
    "# re.msearchatch() -> validates pattern thorugh the lenght of the string"
   ]
  },
  {
   "cell_type": "code",
   "execution_count": 29,
   "metadata": {},
   "outputs": [
    {
     "name": "stdout",
     "output_type": "stream",
     "text": [
      "Not found\n"
     ]
    }
   ],
   "source": [
    "if re.match(pattern='dogs', string = \"cats are all dogs\"): #search within 1st sub-string\n",
    "    print('Matched')\n",
    "else:\n",
    "    print('Not found')"
   ]
  },
  {
   "cell_type": "code",
   "execution_count": 30,
   "metadata": {},
   "outputs": [
    {
     "name": "stdout",
     "output_type": "stream",
     "text": [
      "Matched\n"
     ]
    }
   ],
   "source": [
    "if re.search(pattern='dogs', string = \"cats are all dogs\"): #search through the lenght of the string\n",
    "    print('Matched')\n",
    "else:\n",
    "    print('Not found')    "
   ]
  },
  {
   "cell_type": "code",
   "execution_count": 31,
   "metadata": {
    "scrolled": true
   },
   "outputs": [
    {
     "data": {
      "text/plain": [
       "['this',\n",
       " 'is',\n",
       " '1st',\n",
       " 'line',\n",
       " 'and',\n",
       " 'documentation',\n",
       " 'is',\n",
       " 'given',\n",
       " 'in',\n",
       " 'the',\n",
       " '2nd',\n",
       " 'line']"
      ]
     },
     "execution_count": 31,
     "metadata": {},
     "output_type": "execute_result"
    }
   ],
   "source": [
    "re.split(pattern= ' ', string = \"this is 1st line and documentation is given in the 2nd line\" )"
   ]
  },
  {
   "cell_type": "code",
   "execution_count": 32,
   "metadata": {},
   "outputs": [
    {
     "data": {
      "text/plain": [
       "['this is', '1st', 'line and documentation is given in the', '2nd', 'line']"
      ]
     },
     "execution_count": 32,
     "metadata": {},
     "output_type": "execute_result"
    }
   ],
   "source": [
    "re.split(pattern= '_', string = \"this is_1st_line and documentation is given in the_2nd_line\" )"
   ]
  },
  {
   "cell_type": "code",
   "execution_count": 33,
   "metadata": {},
   "outputs": [
    {
     "data": {
      "text/plain": [
       "['this is_', 'st_line and documentation is given in the_', 'nd_line']"
      ]
     },
     "execution_count": 33,
     "metadata": {},
     "output_type": "execute_result"
    }
   ],
   "source": [
    "re.split(pattern= '\\d', string = \"this is_1st_line and documentation is given in the_2nd_line\" )"
   ]
  },
  {
   "cell_type": "code",
   "execution_count": 34,
   "metadata": {},
   "outputs": [],
   "source": [
    "# \"this is 1st line and documentation is given in the 2nd line\".split(' ')"
   ]
  },
  {
   "cell_type": "code",
   "execution_count": 35,
   "metadata": {},
   "outputs": [
    {
     "data": {
      "text/plain": [
       "'This is black colored car and I want black color car.'"
      ]
     },
     "execution_count": 35,
     "metadata": {},
     "output_type": "execute_result"
    }
   ],
   "source": [
    "## re.sub() ~ str.replace()\n",
    "text = \"This is blue colored car and I want black color car.\"\n",
    "# replace 'blue' with 'black'\n",
    "re.sub(pattern='blue',repl='black' ,string=text )"
   ]
  },
  {
   "cell_type": "code",
   "execution_count": 36,
   "metadata": {},
   "outputs": [
    {
     "data": {
      "text/plain": [
       "'This is green colored car and I want green color car.'"
      ]
     },
     "execution_count": 36,
     "metadata": {},
     "output_type": "execute_result"
    }
   ],
   "source": [
    "# replace 'blue'/'black' with 'green'\n",
    "re.sub(pattern=\"(blue|black)\",repl='green' ,string=text )"
   ]
  },
  {
   "cell_type": "code",
   "execution_count": 37,
   "metadata": {},
   "outputs": [
    {
     "data": {
      "text/plain": [
       "['1', '2', '3', '4', '5']"
      ]
     },
     "execution_count": 37,
     "metadata": {},
     "output_type": "execute_result"
    }
   ],
   "source": [
    "## re.finall()\n",
    "# find all the digits\n",
    "re.findall(pattern = '\\d', string = \"this is 1st line and documentation is given in the 2nd line 3 4n 5th\")"
   ]
  },
  {
   "cell_type": "code",
   "execution_count": 38,
   "metadata": {},
   "outputs": [
    {
     "data": {
      "text/plain": [
       "['1', '2']"
      ]
     },
     "execution_count": 38,
     "metadata": {},
     "output_type": "execute_result"
    }
   ],
   "source": [
    "re.findall('\\d',\"this is 1st line and documentation is given in the 2nd line\")"
   ]
  },
  {
   "cell_type": "code",
   "execution_count": 39,
   "metadata": {},
   "outputs": [
    {
     "data": {
      "text/plain": [
       "['1', '2']"
      ]
     },
     "execution_count": 39,
     "metadata": {},
     "output_type": "execute_result"
    }
   ],
   "source": [
    "re.findall('\\d', string = \"this is 1st line and documentation is given in the 2nd line\")"
   ]
  },
  {
   "cell_type": "code",
   "execution_count": 40,
   "metadata": {},
   "outputs": [
    {
     "data": {
      "text/plain": [
       "'12/12/2020'"
      ]
     },
     "execution_count": 40,
     "metadata": {},
     "output_type": "execute_result"
    }
   ],
   "source": [
    "\"12/12/2020\""
   ]
  },
  {
   "cell_type": "code",
   "execution_count": 41,
   "metadata": {},
   "outputs": [],
   "source": [
    "## pattern building"
   ]
  },
  {
   "cell_type": "code",
   "execution_count": 42,
   "metadata": {},
   "outputs": [
    {
     "name": "stdout",
     "output_type": "stream",
     "text": [
      "Matched\n"
     ]
    }
   ],
   "source": [
    "if re.search(pattern='\\d{10}', string = \"99171823556\"): \n",
    "    print('Matched')\n",
    "else:\n",
    "    print('Not Matched')    "
   ]
  },
  {
   "cell_type": "code",
   "execution_count": 43,
   "metadata": {},
   "outputs": [
    {
     "name": "stdout",
     "output_type": "stream",
     "text": [
      "Matched\n"
     ]
    }
   ],
   "source": [
    "if re.search(pattern='^\\d{10}$', string = \"9917182355\"): \n",
    "    print('Matched')\n",
    "else:\n",
    "    print('Not Matched')    "
   ]
  },
  {
   "cell_type": "code",
   "execution_count": 44,
   "metadata": {},
   "outputs": [
    {
     "name": "stdout",
     "output_type": "stream",
     "text": [
      "Matched\n"
     ]
    }
   ],
   "source": [
    "if re.search(pattern='^\\d{3}-\\d{3}-\\d{4}$', string = \"991-718-2355\"): \n",
    "    print('Matched')\n",
    "else:\n",
    "    print('Not Matched')    "
   ]
  },
  {
   "cell_type": "code",
   "execution_count": 45,
   "metadata": {},
   "outputs": [
    {
     "name": "stdout",
     "output_type": "stream",
     "text": [
      "Matched\n",
      "Not Matched\n",
      "Not Matched\n"
     ]
    }
   ],
   "source": [
    "for text in [\"+91991-718-2355\",\"+9991-718-2355\",\"+19991-718-2355\"]:\n",
    "    if re.search(pattern='^(\\+91)\\d{3}-\\d{3}-\\d{4}$', string =text ): \n",
    "        print('Matched')\n",
    "    else:\n",
    "        print('Not Matched')    "
   ]
  },
  {
   "cell_type": "code",
   "execution_count": 46,
   "metadata": {},
   "outputs": [],
   "source": [
    "## \n",
    "# ()@gmail.com # user name can have following charaters: 1 digit + _ (1 time) + characters "
   ]
  },
  {
   "cell_type": "code",
   "execution_count": 47,
   "metadata": {},
   "outputs": [
    {
     "name": "stdout",
     "output_type": "stream",
     "text": [
      "Not Matched\n",
      "Not Matched\n",
      "Matched\n",
      "Matched\n"
     ]
    }
   ],
   "source": [
    "for text in  ['sah.abc@gmail.com','abc@gmail.com','abc1@gmail.com','abc_1@gmail.com']:\n",
    "    if re.search(pattern='^[a-zA-Z_]+[0-9]+[_]*@gmail.com$', string = text): \n",
    "        print('Matched')\n",
    "    else:\n",
    "        print('Not Matched')"
   ]
  },
  {
   "cell_type": "code",
   "execution_count": 48,
   "metadata": {},
   "outputs": [
    {
     "name": "stdout",
     "output_type": "stream",
     "text": [
      "Not Matched\n",
      "Not Matched\n",
      "Matched\n",
      "Matched\n",
      "Matched\n",
      "Matched\n"
     ]
    }
   ],
   "source": [
    "# ()@gmail.com/gmail.in/gmail.org # user name can have following charaters: 1 digit + _ (1 time) + characters\n",
    "for text in  ['sah.abc@gmail.com','abc@gmail.com','abc1@gmail.com','abc1@gmail.in','abc1@gmail.org','abc_1@gmail.com']:\n",
    "    if re.search(pattern='^[a-zA-Z_]+[0-9]+[_]*@gmail.(com|in|org)$', string = text): \n",
    "        print('Matched')\n",
    "    else:\n",
    "        print('Not Matched')"
   ]
  },
  {
   "cell_type": "code",
   "execution_count": 49,
   "metadata": {},
   "outputs": [],
   "source": [
    "# ()@gmail.com # user name can have following charaters: 1 digit + _ (1 time) + characters + upper case character (min 1)"
   ]
  },
  {
   "cell_type": "code",
   "execution_count": 50,
   "metadata": {},
   "outputs": [
    {
     "name": "stdout",
     "output_type": "stream",
     "text": [
      "Not Matched\n",
      "Not Matched\n",
      "Not Matched\n",
      "Not Matched\n",
      "Matched\n",
      "Not Matched\n"
     ]
    }
   ],
   "source": [
    "for text in  ['sah.abc@gmail.com','abc@gmail.com','abc1@gmail.com','abc1@gmail.in','abc1A@gmail.org','abc_1@gmail.com']:\n",
    "    if re.search(pattern='^[a-z_/.]+[0-9]+[A-Z]+@gmail.(com|in|org)$', string = text): \n",
    "        print('Matched')\n",
    "    else:\n",
    "        print('Not Matched')"
   ]
  },
  {
   "cell_type": "markdown",
   "metadata": {},
   "source": [
    "### Desing regular expression to validate date pattern as shown: [mm/dd/yyyy] "
   ]
  },
  {
   "cell_type": "code",
   "execution_count": 51,
   "metadata": {},
   "outputs": [],
   "source": [
    "### re.compile() is used to pre-compile the pattern."
   ]
  },
  {
   "cell_type": "code",
   "execution_count": 52,
   "metadata": {},
   "outputs": [
    {
     "name": "stdout",
     "output_type": "stream",
     "text": [
      "['1', '2', '3']\n",
      "_ _ _\n",
      "['1', '2', '3']\n",
      "_st _nd _rd\n",
      "['1', '2', '3', '4', '5', '6', '6', '7', '8']\n",
      "___ ___, ___\n"
     ]
    }
   ],
   "source": [
    "pat = re.compile(pattern = '\\d')\n",
    "for each in [\"1 2 3\",\"1st 2nd 3rd\",\"123 456, 678\"]:\n",
    "    print(pat.findall( string = each))\n",
    "    print(pat.sub( repl = '_',string = each))"
   ]
  },
  {
   "cell_type": "code",
   "execution_count": 53,
   "metadata": {
    "scrolled": true
   },
   "outputs": [
    {
     "name": "stdout",
     "output_type": "stream",
     "text": [
      "Not Matched\n",
      "Not Matched\n",
      "Not Matched\n",
      "Not Matched\n",
      "Matched\n",
      "Not Matched\n"
     ]
    }
   ],
   "source": [
    "pat = re.compile(pattern='^[a-z_/.]+[0-9]+[A-Z]+@gmail.(com|in|org)$')\n",
    "for text in  ['sah.abc@gmail.com','abc@gmail.com','abc1@gmail.com','abc1@gmail.in','abc1A@gmail.org','abc_1@gmail.com']:\n",
    "    if pat.search(string = text): \n",
    "        print('Matched')\n",
    "    else:\n",
    "        print('Not Matched')"
   ]
  },
  {
   "cell_type": "code",
   "execution_count": null,
   "metadata": {},
   "outputs": [],
   "source": []
  },
  {
   "cell_type": "code",
   "execution_count": null,
   "metadata": {},
   "outputs": [],
   "source": []
  },
  {
   "cell_type": "code",
   "execution_count": null,
   "metadata": {},
   "outputs": [],
   "source": []
  }
 ],
 "metadata": {
  "kernelspec": {
   "display_name": "Python 3",
   "language": "python",
   "name": "python3"
  },
  "language_info": {
   "codemirror_mode": {
    "name": "ipython",
    "version": 3
   },
   "file_extension": ".py",
   "mimetype": "text/x-python",
   "name": "python",
   "nbconvert_exporter": "python",
   "pygments_lexer": "ipython3",
   "version": "3.8.5"
  }
 },
 "nbformat": 4,
 "nbformat_minor": 4
}
