{
 "cells": [
  {
   "cell_type": "code",
   "execution_count": 1,
   "metadata": {},
   "outputs": [
    {
     "name": "stdout",
     "output_type": "stream",
     "text": [
      "Hello World!\n",
      "Hello World!\n",
      "Hello World!\n",
      "Hello World!\n",
      "Hello World!\n",
      "Hello World!\n",
      "Hello World!\n"
     ]
    }
   ],
   "source": [
    "print('Hello World!')\n",
    "print('Hello World!')\n",
    "print('Hello World!')\n",
    "print('Hello World!')\n",
    "print('Hello World!')\n",
    "print('Hello World!')\n",
    "print('Hello World!')"
   ]
  },
  {
   "cell_type": "code",
   "execution_count": 2,
   "metadata": {},
   "outputs": [],
   "source": [
    "str1 = 'Hello world'*10"
   ]
  },
  {
   "cell_type": "code",
   "execution_count": 3,
   "metadata": {},
   "outputs": [
    {
     "data": {
      "text/plain": [
       "'Hello worldHello worldHello worldHello worldHello worldHello worldHello worldHello worldHello worldHello world'"
      ]
     },
     "execution_count": 3,
     "metadata": {},
     "output_type": "execute_result"
    }
   ],
   "source": [
    "str1"
   ]
  },
  {
   "cell_type": "code",
   "execution_count": 4,
   "metadata": {},
   "outputs": [
    {
     "name": "stdout",
     "output_type": "stream",
     "text": [
      "Hello worldHello worldHello worldHello worldHello worldHello worldHello worldHello worldHello worldHello world Hello worldHello worldHello worldHello worldHello worldHello worldHello worldHello worldHello worldHello world Hello worldHello worldHello worldHello worldHello worldHello worldHello worldHello worldHello worldHello world\n"
     ]
    }
   ],
   "source": [
    "print(str1, str1, str1)"
   ]
  },
  {
   "cell_type": "code",
   "execution_count": 5,
   "metadata": {},
   "outputs": [],
   "source": [
    "# types of loops -> while loop and for loop"
   ]
  },
  {
   "cell_type": "code",
   "execution_count": 6,
   "metadata": {},
   "outputs": [],
   "source": [
    "### while loop syntax\n",
    "# counter initialisation\n",
    "# while(<expression>):\n",
    "#     <while - block>\n",
    "#     <counter variable update> #"
   ]
  },
  {
   "cell_type": "code",
   "execution_count": 7,
   "metadata": {},
   "outputs": [
    {
     "name": "stdout",
     "output_type": "stream",
     "text": [
      "1\n",
      "2\n",
      "3\n",
      "4\n",
      "5\n",
      "6\n",
      "7\n",
      "8\n",
      "9\n",
      "10\n",
      "Out of the while - loop\n"
     ]
    }
   ],
   "source": [
    "# print integers 1 to 10\n",
    "counter = 1 # variable init\n",
    "while(counter <= 10):\n",
    "#     counter = 1\n",
    "    print(counter)\n",
    "    counter = counter + 1\n",
    "    \n",
    "print('Out of the while - loop')    "
   ]
  },
  {
   "cell_type": "code",
   "execution_count": 8,
   "metadata": {},
   "outputs": [
    {
     "name": "stdout",
     "output_type": "stream",
     "text": [
      "10\n",
      "9\n",
      "8\n",
      "7\n",
      "6\n",
      "5\n",
      "4\n",
      "3\n",
      "2\n",
      "1\n"
     ]
    }
   ],
   "source": [
    "# print 10 to 1 -> descending order\n",
    "cnter = 10 # initalizing counter variable\n",
    "while(cnter > 0):\n",
    "    print(cnter)\n",
    "    cnter = cnter - 1 # update counter variable"
   ]
  },
  {
   "cell_type": "code",
   "execution_count": 9,
   "metadata": {},
   "outputs": [],
   "source": [
    "# # for loop syntax\n",
    "# for <iterator> in <iterable>:\n",
    "#     <for block>"
   ]
  },
  {
   "cell_type": "code",
   "execution_count": 10,
   "metadata": {},
   "outputs": [
    {
     "name": "stdout",
     "output_type": "stream",
     "text": [
      "1\n",
      "2\n",
      "3\n",
      "4\n",
      "5\n",
      "6\n",
      "7\n",
      "8\n",
      "9\n",
      "10\n",
      "out of the for block\n"
     ]
    }
   ],
   "source": [
    "# print integers 1 to 10\n",
    "for counter in [1,2,3,4,5,6,7,8,9,10]:\n",
    "    print(counter)\n",
    "    \n",
    "print('out of the for block')    "
   ]
  },
  {
   "cell_type": "code",
   "execution_count": 11,
   "metadata": {},
   "outputs": [
    {
     "name": "stdout",
     "output_type": "stream",
     "text": [
      "1\n",
      "2\n",
      "3\n",
      "4\n",
      "5\n",
      "6\n",
      "7\n",
      "8\n",
      "9\n",
      "10\n",
      "out of the for block\n"
     ]
    }
   ],
   "source": [
    "# print integers 1 to 10\n",
    "for counter in range(1,11):\n",
    "    print(counter)\n",
    "    \n",
    "print('out of the for block')    "
   ]
  },
  {
   "cell_type": "code",
   "execution_count": 12,
   "metadata": {},
   "outputs": [
    {
     "name": "stdout",
     "output_type": "stream",
     "text": [
      "2\n",
      "4\n",
      "6\n",
      "8\n",
      "10\n"
     ]
    }
   ],
   "source": [
    "## printing even numbers\n",
    "for each in range(1,11):\n",
    "    if each%2==0:\n",
    "        print(each)"
   ]
  },
  {
   "cell_type": "code",
   "execution_count": 13,
   "metadata": {},
   "outputs": [
    {
     "name": "stdout",
     "output_type": "stream",
     "text": [
      "2\n",
      "4\n",
      "6\n",
      "8\n",
      "10\n"
     ]
    }
   ],
   "source": [
    "## printing even numbers\n",
    "for each in range(2,11,2):\n",
    "        print(each)"
   ]
  },
  {
   "cell_type": "code",
   "execution_count": 14,
   "metadata": {},
   "outputs": [
    {
     "name": "stdout",
     "output_type": "stream",
     "text": [
      "10\n",
      "9\n",
      "8\n",
      "7\n",
      "6\n",
      "5\n",
      "4\n",
      "3\n",
      "2\n",
      "1\n"
     ]
    }
   ],
   "source": [
    "# print 10 to 1 -> descending order\n",
    "for each in [10,9,8,7,6,5,4,3,2,1]:\n",
    "    print(each)"
   ]
  },
  {
   "cell_type": "markdown",
   "metadata": {},
   "source": [
    "#### break & continue\n",
    "    - break : exit the loop \n",
    "    - continue: skip the code below the keyword continue "
   ]
  },
  {
   "cell_type": "code",
   "execution_count": 15,
   "metadata": {},
   "outputs": [
    {
     "name": "stdout",
     "output_type": "stream",
     "text": [
      "1\n",
      "2\n",
      "3\n",
      "4\n"
     ]
    }
   ],
   "source": [
    "for each in range(1,11):\n",
    "    if each == 5:\n",
    "        break\n",
    "    print(each)     "
   ]
  },
  {
   "cell_type": "code",
   "execution_count": 16,
   "metadata": {},
   "outputs": [
    {
     "name": "stdout",
     "output_type": "stream",
     "text": [
      "1\n",
      "2\n",
      "3\n",
      "4\n",
      "6\n",
      "7\n",
      "8\n",
      "9\n",
      "10\n"
     ]
    }
   ],
   "source": [
    "for each in range(1,11):\n",
    "    if each == 5:\n",
    "        continue   \n",
    "    print(each)     "
   ]
  },
  {
   "cell_type": "code",
   "execution_count": 17,
   "metadata": {},
   "outputs": [
    {
     "name": "stdout",
     "output_type": "stream",
     "text": [
      "1\n",
      "2\n",
      "3\n",
      "4\n",
      "6\n",
      "7\n",
      "8\n",
      "9\n",
      "10\n",
      "11\n"
     ]
    }
   ],
   "source": [
    "counter = 0\n",
    "while(counter < 11):\n",
    "    counter = counter + 1\n",
    "    if counter == 5:\n",
    "        continue\n",
    "    print(counter)  "
   ]
  },
  {
   "cell_type": "markdown",
   "metadata": {},
   "source": [
    "1. WAP to read integers from a user and print the number and ask for another entry as long as the user enters correct input.Exit the loop when user enters anything other than an integer.\n",
    "2. WAP to read numbers from a user and print the number and ask for another entry as long as the user enters correct input.Exit the loop when user enters anything other than a number.\n",
    "3. WAP to read numbers from a user and print the number and ask for another entry as long as the user enters correct input.Allow the user to make wrong entry 'N' times. "
   ]
  },
  {
   "cell_type": "code",
   "execution_count": 18,
   "metadata": {},
   "outputs": [
    {
     "name": "stdout",
     "output_type": "stream",
     "text": [
      "Enter an integer: 3\n",
      "Enter an integer: a\n",
      "Invalid input\n"
     ]
    }
   ],
   "source": [
    "### WAP to read integers from a user and print the number and ask for another entry as long as the user enters correct input.Exit the loop when user enters anything other than an integer.\n",
    "\n",
    "# enter to the loop\n",
    "while(True):\n",
    "    n = input('Enter an integer: ') # read input from the user\n",
    "    FLAG = False # create a flag to track the number validation\n",
    "    \n",
    "    # validate your number\n",
    "    if(n.isdigit()): # is.digit() returns True only when n is an integer\n",
    "        FLAG = True\n",
    "    else:\n",
    "        FLAG = False\n",
    "        \n",
    "    if(FLAG== True): # When number 'n' is an integer go to back of the while loop \n",
    "        pass # pass is a keyword that works similar to continue; continue works only with loop, while pass can be used in conditional blocks too (standalone conditional blocks)\n",
    "    else:\n",
    "        print('Invalid input')\n",
    "        break # when break keyword is hit, loop will exit.\n",
    "        \n",
    "# Note: This logic can be implemented several ways. This is just one of them.        "
   ]
  },
  {
   "cell_type": "code",
   "execution_count": 19,
   "metadata": {},
   "outputs": [
    {
     "name": "stdout",
     "output_type": "stream",
     "text": [
      "Enter a number: 5\n",
      "Enter a number: 5.0\n",
      "Enter a number: 5..0\n",
      "Invalid Input\n"
     ]
    }
   ],
   "source": [
    "# 2. WAP to read numbers from a user and print the number and ask for another entry as long as the user enters correct input.Exit the loop when user enters anything other than a number.\n",
    "while(True):\n",
    "    n = input('Enter a number: ')\n",
    "    flag = False\n",
    "    if(n.isnumeric() | n.replace('.','',1).isnumeric()):\n",
    "        flag = True\n",
    "    else:\n",
    "        flag = False\n",
    "    if(flag):\n",
    "        pass\n",
    "    else:\n",
    "        print('Invalid Input')\n",
    "        break"
   ]
  },
  {
   "cell_type": "code",
   "execution_count": 20,
   "metadata": {},
   "outputs": [
    {
     "name": "stdout",
     "output_type": "stream",
     "text": [
      "Enter a number: 3\n",
      "Enter a number: 4\n",
      "Enter a number: 6\n",
      "Enter a number: 3\n",
      "Enter a number: Invalid\n",
      "Enter a number: 5.0\n",
      "Enter a number: 3\n",
      "Enter a number: 6.7\n",
      "Enter a number: Invalid\n",
      "You have entered invalid input 2 times. Hence, Exiting the loop.\n"
     ]
    }
   ],
   "source": [
    "# 3. WAP to read numbers from a user and print the number and ask for another entry as long as the user enters correct input.Allow the user to make wrong entry 'N' times.\n",
    "counter = 1\n",
    "N = 2 # number of times wrong entry allowed\n",
    "while(True):\n",
    "    n = input('Enter a number: ')\n",
    "    flag = False\n",
    "    if(n.isnumeric() | n.replace('.','',1).isnumeric()):\n",
    "        flag = True\n",
    "    else:\n",
    "        flag = False    \n",
    " \n",
    "    if(flag ):\n",
    "        pass\n",
    "    else:\n",
    "        counter += 1\n",
    "        if(counter <= N):\n",
    "            pass\n",
    "        else:\n",
    "            print('You have entered invalid input {} times. Hence, Exiting the loop.'.format(N))\n",
    "            break    "
   ]
  },
  {
   "cell_type": "code",
   "execution_count": null,
   "metadata": {},
   "outputs": [],
   "source": []
  }
 ],
 "metadata": {
  "kernelspec": {
   "display_name": "Python 3",
   "language": "python",
   "name": "python3"
  },
  "language_info": {
   "codemirror_mode": {
    "name": "ipython",
    "version": 3
   },
   "file_extension": ".py",
   "mimetype": "text/x-python",
   "name": "python",
   "nbconvert_exporter": "python",
   "pygments_lexer": "ipython3",
   "version": "3.8.5"
  }
 },
 "nbformat": 4,
 "nbformat_minor": 4
}
