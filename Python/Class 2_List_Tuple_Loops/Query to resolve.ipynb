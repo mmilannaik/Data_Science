{
 "cells": [
  {
   "cell_type": "markdown",
   "metadata": {},
   "source": [
    "Few points to discusss for the class tomorrow i.e 05/12/2020\n",
    "\n",
    "1. What is a dictionary/keys in the 1st Assignment\n",
    "2. What is a set in python?\n",
    "\n",
    "3. How can we submit the Dictionary/sets part of assignment later on?"
   ]
  }
 ],
 "metadata": {
  "kernelspec": {
   "display_name": "Python 3",
   "language": "python",
   "name": "python3"
  },
  "language_info": {
   "codemirror_mode": {
    "name": "ipython",
    "version": 3
   },
   "file_extension": ".py",
   "mimetype": "text/x-python",
   "name": "python",
   "nbconvert_exporter": "python",
   "pygments_lexer": "ipython3",
   "version": "3.8.5"
  }
 },
 "nbformat": 4,
 "nbformat_minor": 4
}
