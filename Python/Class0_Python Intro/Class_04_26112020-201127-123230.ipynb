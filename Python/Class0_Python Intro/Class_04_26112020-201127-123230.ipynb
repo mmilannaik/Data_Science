{
 "cells": [
  {
   "cell_type": "markdown",
   "metadata": {
    "ExecuteTime": {
     "end_time": "2020-11-26T14:35:56.249648Z",
     "start_time": "2020-11-26T14:35:56.237553Z"
    }
   },
   "source": [
    "# Topics to be covered-\n",
    "    Operators in Python\n",
    "    Arithmetic Operators \n",
    "    Comparison Operator\n",
    "    Equality Operator\n",
    "    Logical Operator\n",
    "    Bitwise Operators\n",
    "    Assignment Operator \n",
    "    Compound Assignment Operator \n",
    "    Membership Operator\n",
    "    Identity Operator \n",
    "    Q&A Session"
   ]
  },
  {
   "cell_type": "code",
   "execution_count": 11,
   "metadata": {
    "ExecuteTime": {
     "end_time": "2020-11-26T14:45:03.312121Z",
     "start_time": "2020-11-26T14:45:03.303344Z"
    }
   },
   "outputs": [
    {
     "name": "stdout",
     "output_type": "stream",
     "text": [
      "3.3333333333333335\n",
      "3\n",
      "1\n",
      "1000\n",
      "4\n"
     ]
    }
   ],
   "source": [
    "# Arithmetic Operators:-\n",
    "# +, -, *, /(Float Division), //(Float Division), **(Exponent), % (Modulo)\n",
    "\n",
    "# /(Float Division), //(Float Division)\n",
    "\n",
    "# Floor Value - Lowest nearest whole number\n",
    "# Ceil Value - Highest nearest whole number\n",
    "\n",
    "# Floor - 3\n",
    "# Number - 3.9\n",
    "# Ceil - 4\n",
    "\n",
    "\n",
    "# Floor - 3\n",
    "# Number - 3.01\n",
    "# Ceil - 4\n",
    "\n",
    "print(10/3)\n",
    "\n",
    "print(10//3)                   # - Floor value of float division result\n",
    "\n",
    "print(10%3)                    # Remainder\n",
    "\n",
    "print(10 ** 3)\n",
    "\n",
    "import math\n",
    "print(math.ceil(10/3))\n"
   ]
  },
  {
   "cell_type": "code",
   "execution_count": 16,
   "metadata": {
    "ExecuteTime": {
     "end_time": "2020-11-26T14:49:21.447168Z",
     "start_time": "2020-11-26T14:49:21.430290Z"
    }
   },
   "outputs": [
    {
     "name": "stdout",
     "output_type": "stream",
     "text": [
      "PythonPythonPython\n",
      "[10, 20, 30, 10, 20, 30, 10, 20, 30, 10, 20, 30]\n",
      "(1, 2, 3, 1, 2, 3, 1, 2, 3, 1, 2, 3, 1, 2, 3, 1, 2, 3, 1, 2, 3)\n"
     ]
    },
    {
     "ename": "TypeError",
     "evalue": "can't multiply sequence by non-int of type 'float'",
     "output_type": "error",
     "traceback": [
      "\u001b[0;31m---------------------------------------------------------------------------\u001b[0m",
      "\u001b[0;31mTypeError\u001b[0m                                 Traceback (most recent call last)",
      "\u001b[0;32m<ipython-input-16-05ba982c7965>\u001b[0m in \u001b[0;36m<module>\u001b[0;34m\u001b[0m\n\u001b[1;32m     14\u001b[0m \u001b[0mprint\u001b[0m\u001b[0;34m(\u001b[0m\u001b[0;34m[\u001b[0m\u001b[0;36m10\u001b[0m\u001b[0;34m,\u001b[0m\u001b[0;36m20\u001b[0m\u001b[0;34m,\u001b[0m\u001b[0;36m30\u001b[0m\u001b[0;34m]\u001b[0m\u001b[0;34m*\u001b[0m\u001b[0;36m4\u001b[0m\u001b[0;34m)\u001b[0m\u001b[0;34m\u001b[0m\u001b[0;34m\u001b[0m\u001b[0m\n\u001b[1;32m     15\u001b[0m \u001b[0mprint\u001b[0m\u001b[0;34m(\u001b[0m\u001b[0;34m(\u001b[0m\u001b[0;36m1\u001b[0m\u001b[0;34m,\u001b[0m\u001b[0;36m2\u001b[0m\u001b[0;34m,\u001b[0m\u001b[0;36m3\u001b[0m\u001b[0;34m)\u001b[0m\u001b[0;34m*\u001b[0m\u001b[0;36m7\u001b[0m\u001b[0;34m)\u001b[0m\u001b[0;34m\u001b[0m\u001b[0;34m\u001b[0m\u001b[0m\n\u001b[0;32m---> 16\u001b[0;31m \u001b[0mprint\u001b[0m\u001b[0;34m(\u001b[0m\u001b[0;34m'Python'\u001b[0m\u001b[0;34m*\u001b[0m\u001b[0;36m4.0\u001b[0m\u001b[0;34m)\u001b[0m\u001b[0;34m\u001b[0m\u001b[0;34m\u001b[0m\u001b[0m\n\u001b[0m\u001b[1;32m     17\u001b[0m \u001b[0;34m\u001b[0m\u001b[0m\n",
      "\u001b[0;31mTypeError\u001b[0m: can't multiply sequence by non-int of type 'float'"
     ]
    }
   ],
   "source": [
    "# Concatenation - (+)\n",
    "# Both the operands should be of same sequence type\n",
    "\n",
    "# print('P' + 'A')\n",
    "# print([10,20,30]+ [1,2,3])\n",
    "# print((100,200,300)+(1,2,3))\n",
    "\n",
    "# print([10,20,30]+(10,20,30))\n",
    "\n",
    "\n",
    "# Repetition - *\n",
    "# One of the operand should be seq and other should be int\n",
    "print('Python' * 3)\n",
    "print([10,20,30]*4)\n",
    "print((1,2,3)*7)\n",
    "print('Python'*4.0)\n",
    "\n"
   ]
  },
  {
   "cell_type": "code",
   "execution_count": 29,
   "metadata": {
    "ExecuteTime": {
     "end_time": "2020-11-26T14:58:04.040273Z",
     "start_time": "2020-11-26T14:58:04.034514Z"
    }
   },
   "outputs": [
    {
     "name": "stdout",
     "output_type": "stream",
     "text": [
      "True\n",
      "False\n"
     ]
    }
   ],
   "source": [
    "# Comparison Operator - <, >, <=, >=\n",
    "# Does not work with different data types except int and float\n",
    "# Always returns Boolean values\n",
    "\n",
    "# print(10<2)\n",
    "# print(10<10.20)\n",
    "# print(10<(10+20j))\n",
    "# print((10+20j)<(20+30j))\n",
    "# print('Python'<[10,20,30])\n",
    "# print('A'<=65)\n",
    "\n",
    "print('Python'<='Python')\n",
    "print('Python'<='Pytho')\n",
    "\n",
    "\n",
    "\n",
    "# ord - to get the ASCII equivalent of the character, chr - to get the character from ASCII value\n",
    "# print(ord('A'))\n",
    "# print(ord('='))\n",
    "# print(ord('a'))\n",
    "\n",
    "# print(chr(65))\n",
    "# print(chr(61))\n",
    "# print(chr(97))\n",
    "\n",
    "\n"
   ]
  },
  {
   "cell_type": "code",
   "execution_count": 34,
   "metadata": {
    "ExecuteTime": {
     "end_time": "2020-11-26T15:02:33.642526Z",
     "start_time": "2020-11-26T15:02:33.632806Z"
    }
   },
   "outputs": [
    {
     "name": "stdout",
     "output_type": "stream",
     "text": [
      "False\n",
      "True\n",
      "False\n",
      "True\n"
     ]
    }
   ],
   "source": [
    "# Equality operator - ==, !=\n",
    "# works with different data types\n",
    "# Always returns Boolean values\n",
    "# Compares the content\n",
    "\n",
    "print(10 == 20)\n",
    "print(10 != 20)\n",
    "\n",
    "print((10+20j) == (20+30j))\n",
    "print(ord('A') == 65)\n",
    "\n",
    "\n"
   ]
  },
  {
   "cell_type": "code",
   "execution_count": 39,
   "metadata": {
    "ExecuteTime": {
     "end_time": "2020-11-26T15:12:33.665742Z",
     "start_time": "2020-11-26T15:12:33.658812Z"
    }
   },
   "outputs": [
    {
     "name": "stdout",
     "output_type": "stream",
     "text": [
      "20\n"
     ]
    }
   ],
   "source": [
    "# Logical Operator - and or not\n",
    "\n",
    "# # and Truth Table - False\n",
    "# True and True = True\n",
    "# False and True = False\n",
    "# True and False = False\n",
    "# False and False = False\n",
    "\n",
    "# # or Truth Table - True\n",
    "# True or True = True\n",
    "# False or True = True\n",
    "# True or False = True\n",
    "# False or False = False\n",
    "\n",
    "# # not Truth Table\n",
    "# not True = False\n",
    "# not False = True\n",
    "\n",
    "\n",
    "# (10<20) and ('Python'<'python')\n",
    "\n",
    "# If A and B are two values/objects\n",
    "# A and B result is A if A is False else B\n",
    "# A or B result is A if A is True else B\n",
    "\n",
    "# print(10 and 20)\n",
    "# print(10 and 0)\n",
    "# print(0 and 10)\n",
    "# print(0 and 0.0)\n",
    "\n",
    "# print(10 or 20)\n",
    "# print(10 or 0)\n",
    "# print(0 or 10)\n",
    "# print(0 or 0.0)\n",
    "\n",
    "print(not 10 or 20)\n",
    "\n"
   ]
  },
  {
   "cell_type": "code",
   "execution_count": 60,
   "metadata": {
    "ExecuteTime": {
     "end_time": "2020-11-26T15:28:34.383376Z",
     "start_time": "2020-11-26T15:28:34.376604Z"
    }
   },
   "outputs": [
    {
     "name": "stdout",
     "output_type": "stream",
     "text": [
      "0b1000011\n",
      "8\n"
     ]
    }
   ],
   "source": [
    "# Bitwise Operators - &, |, ^, ~, <<, >>\n",
    "# Works only with bits\n",
    "# Works only with integers\n",
    "\n",
    "# # Bitwise &\n",
    "# 1 & 1 = 1\n",
    "# 1 & 0 = 0\n",
    "# 0 & 1 = 0\n",
    "# 0 & 0 = 0\n",
    "\n",
    "# # Bitwise |\n",
    "# 1 | 1 = 1\n",
    "# 1 | 0 = 1\n",
    "# 0 | 1 = 1\n",
    "# 0 | 0 = 0\n",
    "\n",
    "# # Bitwise ^\n",
    "# 1 | 1 = 0\n",
    "# 1 | 0 = 1\n",
    "# 0 | 1 = 1\n",
    "# 0 | 0 = 0\n",
    "\n",
    "# print(37&39)\n",
    "# print(37|39)\n",
    "# print(37^39)\n",
    "\n",
    "\n",
    "# binary representation of decimal numbers\n",
    "# do the operation following Truth table\n",
    "# get the decimal equivalent\n",
    "\n",
    "# print(bin(39))\n",
    "\n",
    "# 37 = 100101\n",
    "# 39 = 100111\n",
    "# ------------\n",
    "# &  = 100101\n",
    "# |  = 100111\n",
    "# ^  = 000010\n",
    "\n",
    "# print(0b10)\n",
    "\n",
    "\n",
    "# ~n = -(n+1)\n",
    "# print(~10)\n",
    "# print(~-9)\n",
    "# print(~True)\n",
    "\n",
    "# Bitwise left shift (num<<bit)\n",
    "# get the binary equivaent of the number on left side\n",
    "# use 32/64 bot representation \n",
    "# Remove the number of bits from left side as written on right side of the operation and add same number of 0 at right side.\n",
    "# get the decimal equivalent\n",
    "\n",
    "\n",
    "\n",
    "\n",
    "# print(67<<3)\n",
    "print(bin(67))\n",
    "\n",
    "# 67 = 00000000000000000000001000011000\n",
    "# print(0b1000011000)\n",
    "\n",
    "# Bitwise right shift (num>>bit)\n",
    "# print(67>>3)\n",
    "\n",
    "# 67 = 00000000000000000000000000001000\n",
    "print(0b1000)\n",
    "\n",
    "\n"
   ]
  },
  {
   "cell_type": "code",
   "execution_count": 62,
   "metadata": {
    "ExecuteTime": {
     "end_time": "2020-11-26T15:32:38.679814Z",
     "start_time": "2020-11-26T15:32:38.673175Z"
    }
   },
   "outputs": [
    {
     "name": "stdout",
     "output_type": "stream",
     "text": [
      "10\n",
      "12\n"
     ]
    }
   ],
   "source": [
    "# Assignment - =\n",
    "# Compound Assignment - +=, -=, *=, /=, //=, **=, %=, &=, |=, ^=, ~=, <<=, >>=\n",
    "\n",
    "a = 10\n",
    "print(a)\n",
    "# a = a+2\n",
    "# print(a)\n",
    "\n",
    "a += 2          # a = a+2\n",
    "print(a)"
   ]
  },
  {
   "cell_type": "code",
   "execution_count": 70,
   "metadata": {
    "ExecuteTime": {
     "end_time": "2020-11-26T15:36:06.290745Z",
     "start_time": "2020-11-26T15:36:06.281115Z"
    }
   },
   "outputs": [
    {
     "name": "stdout",
     "output_type": "stream",
     "text": [
      "True\n",
      "False\n",
      "4361787072\n",
      "4361787072\n",
      "4361787392\n"
     ]
    }
   ],
   "source": [
    "# Membership(in and not in) and Identity(is, is not) Operator\n",
    "\n",
    "# print('P' in 'Python')\n",
    "# print('A' in 'Python')\n",
    "# print(10 in [10,20,30,100])\n",
    "# print(10 in (10,20,30,100))\n",
    "# print(1 in {1:10, 2:200, 3:300})\n",
    "# print(200 in {1:10, 2:200, 3:300})\n",
    "\n",
    "# is operator compares the memory address\n",
    "# Returns True if memory address is same - is operator\n",
    "# a = 10\n",
    "# b = 10\n",
    "# c = 20\n",
    "# print(a is b)\n",
    "# print(a is c)\n",
    "# print(id(a))\n",
    "# print(id(b))\n",
    "# print(id(c))\n",
    "\n",
    "\n",
    "\n"
   ]
  },
  {
   "cell_type": "code",
   "execution_count": null,
   "metadata": {},
   "outputs": [],
   "source": [
    "# **\tExponentiation (raise to the power)\n",
    "# ~ + -\tComplement, unary plus and minus (method names for the last two are +@ and -@)\n",
    "# * / % //\tMultiply, divide, modulo and floor division\n",
    "# + -\tAddition and subtraction\n",
    "# >> <<\tRight and left bitwise shift\n",
    "# &\tBitwise 'AND'td>\n",
    "# ^ |\tBitwise exclusive `OR' and regular `OR'\n",
    "# <= < > >=\tComparison operators\n",
    "# <> == !=\tEquality operators\n",
    "# = %= /= //= -= += *= **=\tAssignment operators\n",
    "# is is not\tIdentity operators\n",
    "# in not in\tMembership operators\n",
    "# not or and\tLogical operators"
   ]
  },
  {
   "cell_type": "code",
   "execution_count": 74,
   "metadata": {
    "ExecuteTime": {
     "end_time": "2020-11-26T15:44:50.678727Z",
     "start_time": "2020-11-26T15:44:50.671663Z"
    }
   },
   "outputs": [
    {
     "name": "stdout",
     "output_type": "stream",
     "text": [
      "-10\n",
      "10\n"
     ]
    }
   ],
   "source": [
    "a = -10\n",
    "print(+a)\n",
    "print(-a)"
   ]
  },
  {
   "cell_type": "code",
   "execution_count": null,
   "metadata": {},
   "outputs": [],
   "source": [
    "print(a + b * c)"
   ]
  },
  {
   "cell_type": "code",
   "execution_count": null,
   "metadata": {},
   "outputs": [],
   "source": []
  },
  {
   "cell_type": "code",
   "execution_count": null,
   "metadata": {},
   "outputs": [],
   "source": []
  },
  {
   "cell_type": "code",
   "execution_count": null,
   "metadata": {},
   "outputs": [],
   "source": []
  },
  {
   "cell_type": "code",
   "execution_count": null,
   "metadata": {},
   "outputs": [],
   "source": []
  },
  {
   "cell_type": "code",
   "execution_count": null,
   "metadata": {},
   "outputs": [],
   "source": []
  },
  {
   "cell_type": "code",
   "execution_count": null,
   "metadata": {},
   "outputs": [],
   "source": []
  },
  {
   "cell_type": "code",
   "execution_count": null,
   "metadata": {},
   "outputs": [],
   "source": []
  },
  {
   "cell_type": "code",
   "execution_count": null,
   "metadata": {},
   "outputs": [],
   "source": []
  },
  {
   "cell_type": "code",
   "execution_count": null,
   "metadata": {},
   "outputs": [],
   "source": []
  },
  {
   "cell_type": "code",
   "execution_count": null,
   "metadata": {},
   "outputs": [],
   "source": []
  },
  {
   "cell_type": "code",
   "execution_count": null,
   "metadata": {},
   "outputs": [],
   "source": []
  },
  {
   "cell_type": "code",
   "execution_count": null,
   "metadata": {},
   "outputs": [],
   "source": []
  },
  {
   "cell_type": "code",
   "execution_count": null,
   "metadata": {},
   "outputs": [],
   "source": []
  },
  {
   "cell_type": "code",
   "execution_count": null,
   "metadata": {},
   "outputs": [],
   "source": []
  },
  {
   "cell_type": "code",
   "execution_count": null,
   "metadata": {},
   "outputs": [],
   "source": []
  },
  {
   "cell_type": "code",
   "execution_count": null,
   "metadata": {},
   "outputs": [],
   "source": []
  },
  {
   "cell_type": "code",
   "execution_count": null,
   "metadata": {},
   "outputs": [],
   "source": []
  },
  {
   "cell_type": "code",
   "execution_count": null,
   "metadata": {},
   "outputs": [],
   "source": []
  },
  {
   "cell_type": "code",
   "execution_count": null,
   "metadata": {},
   "outputs": [],
   "source": []
  },
  {
   "cell_type": "code",
   "execution_count": null,
   "metadata": {},
   "outputs": [],
   "source": []
  },
  {
   "cell_type": "code",
   "execution_count": null,
   "metadata": {},
   "outputs": [],
   "source": []
  },
  {
   "cell_type": "code",
   "execution_count": null,
   "metadata": {},
   "outputs": [],
   "source": []
  },
  {
   "cell_type": "code",
   "execution_count": null,
   "metadata": {},
   "outputs": [],
   "source": []
  },
  {
   "cell_type": "code",
   "execution_count": null,
   "metadata": {},
   "outputs": [],
   "source": []
  },
  {
   "cell_type": "code",
   "execution_count": null,
   "metadata": {},
   "outputs": [],
   "source": []
  },
  {
   "cell_type": "code",
   "execution_count": null,
   "metadata": {},
   "outputs": [],
   "source": []
  },
  {
   "cell_type": "code",
   "execution_count": null,
   "metadata": {},
   "outputs": [],
   "source": []
  },
  {
   "cell_type": "code",
   "execution_count": null,
   "metadata": {},
   "outputs": [],
   "source": []
  },
  {
   "cell_type": "code",
   "execution_count": null,
   "metadata": {},
   "outputs": [],
   "source": []
  },
  {
   "cell_type": "code",
   "execution_count": null,
   "metadata": {},
   "outputs": [],
   "source": []
  },
  {
   "cell_type": "code",
   "execution_count": null,
   "metadata": {},
   "outputs": [],
   "source": []
  },
  {
   "cell_type": "code",
   "execution_count": null,
   "metadata": {},
   "outputs": [],
   "source": []
  },
  {
   "cell_type": "code",
   "execution_count": null,
   "metadata": {},
   "outputs": [],
   "source": []
  },
  {
   "cell_type": "code",
   "execution_count": null,
   "metadata": {},
   "outputs": [],
   "source": []
  },
  {
   "cell_type": "code",
   "execution_count": null,
   "metadata": {},
   "outputs": [],
   "source": []
  },
  {
   "cell_type": "code",
   "execution_count": null,
   "metadata": {},
   "outputs": [],
   "source": []
  },
  {
   "cell_type": "code",
   "execution_count": null,
   "metadata": {},
   "outputs": [],
   "source": []
  },
  {
   "cell_type": "code",
   "execution_count": null,
   "metadata": {},
   "outputs": [],
   "source": []
  },
  {
   "cell_type": "code",
   "execution_count": null,
   "metadata": {},
   "outputs": [],
   "source": []
  },
  {
   "cell_type": "code",
   "execution_count": null,
   "metadata": {},
   "outputs": [],
   "source": []
  },
  {
   "cell_type": "code",
   "execution_count": null,
   "metadata": {},
   "outputs": [],
   "source": []
  },
  {
   "cell_type": "code",
   "execution_count": null,
   "metadata": {},
   "outputs": [],
   "source": []
  },
  {
   "cell_type": "code",
   "execution_count": null,
   "metadata": {},
   "outputs": [],
   "source": []
  },
  {
   "cell_type": "code",
   "execution_count": null,
   "metadata": {},
   "outputs": [],
   "source": []
  },
  {
   "cell_type": "code",
   "execution_count": null,
   "metadata": {},
   "outputs": [],
   "source": []
  },
  {
   "cell_type": "code",
   "execution_count": null,
   "metadata": {},
   "outputs": [],
   "source": []
  },
  {
   "cell_type": "code",
   "execution_count": null,
   "metadata": {},
   "outputs": [],
   "source": []
  },
  {
   "cell_type": "code",
   "execution_count": null,
   "metadata": {},
   "outputs": [],
   "source": []
  },
  {
   "cell_type": "code",
   "execution_count": null,
   "metadata": {},
   "outputs": [],
   "source": []
  },
  {
   "cell_type": "code",
   "execution_count": null,
   "metadata": {},
   "outputs": [],
   "source": []
  },
  {
   "cell_type": "code",
   "execution_count": null,
   "metadata": {},
   "outputs": [],
   "source": []
  },
  {
   "cell_type": "code",
   "execution_count": null,
   "metadata": {},
   "outputs": [],
   "source": []
  },
  {
   "cell_type": "code",
   "execution_count": null,
   "metadata": {},
   "outputs": [],
   "source": []
  },
  {
   "cell_type": "code",
   "execution_count": null,
   "metadata": {},
   "outputs": [],
   "source": []
  },
  {
   "cell_type": "code",
   "execution_count": null,
   "metadata": {},
   "outputs": [],
   "source": []
  },
  {
   "cell_type": "code",
   "execution_count": null,
   "metadata": {},
   "outputs": [],
   "source": []
  },
  {
   "cell_type": "code",
   "execution_count": null,
   "metadata": {},
   "outputs": [],
   "source": []
  },
  {
   "cell_type": "code",
   "execution_count": null,
   "metadata": {},
   "outputs": [],
   "source": []
  },
  {
   "cell_type": "code",
   "execution_count": null,
   "metadata": {},
   "outputs": [],
   "source": []
  },
  {
   "cell_type": "code",
   "execution_count": null,
   "metadata": {},
   "outputs": [],
   "source": []
  },
  {
   "cell_type": "code",
   "execution_count": null,
   "metadata": {},
   "outputs": [],
   "source": []
  },
  {
   "cell_type": "code",
   "execution_count": null,
   "metadata": {},
   "outputs": [],
   "source": []
  },
  {
   "cell_type": "code",
   "execution_count": null,
   "metadata": {},
   "outputs": [],
   "source": []
  },
  {
   "cell_type": "code",
   "execution_count": null,
   "metadata": {},
   "outputs": [],
   "source": []
  },
  {
   "cell_type": "code",
   "execution_count": null,
   "metadata": {},
   "outputs": [],
   "source": []
  },
  {
   "cell_type": "code",
   "execution_count": null,
   "metadata": {},
   "outputs": [],
   "source": []
  },
  {
   "cell_type": "code",
   "execution_count": null,
   "metadata": {},
   "outputs": [],
   "source": []
  }
 ],
 "metadata": {
  "kernelspec": {
   "display_name": "Python 3",
   "language": "python",
   "name": "python3"
  },
  "language_info": {
   "codemirror_mode": {
    "name": "ipython",
    "version": 3
   },
   "file_extension": ".py",
   "mimetype": "text/x-python",
   "name": "python",
   "nbconvert_exporter": "python",
   "pygments_lexer": "ipython3",
   "version": "3.7.3"
  },
  "varInspector": {
   "cols": {
    "lenName": 16,
    "lenType": 16,
    "lenVar": 40
   },
   "kernels_config": {
    "python": {
     "delete_cmd_postfix": "",
     "delete_cmd_prefix": "del ",
     "library": "var_list.py",
     "varRefreshCmd": "print(var_dic_list())"
    },
    "r": {
     "delete_cmd_postfix": ") ",
     "delete_cmd_prefix": "rm(",
     "library": "var_list.r",
     "varRefreshCmd": "cat(var_dic_list()) "
    }
   },
   "types_to_exclude": [
    "module",
    "function",
    "builtin_function_or_method",
    "instance",
    "_Feature"
   ],
   "window_display": false
  }
 },
 "nbformat": 4,
 "nbformat_minor": 2
}
