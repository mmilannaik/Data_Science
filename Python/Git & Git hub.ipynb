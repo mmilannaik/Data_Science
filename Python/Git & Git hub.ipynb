{
 "cells": [
  {
   "cell_type": "markdown",
   "metadata": {},
   "source": [
    "Git vs Git Hub ?\n",
    "Git-version control system- vcs\n",
    "\n",
    "Centralised (CVCS) & Distributed version control system (DVCS)\n",
    "1. CVCS: after central system, Local system will update\n",
    "2. DVCS: Copy is available in every local system"
   ]
  },
  {
   "cell_type": "markdown",
   "metadata": {},
   "source": [
    "First install Git scm in the system\n",
    "1. set the command for ( git config --global user.name mmilannaik\n",
    "                        git config --global user.email mmilannaik@gmail.com\n",
    "                        git config --global --list\n",
    "                        git config --global core.autocrlf.true\n",
    "                        git clone <Enter the link for github>\n",
    "2. Cd.. to get back/mkdir to make a new directory/\n",
    "3. ls/ ls -al(<shows all hidden folder>)\n",
    "    vim.py/i/write the program /Esc :wq/ cat p1.py\n",
    "4. git add . /git status/ git commit -m '<enter your comment>' /git status\n",
    "5. git push -f origin master\n"
   ]
  },
  {
   "cell_type": "code",
   "execution_count": null,
   "metadata": {},
   "outputs": [],
   "source": [
    "# to push a folder, there should be one file in it."
   ]
  }
 ],
 "metadata": {
  "kernelspec": {
   "display_name": "Python 3",
   "language": "python",
   "name": "python3"
  },
  "language_info": {
   "codemirror_mode": {
    "name": "ipython",
    "version": 3
   },
   "file_extension": ".py",
   "mimetype": "text/x-python",
   "name": "python",
   "nbconvert_exporter": "python",
   "pygments_lexer": "ipython3",
   "version": "3.8.5"
  }
 },
 "nbformat": 4,
 "nbformat_minor": 4
}
