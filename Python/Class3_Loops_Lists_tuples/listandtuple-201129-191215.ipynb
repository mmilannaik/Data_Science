{
 "cells": [
  {
   "cell_type": "markdown",
   "metadata": {},
   "source": [
    "## List"
   ]
  },
  {
   "cell_type": "markdown",
   "metadata": {},
   "source": [
    "List properties:\n",
    "    - ordered data and indexable\n",
    "    - allows duplicate members\n",
    "    - hetrgenous data type\n",
    "    - mutable/changeable\n",
    "    "
   ]
  },
  {
   "cell_type": "code",
   "execution_count": 1,
   "metadata": {},
   "outputs": [],
   "source": [
    "# [seperated comma]\n",
    "# elements/members/values\n",
    "# An element of the list can be any python supported data types "
   ]
  },
  {
   "cell_type": "code",
   "execution_count": 2,
   "metadata": {},
   "outputs": [
    {
     "name": "stdout",
     "output_type": "stream",
     "text": [
      "<class 'list'>\n"
     ]
    },
    {
     "data": {
      "text/plain": [
       "[1, 2, 3, 4, 5, 6, 7, 8]"
      ]
     },
     "execution_count": 2,
     "metadata": {},
     "output_type": "execute_result"
    }
   ],
   "source": [
    "list1 = [1,2,3,4,5,6,7,8] \n",
    "print(type(list1))\n",
    "list1"
   ]
  },
  {
   "cell_type": "code",
   "execution_count": 3,
   "metadata": {},
   "outputs": [
    {
     "name": "stdout",
     "output_type": "stream",
     "text": [
      "<class 'list'>\n"
     ]
    },
    {
     "data": {
      "text/plain": [
       "[1, 2, 3, 4, 5, 6, 7, 8, 9.0]"
      ]
     },
     "execution_count": 3,
     "metadata": {},
     "output_type": "execute_result"
    }
   ],
   "source": [
    "list1 = [1,2,3,4,5,6,7,8, 9.0] \n",
    "print(type(list1))\n",
    "list1"
   ]
  },
  {
   "cell_type": "code",
   "execution_count": 4,
   "metadata": {},
   "outputs": [
    {
     "name": "stdout",
     "output_type": "stream",
     "text": [
      "<class 'list'>\n"
     ]
    },
    {
     "data": {
      "text/plain": [
       "[1, 2, 3, 4, 5, 6, 7, 8, 9.0, 'string', 9.0]"
      ]
     },
     "execution_count": 4,
     "metadata": {},
     "output_type": "execute_result"
    }
   ],
   "source": [
    "list1 = [1,2,3,4,5,6,7,8, 9.0, 'string', 9.0] \n",
    "print(type(list1))\n",
    "list1"
   ]
  },
  {
   "cell_type": "code",
   "execution_count": 5,
   "metadata": {},
   "outputs": [
    {
     "data": {
      "text/plain": [
       "list"
      ]
     },
     "execution_count": 5,
     "metadata": {},
     "output_type": "execute_result"
    }
   ],
   "source": [
    "type(list((1,2,3,4,5)))"
   ]
  },
  {
   "cell_type": "code",
   "execution_count": 6,
   "metadata": {},
   "outputs": [
    {
     "name": "stdout",
     "output_type": "stream",
     "text": [
      "<class 'list'>\n"
     ]
    },
    {
     "data": {
      "text/plain": [
       "[1, 2, 3, 4, 5, 6, 7, 8, 9.0, 'string', 9.0, -1, 'a']"
      ]
     },
     "execution_count": 6,
     "metadata": {},
     "output_type": "execute_result"
    }
   ],
   "source": [
    "### \n",
    "list1 = [1,2,3,4,5,6,7,8, 9.0, 'string', 9.0, -1, 'a'] \n",
    "print(type(list1))\n",
    "list1"
   ]
  },
  {
   "cell_type": "code",
   "execution_count": 7,
   "metadata": {},
   "outputs": [],
   "source": [
    "## Accessing an element of the list"
   ]
  },
  {
   "cell_type": "code",
   "execution_count": 8,
   "metadata": {},
   "outputs": [
    {
     "name": "stdout",
     "output_type": "stream",
     "text": [
      "1\n",
      "3\n",
      "6\n",
      "string\n",
      "a\n"
     ]
    }
   ],
   "source": [
    "# indexing\n",
    "print(list1[0])\n",
    "print(list1[2])\n",
    "print(list1[5])\n",
    "print(list1[9])\n",
    "print(list1[12])"
   ]
  },
  {
   "cell_type": "code",
   "execution_count": 9,
   "metadata": {},
   "outputs": [
    {
     "name": "stdout",
     "output_type": "stream",
     "text": [
      "a\n",
      "a\n"
     ]
    }
   ],
   "source": [
    "## negative indexing\n",
    "print(list1[12])\n",
    "print(list1[-1])"
   ]
  },
  {
   "cell_type": "code",
   "execution_count": 10,
   "metadata": {},
   "outputs": [
    {
     "data": {
      "text/plain": [
       "[1, 2, 3, 4, 5, 6, 7, 8, 9.0, 'string', 9.0, -1, 'a']"
      ]
     },
     "execution_count": 10,
     "metadata": {},
     "output_type": "execute_result"
    }
   ],
   "source": [
    "list1 = [1,2,3,4,5,6,7,8, 9.0, 'string', 9.0, -1, 'a'] \n",
    "list1"
   ]
  },
  {
   "cell_type": "code",
   "execution_count": 11,
   "metadata": {},
   "outputs": [
    {
     "name": "stdout",
     "output_type": "stream",
     "text": [
      "[4, 5, 6]\n",
      "[8, 9.0, 'string']\n",
      "[1, 2, 3]\n",
      "[1, 2, 3]\n",
      "[-1, 'a']\n",
      "[-1, 'a']\n",
      "[1, 2, 3, 4, 5, 6, 7, 8, 9.0, 'string', 9.0, -1, 'a']\n"
     ]
    }
   ],
   "source": [
    "# slicing \n",
    "# syntax : obj[start:end] where end is exluded ; start has a default value -> 0; end default value => length(obj) -1\n",
    "print(list1[3:6])\n",
    "print(list1[7:10])\n",
    "print(list1[0:3])\n",
    "print(list1[:3])\n",
    "print(list1[11:14])\n",
    "print(list1[11:])\n",
    "print(list1[:])"
   ]
  },
  {
   "cell_type": "code",
   "execution_count": 12,
   "metadata": {},
   "outputs": [
    {
     "name": "stdout",
     "output_type": "stream",
     "text": [
      "[1, 2, 3, 4, 5, 6, 7, 8, 9.0, 'string', 9.0, -1, 'a']\n",
      "[8, 9.0, 'string']\n",
      "[8, 9.0, 'string']\n",
      "[1, 2, 3, 4, 5, 6, 7, 8]\n",
      "[1, 2, 3, 4, 5, 6, 7, 8]\n",
      "[1, 2, 3, 4, 5, 6, 7, 8]\n",
      "[1, 2, 3, 4, 5, 6, 7, 8]\n"
     ]
    }
   ],
   "source": [
    "### negative slicing\n",
    "# syntax : obj[start:end] where end is exluded\n",
    "print(list1)\n",
    "print(list1[7:10])\n",
    "print(list1[-6:-3])\n",
    "# fetch [1,2,3,4,5,6,7,8]\n",
    "print(list1[:8])\n",
    "print(list1[0:8]) # slicing\n",
    "print(list1[-13:-5]) # negative slicing\n",
    "print(list1[:-5]) # negative slicing"
   ]
  },
  {
   "cell_type": "markdown",
   "metadata": {},
   "source": [
    "#### modifying a value of the list element"
   ]
  },
  {
   "cell_type": "code",
   "execution_count": 13,
   "metadata": {},
   "outputs": [
    {
     "name": "stdout",
     "output_type": "stream",
     "text": [
      "[1, 2, 3, 4, 5, 6, 7, 8, 9.0, 'string', 9.0, -1, 'a']\n"
     ]
    }
   ],
   "source": [
    "print(list1)"
   ]
  },
  {
   "cell_type": "code",
   "execution_count": 14,
   "metadata": {},
   "outputs": [
    {
     "name": "stdout",
     "output_type": "stream",
     "text": [
      "[1, 2, 3, 4, 5, 6, 7, 8, 9.0, 'string', 9.0, -1, 'a']\n",
      "[1, 2, 3, 4, 5, 6, 7, 8, 9.0, 'hw', 9.0, -1, 'a']\n"
     ]
    }
   ],
   "source": [
    "# replace 'string' with 'hw'\n",
    "print(list1)\n",
    "list1[-4] = 'hw' # mutable\n",
    "print(list1)"
   ]
  },
  {
   "cell_type": "code",
   "execution_count": 15,
   "metadata": {},
   "outputs": [
    {
     "name": "stdout",
     "output_type": "stream",
     "text": [
      "[1, 2, 3, 4, 5, 6, 7, 8, 9.0, 'hw', 9.0, -1, 'a']\n",
      "[1, 2, 3, 4, 5, 6, 7, 8, 9.0, 4, 9.0, -1, 'a']\n"
     ]
    }
   ],
   "source": [
    "print(list1)\n",
    "list1[-4] = 4\n",
    "print(list1)"
   ]
  },
  {
   "cell_type": "code",
   "execution_count": 16,
   "metadata": {},
   "outputs": [
    {
     "name": "stdout",
     "output_type": "stream",
     "text": [
      "[1, 2, 3, 4, 5, 6, 7, 8, 9.0, 4, 9.0, -1, 'a']\n",
      "[1, 2, 3, 4, 5, 6, 6, 7, 8, 4, 9.0, -1, 'a']\n"
     ]
    }
   ],
   "source": [
    "# replace [7, 8, 9.0] with [6,7,8]\n",
    "print(list1)\n",
    "list1[6:9] = [6,7,8]\n",
    "print(list1)"
   ]
  },
  {
   "cell_type": "code",
   "execution_count": 17,
   "metadata": {},
   "outputs": [
    {
     "data": {
      "text/plain": [
       "[1, 2, 3, 4, [5, 6, 7, 8], 70, 80, 90]"
      ]
     },
     "execution_count": 17,
     "metadata": {},
     "output_type": "execute_result"
    }
   ],
   "source": [
    "list1 = [1,2,3,4,[5,6,7,8],70,80,90]\n",
    "list1"
   ]
  },
  {
   "cell_type": "code",
   "execution_count": 18,
   "metadata": {},
   "outputs": [
    {
     "name": "stdout",
     "output_type": "stream",
     "text": [
      "7\n",
      "7\n",
      "7\n",
      "7\n"
     ]
    }
   ],
   "source": [
    "print(list1[-4][-2])\n",
    "print(list1[-4][2])\n",
    "print(list1[4][-2])\n",
    "print(list1[4][2])"
   ]
  },
  {
   "cell_type": "markdown",
   "metadata": {},
   "source": [
    "#### Adding a value to the list : append(), extend(), insert()"
   ]
  },
  {
   "cell_type": "code",
   "execution_count": 19,
   "metadata": {},
   "outputs": [
    {
     "name": "stdout",
     "output_type": "stream",
     "text": [
      "[1, 2, 3, 4]\n"
     ]
    }
   ],
   "source": [
    "mylist = [1,2,3,4]\n",
    "print(mylist)"
   ]
  },
  {
   "cell_type": "code",
   "execution_count": 20,
   "metadata": {},
   "outputs": [
    {
     "name": "stdout",
     "output_type": "stream",
     "text": [
      "[1, 2, 3, 4]\n",
      "[1, 2, 3, 4, 9.0]\n"
     ]
    }
   ],
   "source": [
    "# add a number 9.0\n",
    "print(mylist)\n",
    "mylist.append(9.0)\n",
    "print(mylist)"
   ]
  },
  {
   "cell_type": "code",
   "execution_count": 21,
   "metadata": {},
   "outputs": [
    {
     "name": "stdout",
     "output_type": "stream",
     "text": [
      "[1, 2, 3, 4, 9.0]\n",
      "[1, 2, 3, 4, 9.0, 'string']\n"
     ]
    }
   ],
   "source": [
    "print(mylist)\n",
    "mylist.append('string')\n",
    "print(mylist)"
   ]
  },
  {
   "cell_type": "code",
   "execution_count": 22,
   "metadata": {},
   "outputs": [
    {
     "name": "stdout",
     "output_type": "stream",
     "text": [
      "[1, 2, 3, 4, 9.0, 'string']\n",
      "[1, 2, 3, 4, 9.0, 'string', [3, 4, 5, 6]]\n"
     ]
    }
   ],
   "source": [
    "print(mylist)\n",
    "mylist.append([3,4,5,6])\n",
    "print(mylist)"
   ]
  },
  {
   "cell_type": "code",
   "execution_count": 23,
   "metadata": {},
   "outputs": [
    {
     "name": "stdout",
     "output_type": "stream",
     "text": [
      "[1, 2, 3, 4, 9.0, 'string', [3, 4, 5, 6]]\n",
      "[1, 2, 3, 4, 9.0, 'string', [3, 4, 5, 6], 3, 4, 5, 6]\n"
     ]
    }
   ],
   "source": [
    "print(mylist)\n",
    "mylist.extend([3,4,5,6])\n",
    "print(mylist)"
   ]
  },
  {
   "cell_type": "code",
   "execution_count": 24,
   "metadata": {},
   "outputs": [
    {
     "name": "stdout",
     "output_type": "stream",
     "text": [
      "[1, 2, 3, 4, 9.0, 'string', [3, 4, 5, 6], 3, 4, 5, 6]\n",
      "[1, 2, 3, 4, 'mystring', 9.0, 'string', [3, 4, 5, 6], 3, 4, 5, 6]\n"
     ]
    }
   ],
   "source": [
    "# insert a value 'mystring' before 9.0\n",
    "print(mylist)\n",
    "mylist.insert(4, 'mystring')\n",
    "print(mylist)"
   ]
  },
  {
   "cell_type": "code",
   "execution_count": 25,
   "metadata": {},
   "outputs": [
    {
     "name": "stdout",
     "output_type": "stream",
     "text": [
      "[]\n",
      "['bangalore']\n",
      "['bangalore', 'b', 'a', 'n', 'g', 'a', 'l', 'o', 'r', 'e']\n"
     ]
    }
   ],
   "source": [
    "list1 = []\n",
    "print(list1)\n",
    "list1.append('bangalore')\n",
    "print(list1)\n",
    "list1.extend('bangalore')\n",
    "print(list1)"
   ]
  },
  {
   "cell_type": "code",
   "execution_count": 26,
   "metadata": {},
   "outputs": [],
   "source": [
    "# mylist = [1, 2, 3, 4, 9.0, 'string', [3, 4, 5, 6], 3, 4, 5, 6]\n",
    "# for each in [3,4,5,6]:\n",
    "#     mylist.insert(0, each)\n",
    "# print(mylist)    \n",
    "# # 1st iteration=> [3, 1, 2, 3, 4, 9.0, 'string', [3, 4, 5, 6], 3, 4, 5, 6]\n",
    "# # 2nd iteration=> [4,3, 1, 2, 3, 4, 9.0, 'string', [3, 4, 5, 6], 3, 4, 5, 6]\n",
    "# # 3rd iteration=> [5,4,3, 1, 2, 3, 4, 9.0, 'string', [3, 4, 5, 6], 3, 4, 5, 6]\n",
    "# # 4th iteration=> [6,5,4,3, 1, 2, 3, 4, 9.0, 'string', [3, 4, 5, 6], 3, 4, 5, 6]"
   ]
  },
  {
   "cell_type": "code",
   "execution_count": 27,
   "metadata": {},
   "outputs": [
    {
     "name": "stdout",
     "output_type": "stream",
     "text": [
      "[1, 2, 3, 5]\n",
      "[1, 2, 3, 1, 2, 3]\n"
     ]
    }
   ],
   "source": [
    "## meaning of '+' and '*'\n",
    "print([1,2,3] + [5])\n",
    "# print([1,2,3] + 5) # error\n",
    "print([1,2,3] * 2)\n",
    "# print([1,2,3] * [2]) # invalid (error)"
   ]
  },
  {
   "cell_type": "markdown",
   "metadata": {},
   "source": [
    "#### Deleting a value to the list : \n",
    "    - pop() - deletes a value by index position\n",
    "    - remove() -- deletes a value by its value"
   ]
  },
  {
   "cell_type": "code",
   "execution_count": 28,
   "metadata": {},
   "outputs": [
    {
     "name": "stdout",
     "output_type": "stream",
     "text": [
      "['bangalore', 'b', 'a', 'n', 'g', 'a', 'l', 'o', 'r', 'e']\n"
     ]
    }
   ],
   "source": [
    "mylist = ['bangalore', 'b', 'a', 'n', 'g', 'a', 'l', 'o', 'r', 'e']\n",
    "print(mylist)"
   ]
  },
  {
   "cell_type": "code",
   "execution_count": 29,
   "metadata": {},
   "outputs": [
    {
     "name": "stdout",
     "output_type": "stream",
     "text": [
      "['bangalore', 'b', 'a', 'n', 'g', 'a', 'l', 'o', 'r', 'e']\n",
      "['bangalore', 'b', 'a', 'n', 'g', 'a', 'l', 'o', 'r']\n"
     ]
    }
   ],
   "source": [
    "print(mylist)\n",
    "mylist.pop()\n",
    "print(mylist)"
   ]
  },
  {
   "cell_type": "code",
   "execution_count": 30,
   "metadata": {},
   "outputs": [
    {
     "name": "stdout",
     "output_type": "stream",
     "text": [
      "['bangalore', 'b', 'a', 'n', 'g', 'a', 'l', 'o', 'r']\n",
      "['bangalore', 'b', 'n', 'g', 'a', 'l', 'o', 'r']\n"
     ]
    }
   ],
   "source": [
    "# remove string 'a'\n",
    "print(mylist)\n",
    "mylist.pop(2)\n",
    "print(mylist)"
   ]
  },
  {
   "cell_type": "code",
   "execution_count": 31,
   "metadata": {},
   "outputs": [
    {
     "name": "stdout",
     "output_type": "stream",
     "text": [
      "['bangalore', 'b', 'n', 'g', 'a', 'l', 'o', 'r']\n",
      "['bangalore', 'b', 'n', 'g', 'l', 'o', 'r']\n"
     ]
    }
   ],
   "source": [
    "# remove string 'a'\n",
    "print(mylist)\n",
    "mylist.remove('a')\n",
    "print(mylist)"
   ]
  },
  {
   "cell_type": "code",
   "execution_count": 32,
   "metadata": {},
   "outputs": [
    {
     "name": "stdout",
     "output_type": "stream",
     "text": [
      "[1, 2, 4]\n",
      "[1, 2, 4]\n",
      "[1, 2, 4, 'a']\n",
      "[1, 2, 4, 'a']\n"
     ]
    }
   ],
   "source": [
    "### importance of copy()\n",
    "mylist1 = [1,2,4]\n",
    "mylist_c = mylist1 # copy by reference\n",
    "print(mylist1)\n",
    "print(mylist_c)\n",
    "mylist_c.append('a')\n",
    "print(mylist1)\n",
    "print(mylist_c)"
   ]
  },
  {
   "cell_type": "code",
   "execution_count": 33,
   "metadata": {},
   "outputs": [
    {
     "name": "stdout",
     "output_type": "stream",
     "text": [
      "[1, 2, 4]\n",
      "[1, 2, 4]\n",
      "[1, 2, 4]\n",
      "[1, 2, 4, 'a']\n"
     ]
    }
   ],
   "source": [
    "### importance of copy()\n",
    "mylist1 = [1,2,4]\n",
    "mylist_c = mylist1.copy() # copy by value\n",
    "print(mylist1)\n",
    "print(mylist_c)\n",
    "mylist_c.append('a')\n",
    "print(mylist1)\n",
    "print(mylist_c)"
   ]
  },
  {
   "cell_type": "markdown",
   "metadata": {},
   "source": [
    "#### looping through a list"
   ]
  },
  {
   "cell_type": "code",
   "execution_count": 34,
   "metadata": {},
   "outputs": [
    {
     "name": "stdout",
     "output_type": "stream",
     "text": [
      "1\n",
      "2\n",
      "4\n"
     ]
    }
   ],
   "source": [
    "for each in mylist1:\n",
    "    print(each)"
   ]
  },
  {
   "cell_type": "markdown",
   "metadata": {},
   "source": [
    "#### check if an item exist  to the list with the help of membership operator"
   ]
  },
  {
   "cell_type": "code",
   "execution_count": 35,
   "metadata": {},
   "outputs": [
    {
     "data": {
      "text/plain": [
       "[1, 2, 4]"
      ]
     },
     "execution_count": 35,
     "metadata": {},
     "output_type": "execute_result"
    }
   ],
   "source": [
    "mylist1"
   ]
  },
  {
   "cell_type": "code",
   "execution_count": 36,
   "metadata": {},
   "outputs": [
    {
     "data": {
      "text/plain": [
       "True"
      ]
     },
     "execution_count": 36,
     "metadata": {},
     "output_type": "execute_result"
    }
   ],
   "source": [
    "4 in mylist1"
   ]
  },
  {
   "cell_type": "markdown",
   "metadata": {},
   "source": [
    "1. generate a new list with square of the integers in the above list.\n",
    "    - Expected input and output\n",
    "        input_list = [1,2,3,4,5,6,7,8,9,10]\n",
    "        output_list = [1,4,9,16,25,36,49,64,81,100]"
   ]
  },
  {
   "cell_type": "code",
   "execution_count": 37,
   "metadata": {},
   "outputs": [
    {
     "data": {
      "text/plain": [
       "[1, 4, 9, 16, 25, 36, 49, 64, 81, 100]"
      ]
     },
     "execution_count": 37,
     "metadata": {},
     "output_type": "execute_result"
    }
   ],
   "source": [
    "output_list = []\n",
    "for each in range(1,11):\n",
    "    output_list.append(each**2)\n",
    "#     print(output_list)\n",
    "    \n",
    "output_list    "
   ]
  },
  {
   "cell_type": "markdown",
   "metadata": {},
   "source": [
    "2. generate a list holding square of even integers"
   ]
  },
  {
   "cell_type": "code",
   "execution_count": 38,
   "metadata": {},
   "outputs": [
    {
     "data": {
      "text/plain": [
       "[4, 16, 36, 64, 100]"
      ]
     },
     "execution_count": 38,
     "metadata": {},
     "output_type": "execute_result"
    }
   ],
   "source": [
    "sqrt_even = []\n",
    "for each in range(1,11):\n",
    "    if each % 2 == 0:\n",
    "        sqrt_even.append(each**2)\n",
    "    \n",
    "sqrt_even "
   ]
  },
  {
   "cell_type": "code",
   "execution_count": 39,
   "metadata": {},
   "outputs": [
    {
     "data": {
      "text/plain": [
       "[4, 16, 36, 64, 100]"
      ]
     },
     "execution_count": 39,
     "metadata": {},
     "output_type": "execute_result"
    }
   ],
   "source": [
    "sqrt_even = []\n",
    "for each in range(2,11, 2):\n",
    "        sqrt_even.append(each**2)\n",
    "    \n",
    "sqrt_even "
   ]
  },
  {
   "cell_type": "markdown",
   "metadata": {},
   "source": [
    "3. generate a list with encoding between inetegres 1 to 10:\n",
    "        - if number is even, 'E'\n",
    "        - if number  is odd, 'O'\n",
    "output_list = ['o','e','o','e']        "
   ]
  },
  {
   "cell_type": "code",
   "execution_count": 40,
   "metadata": {},
   "outputs": [
    {
     "data": {
      "text/plain": [
       "['o', 'e', 'o', 'e', 'o', 'e', 'o', 'e', 'o', 'e']"
      ]
     },
     "execution_count": 40,
     "metadata": {},
     "output_type": "execute_result"
    }
   ],
   "source": [
    "encoded_list = []\n",
    "for each in range(1,11):\n",
    "    if each % 2 == 0:\n",
    "        encoded_list.append('e')\n",
    "    else:\n",
    "        encoded_list.append('o')\n",
    "    \n",
    "encoded_list "
   ]
  },
  {
   "cell_type": "markdown",
   "metadata": {},
   "source": [
    "### Tuple"
   ]
  },
  {
   "cell_type": "markdown",
   "metadata": {},
   "source": [
    "Tuple properties:\n",
    "    - ordered data and indexable\n",
    "    - allows duplicate members\n",
    "    - hetrogenous data type\n",
    "    - immutable/unchangeable"
   ]
  },
  {
   "cell_type": "code",
   "execution_count": 41,
   "metadata": {},
   "outputs": [
    {
     "name": "stdout",
     "output_type": "stream",
     "text": [
      "<class 'tuple'>\n",
      "(1, 2, 3, 4)\n",
      "<class 'tuple'>\n",
      "(1, 2, 3, 4, 4)\n",
      "<class 'tuple'>\n",
      "(1, 2, 3, 4, '5')\n",
      "<class 'tuple'>\n",
      "(1, 2, 3, 4, [4, 5, 6])\n"
     ]
    }
   ],
   "source": [
    "## create  a tuple\n",
    "print(type((1,2,3,4)))\n",
    "print((1,2,3,4))\n",
    "print(type((1,2,3,4, 4)))\n",
    "print((1,2,3,4,4))\n",
    "print(type((1,2,3,4, '5')))\n",
    "print((1,2,3,4,'5'))\n",
    "print(type((1,2,3,4, [1,2,3])))\n",
    "print((1,2,3,4,[4,5,6]))"
   ]
  },
  {
   "cell_type": "code",
   "execution_count": 42,
   "metadata": {},
   "outputs": [
    {
     "name": "stdout",
     "output_type": "stream",
     "text": [
      "<class 'list'>\n",
      "(12, 3, 4)\n",
      "<class 'tuple'>\n"
     ]
    }
   ],
   "source": [
    "mylist = [12,3,4]\n",
    "print(type(mylist))\n",
    "### converting to a tuple type\n",
    "print(tuple(mylist))\n",
    "print(type(tuple(mylist)))"
   ]
  },
  {
   "cell_type": "code",
   "execution_count": 43,
   "metadata": {},
   "outputs": [],
   "source": [
    "# indexing, negative indexing, slicing , negative slicing are appliable to the tuple"
   ]
  },
  {
   "cell_type": "code",
   "execution_count": 44,
   "metadata": {},
   "outputs": [],
   "source": [
    "mytuple = (1,2,3,4,4,(1,4,5,6),'a','b','c')"
   ]
  },
  {
   "cell_type": "code",
   "execution_count": 45,
   "metadata": {},
   "outputs": [
    {
     "name": "stdout",
     "output_type": "stream",
     "text": [
      "1\n",
      "c\n"
     ]
    }
   ],
   "source": [
    "# fetch 1st element \n",
    "print(mytuple[0])\n",
    "# fetch last element\n",
    "print(mytuple[-1])"
   ]
  },
  {
   "cell_type": "code",
   "execution_count": 46,
   "metadata": {},
   "outputs": [],
   "source": [
    "#### immutable property\n",
    "mytuple = (1,2,3,4,4,(1,4,5,6),'a','b','c')\n",
    "# mytuple[5] = 'a' # immutable\n",
    "mytuple = (1,2,3)"
   ]
  },
  {
   "cell_type": "code",
   "execution_count": 47,
   "metadata": {},
   "outputs": [],
   "source": [
    "# adding an element/modifying/delete"
   ]
  },
  {
   "cell_type": "code",
   "execution_count": 48,
   "metadata": {},
   "outputs": [],
   "source": [
    "mylist = [1,2,3]\n",
    "mytuple = (1,2,3)"
   ]
  },
  {
   "cell_type": "code",
   "execution_count": 49,
   "metadata": {},
   "outputs": [
    {
     "name": "stdout",
     "output_type": "stream",
     "text": [
      "88\n",
      "72\n",
      "64\n",
      "48\n"
     ]
    }
   ],
   "source": [
    "from sys import getsizeof\n",
    "print(getsizeof(mylist))\n",
    "print(getsizeof(mytuple))\n",
    "print(getsizeof([]))\n",
    "print(getsizeof(()))"
   ]
  },
  {
   "cell_type": "code",
   "execution_count": 50,
   "metadata": {},
   "outputs": [
    {
     "name": "stdout",
     "output_type": "stream",
     "text": [
      "8\n",
      "1\n"
     ]
    }
   ],
   "source": [
    "mytuple = (1,2,3,1,1,1,1,1,1,1)\n",
    "print(mytuple.count(1))\n",
    "print(mytuple.index(2))"
   ]
  },
  {
   "cell_type": "code",
   "execution_count": 51,
   "metadata": {},
   "outputs": [
    {
     "data": {
      "text/plain": [
       "2"
      ]
     },
     "execution_count": 51,
     "metadata": {},
     "output_type": "execute_result"
    }
   ],
   "source": [
    "mytuple[1]"
   ]
  }
 ],
 "metadata": {
  "kernelspec": {
   "display_name": "Python 3",
   "language": "python",
   "name": "python3"
  },
  "language_info": {
   "codemirror_mode": {
    "name": "ipython",
    "version": 3
   },
   "file_extension": ".py",
   "mimetype": "text/x-python",
   "name": "python",
   "nbconvert_exporter": "python",
   "pygments_lexer": "ipython3",
   "version": "3.7.6"
  }
 },
 "nbformat": 4,
 "nbformat_minor": 4
}
